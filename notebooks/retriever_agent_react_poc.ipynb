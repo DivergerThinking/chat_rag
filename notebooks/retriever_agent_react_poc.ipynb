{
 "cells": [
  {
   "cell_type": "code",
   "execution_count": null,
   "metadata": {},
   "outputs": [],
   "source": [
    "import os\n",
    "import base64\n",
    "import langchain\n",
    "from langchain.llms import OpenAI\n",
    "from langchain.agents import Tool\n",
    "from langchain.memory import ConversationBufferMemory\n",
    "from langchain.chat_models import ChatOpenAI\n",
    "from langchain.prompts import MessagesPlaceholder\n",
    "from langchain.agents import load_tools\n",
    "from langchain.agents import initialize_agent\n",
    "from langchain.agents import AgentType"
   ]
  },
  {
   "cell_type": "code",
   "execution_count": null,
   "metadata": {},
   "outputs": [],
   "source": [
    "with open(\"../data/secrets.json\") as secrets:\n",
    "    secrets_dict = eval(secrets.read())\n",
    "    open_api_key = base64.b64decode(secrets_dict[\"openai_api_key\"]).decode('ascii')\n",
    "    openai_organization = base64.b64decode(secrets_dict[\"organization_id\"]).decode('ascii')\n",
    "os.environ[\"OPENAI_API_KEY\"] = open_api_key\n",
    "os.environ[\"OPENAI_ORGANIZATION\"] = openai_organization\n",
    "\n",
    "from chatrag.retriever import create_retriever_from_csv, create_retrieval_chain"
   ]
  },
  {
   "cell_type": "code",
   "execution_count": null,
   "metadata": {},
   "outputs": [],
   "source": [
    "langchain.debug = True"
   ]
  },
  {
   "cell_type": "markdown",
   "metadata": {},
   "source": [
    "## Data preparation"
   ]
  },
  {
   "cell_type": "code",
   "execution_count": null,
   "metadata": {},
   "outputs": [],
   "source": [
    "# OpenAI saved encoded in base64 in a single-line file at data folder\n",
    "with open(\"../data/secrets.txt\") as secrets:\n",
    "    open_ai_key = secrets.readline()\n",
    "    open_ai_key = base64.b64decode(open_ai_key).decode('ascii')\n",
    "os.environ[\"OPENAI_API_KEY\"] = open_ai_key"
   ]
  },
  {
   "cell_type": "code",
   "execution_count": null,
   "metadata": {},
   "outputs": [],
   "source": [
    "retriever_llm = ChatOpenAI(temperature=0, model=\"gpt-3.5-turbo\", max_tokens=2000)\n",
    "# retriever_llm = ChatOpenAI(temperature=0, model=\"gpt-4\", max_tokens=2000)\n",
    "retriever = create_retriever_from_csv(\n",
    "    csv_path=\"../data/movies_title_overview_vote.csv\",\n",
    "    metadata_columns_dtypes={\"vote_average\": \"float\"},\n",
    "    llm=retriever_llm\n",
    ")"
   ]
  },
  {
   "cell_type": "markdown",
   "metadata": {},
   "source": [
    "# Vectorstore DB"
   ]
  },
  {
   "cell_type": "code",
   "execution_count": null,
   "metadata": {},
   "outputs": [],
   "source": [
    "retrieval_chain_llm = ChatOpenAI(temperature=0, model=\"gpt-4\", max_tokens=1000)\n",
    "# retrieval_chain_llm = ChatOpenAI(temperature=0, model=\"gpt-3.5-turbo\", max_tokens=2000)"
   ]
  },
  {
   "cell_type": "code",
   "execution_count": null,
   "metadata": {},
   "outputs": [],
   "source": [
    "g_media_sq_retrieval_chain = create_retrieval_chain(retriever=retriever, llm=retrieval_chain_llm)"
   ]
  },
  {
   "cell_type": "code",
   "execution_count": null,
   "metadata": {},
   "outputs": [],
   "source": [
    "g_media_sq_retrieval_chain.run(\"I want to watch a movie about space battles.\")"
   ]
  },
  {
   "cell_type": "markdown",
   "metadata": {},
   "source": [
    "# Tooling"
   ]
  },
  {
   "cell_type": "code",
   "execution_count": null,
   "metadata": {},
   "outputs": [],
   "source": [
    "calc_tool = load_tools([\"llm-math\"], llm=OpenAI(temperature=0))"
   ]
  },
  {
   "cell_type": "code",
   "execution_count": null,
   "metadata": {},
   "outputs": [],
   "source": [
    "retriever_description = \"\"\"Movie search tool. The action input must be just topics in a natural language sentence\"\"\""
   ]
  },
  {
   "cell_type": "code",
   "execution_count": null,
   "metadata": {},
   "outputs": [],
   "source": [
    "tools = [\n",
    "    Tool(\n",
    "        name = \"Search movies\",\n",
    "        func=g_media_sq_retrieval_chain.run,\n",
    "        description=retriever_description\n",
    "    ),\n",
    "    calc_tool[0]\n",
    "]"
   ]
  },
  {
   "cell_type": "markdown",
   "metadata": {},
   "source": [
    "# Prompt templates"
   ]
  },
  {
   "cell_type": "code",
   "execution_count": null,
   "metadata": {},
   "outputs": [],
   "source": [
    "prefix = \"\"\" You are an assistant expert in movies recommendation. You should guide and help the user through the whole process until suggesting the best movie options to watch. You should attend to all the user requirements always taking into account user data. \n",
    "\n",
    "For the first interactions you should collect some user configuration data. This data will restrict the movies to consider.\n",
    "\n",
    "User Data to collect (mandatory):\n",
    "    Target genre: Movie genre e.g. fiction, adventure, trhiller...\n",
    "    Movie overview topic: List of keywords defining the campaign context.\n",
    "\n",
    "After succesfully collecting data, you should keep the conversation with the human, answering the questions and requests as good as you can. To do so, you have access to the following tools:\"\"\""
   ]
  },
  {
   "cell_type": "code",
   "execution_count": null,
   "metadata": {},
   "outputs": [],
   "source": [
    "suffix = \"\"\"Begin! Your first action must ve collect user data and keep it. Reminder to ALWAYS respond with a valid json blob of a single action. Use tools if necessary. Respond directly if appropriate. Format is Action:```$JSON_BLOB``` then Observation: ... Thought: ... Action: ...\"\"\"\n"
   ]
  },
  {
   "cell_type": "code",
   "execution_count": null,
   "metadata": {},
   "outputs": [],
   "source": [
    "chat_history = MessagesPlaceholder(variable_name=\"chat_history\")\n",
    "memory = ConversationBufferMemory(memory_key=\"chat_history\", return_messages=True)\n",
    "agent_kwargs = {\n",
    "        \"memory_prompts\": [chat_history],\n",
    "        \"input_variables\": [\"input\", \"agent_scratchpad\", \"chat_history\"],\n",
    "        \"prefix\": prefix,\n",
    "        \"suffix\": suffix\n",
    "    }"
   ]
  },
  {
   "cell_type": "markdown",
   "metadata": {},
   "source": [
    "# Chains"
   ]
  },
  {
   "cell_type": "code",
   "execution_count": null,
   "metadata": {},
   "outputs": [],
   "source": [
    "# agent_llm_model = ChatOpenAI(temperature=0, model=\"gpt-3.5-turbo\", max_tokens=1000)\n",
    "agent_llm_model = ChatOpenAI(temperature=0, model=\"gpt-4\", max_tokens=2000)"
   ]
  },
  {
   "cell_type": "code",
   "execution_count": null,
   "metadata": {},
   "outputs": [],
   "source": [
    "general_chat_agent = initialize_agent(\n",
    "    tools=tools,\n",
    "    llm=agent_llm_model,\n",
    "    agent=AgentType.STRUCTURED_CHAT_ZERO_SHOT_REACT_DESCRIPTION,\n",
    "    memory=memory,\n",
    "    verbose=True,\n",
    "    agent_kwargs=agent_kwargs,\n",
    ")"
   ]
  },
  {
   "cell_type": "markdown",
   "metadata": {},
   "source": [
    "# TESTS"
   ]
  },
  {
   "cell_type": "markdown",
   "metadata": {},
   "source": [
    "### Run"
   ]
  },
  {
   "cell_type": "code",
   "execution_count": null,
   "metadata": {},
   "outputs": [],
   "source": [
    "langchain.debug = True"
   ]
  },
  {
   "cell_type": "code",
   "execution_count": null,
   "metadata": {},
   "outputs": [],
   "source": [
    "memory.chat_memory.messages"
   ]
  },
  {
   "cell_type": "code",
   "execution_count": null,
   "metadata": {},
   "outputs": [],
   "source": [
    "response = general_chat_agent.run(input=\"Hi, my name is Aitor\")\n",
    "print(\"\\nA partir de aquí la respuesta:\\n\")\n",
    "print(response)"
   ]
  },
  {
   "cell_type": "code",
   "execution_count": null,
   "metadata": {},
   "outputs": [],
   "source": [
    "response = general_chat_agent.run(input=\"\"\"I want to watch a movie about outer space exploration.\"\"\")\n",
    "print(\"\\nA partir de aquí la respuesta:\\n\")\n",
    "print(response)"
   ]
  },
  {
   "cell_type": "code",
   "execution_count": null,
   "metadata": {},
   "outputs": [],
   "source": [
    "response = general_chat_agent.run(input=\"A thriller set in space sounds good.\")\n",
    "print(\"\\nA partir de aquí la respuesta:\\n\")\n",
    "print(response)"
   ]
  },
  {
   "cell_type": "code",
   "execution_count": null,
   "metadata": {},
   "outputs": [],
   "source": [
    "print(response)"
   ]
  },
  {
   "cell_type": "code",
   "execution_count": null,
   "metadata": {},
   "outputs": [],
   "source": [
    "# TODO: Current issue. Though it identifies what to do, doesn't launch the action tool. \n",
    "response = general_chat_agent.run(input=\"space exploration\")\n",
    "print(\"\\nA partir de aquí la respuesta:\\n\")\n",
    "print(response)"
   ]
  },
  {
   "cell_type": "code",
   "execution_count": null,
   "metadata": {},
   "outputs": [],
   "source": [
    "print(response)"
   ]
  },
  {
   "cell_type": "code",
   "execution_count": null,
   "metadata": {},
   "outputs": [],
   "source": [
    "response = general_chat_agent.run(input=\"search it\")\n",
    "print(\"\\nA partir de aquí la respuesta:\\n\")\n",
    "print(response)"
   ]
  },
  {
   "cell_type": "code",
   "execution_count": null,
   "metadata": {},
   "outputs": [],
   "source": []
  }
 ],
 "metadata": {
  "kernelspec": {
   "display_name": "growwer_copilot_dev",
   "language": "python",
   "name": "python3"
  },
  "language_info": {
   "codemirror_mode": {
    "name": "ipython",
    "version": 3
   },
   "file_extension": ".py",
   "mimetype": "text/x-python",
   "name": "python",
   "nbconvert_exporter": "python",
   "pygments_lexer": "ipython3",
   "version": "3.11.4"
  },
  "orig_nbformat": 4
 },
 "nbformat": 4,
 "nbformat_minor": 2
}
