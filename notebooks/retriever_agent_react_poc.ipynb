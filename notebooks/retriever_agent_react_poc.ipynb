{
 "cells": [
  {
   "cell_type": "code",
   "execution_count": 1,
   "metadata": {},
   "outputs": [],
   "source": [
    "import os\n",
    "import base64\n",
    "import langchain\n",
    "from langchain.llms import OpenAI\n",
    "from langchain.agents import Tool\n",
    "from langchain.memory import ConversationBufferMemory\n",
    "from langchain.chat_models import ChatOpenAI\n",
    "from langchain.prompts import MessagesPlaceholder\n",
    "from langchain.agents import load_tools\n",
    "from langchain.agents import initialize_agent\n",
    "from langchain.agents import AgentType"
   ]
  },
  {
   "cell_type": "code",
   "execution_count": 2,
   "metadata": {},
   "outputs": [],
   "source": [
    "# OpenAI saved encoded in base64 in a single-line file at data folder\n",
    "with open(\"../data/secrets.txt\") as secrets:\n",
    "    open_ai_key = secrets.readline()\n",
    "    open_ai_key = base64.b64decode(open_ai_key).decode('ascii')\n",
    "os.environ[\"OPENAI_API_KEY\"] = open_ai_key\n",
    "\n",
    "from chatrag.retriever import create_retriever_from_csv, create_retrieval_chain"
   ]
  },
  {
   "cell_type": "code",
   "execution_count": 3,
   "metadata": {},
   "outputs": [],
   "source": [
    "langchain.debug = True"
   ]
  },
  {
   "cell_type": "markdown",
   "metadata": {},
   "source": [
    "## Data preparation"
   ]
  },
  {
   "cell_type": "code",
   "execution_count": 4,
   "metadata": {},
   "outputs": [],
   "source": [
    "# OpenAI saved encoded in base64 in a single-line file at data folder\n",
    "with open(\"../data/secrets.txt\") as secrets:\n",
    "    open_ai_key = secrets.readline()\n",
    "    open_ai_key = base64.b64decode(open_ai_key).decode('ascii')\n",
    "os.environ[\"OPENAI_API_KEY\"] = open_ai_key"
   ]
  },
  {
   "cell_type": "code",
   "execution_count": 5,
   "metadata": {},
   "outputs": [],
   "source": [
    "retriever_llm = ChatOpenAI(temperature=0, model=\"gpt-3.5-turbo\", max_tokens=2000)\n",
    "# retriever_llm = ChatOpenAI(temperature=0, model=\"gpt-4\", max_tokens=2000)\n",
    "retriever = create_retriever_from_csv(\n",
    "    csv_path=\"../data/movies_title_overview_vote.csv\",\n",
    "    metadata_columns_dtypes={\"vote_average\": \"float\"},\n",
    "    llm=retriever_llm\n",
    ")"
   ]
  },
  {
   "cell_type": "markdown",
   "metadata": {},
   "source": [
    "# Vectorstore DB"
   ]
  },
  {
   "cell_type": "code",
   "execution_count": 6,
   "metadata": {},
   "outputs": [],
   "source": [
    "retrieval_chain_llm = ChatOpenAI(temperature=0, model=\"gpt-4\", max_tokens=1000)\n",
    "# retrieval_chain_llm = ChatOpenAI(temperature=0, model=\"gpt-3.5-turbo\", max_tokens=2000)"
   ]
  },
  {
   "cell_type": "code",
   "execution_count": 7,
   "metadata": {},
   "outputs": [],
   "source": [
    "g_media_sq_retrieval_chain = create_retrieval_chain(retriever=retriever, llm=retrieval_chain_llm)"
   ]
  },
  {
   "cell_type": "code",
   "execution_count": 8,
   "metadata": {},
   "outputs": [
    {
     "name": "stdout",
     "output_type": "stream",
     "text": [
      "\u001b[32;1m\u001b[1;3m[chain/start]\u001b[0m \u001b[1m[1:chain:RetrievalQA] Entering Chain run with input:\n",
      "\u001b[0m{\n",
      "  \"query\": \"I want to watch a movie about space battles.\"\n",
      "}\n",
      "\u001b[32;1m\u001b[1;3m[chain/start]\u001b[0m \u001b[1m[1:chain:RetrievalQA > 2:retriever:Retriever > 3:chain:LLMChain] Entering Chain run with input:\n",
      "\u001b[0m{\n",
      "  \"query\": \"I want to watch a movie about space battles.\"\n",
      "}\n",
      "\u001b[32;1m\u001b[1;3m[llm/start]\u001b[0m \u001b[1m[1:chain:RetrievalQA > 2:retriever:Retriever > 3:chain:LLMChain > 4:llm:ChatOpenAI] Entering LLM run with input:\n",
      "\u001b[0m{\n",
      "  \"prompts\": [\n",
      "    \"Human: Your goal is to structure the user's query to match the request schema provided below.\\n\\n<< Structured Request Schema >>\\nWhen responding use a markdown code snippet with a JSON object formatted in the following schema:\\n\\n```json\\n{\\n    \\\"query\\\": string \\\\ text string to compare to document contents\\n    \\\"filter\\\": string \\\\ logical condition statement for filtering documents\\n}\\n```\\n\\nThe query string should contain only text that is expected to match the contents of documents. Any conditions in the filter should not be mentioned in the query as well.\\n\\nA logical condition statement is composed of one or more comparison and logical operation statements.\\n\\nA comparison statement takes the form: `comp(attr, val)`:\\n- `comp` (eq | ne | gt | gte | lt | lte): comparator\\n- `attr` (string):  name of attribute to apply the comparison to\\n- `val` (string): is the comparison value\\n\\nA logical operation statement takes the form `op(statement1, statement2, ...)`:\\n- `op` (and | or): logical operator\\n- `statement1`, `statement2`, ... (comparison statements or logical operation statements): one or more statements to apply the operation to\\n\\nMake sure that you only use the comparators and logical operators listed above and no others.\\nMake sure that filters only refer to attributes that exist in the data source.\\nMake sure that filters only use the attributed names with its function names if there are functions applied on them.\\nMake sure that filters only use format `YYYY-MM-DD` when handling timestamp data typed values.\\nMake sure that filters take into account the descriptions of attributes and only make comparisons that are feasible given the type of data being stored.\\nMake sure that filters are only used as needed. If there are no filters that should be applied return \\\"NO_FILTER\\\" for the filter value.\\n\\n<< Example 1. >>\\nData Source:\\n```json\\n{\\n    \\\"content\\\": \\\"Lyrics of a song\\\",\\n    \\\"attributes\\\": {\\n        \\\"artist\\\": {\\n            \\\"type\\\": \\\"string\\\",\\n            \\\"description\\\": \\\"Name of the song artist\\\"\\n        },\\n        \\\"length\\\": {\\n            \\\"type\\\": \\\"integer\\\",\\n            \\\"description\\\": \\\"Length of the song in seconds\\\"\\n        },\\n        \\\"genre\\\": {\\n            \\\"type\\\": \\\"string\\\",\\n            \\\"description\\\": \\\"The song genre, one of \\\"pop\\\", \\\"rock\\\" or \\\"rap\\\"\\\"\\n        }\\n    }\\n}\\n```\\n\\nUser Query:\\nWhat are songs by Taylor Swift or Katy Perry about teenage romance under 3 minutes long in the dance pop genre\\n\\nStructured Request:\\n```json\\n{\\n    \\\"query\\\": \\\"teenager love\\\",\\n    \\\"filter\\\": \\\"and(or(eq(\\\\\\\"artist\\\\\\\", \\\\\\\"Taylor Swift\\\\\\\"), eq(\\\\\\\"artist\\\\\\\", \\\\\\\"Katy Perry\\\\\\\")), lt(\\\\\\\"length\\\\\\\", 180), eq(\\\\\\\"genre\\\\\\\", \\\\\\\"pop\\\\\\\"))\\\"\\n}\\n```\\n\\n\\n<< Example 2. >>\\nData Source:\\n```json\\n{\\n    \\\"content\\\": \\\"Lyrics of a song\\\",\\n    \\\"attributes\\\": {\\n        \\\"artist\\\": {\\n            \\\"type\\\": \\\"string\\\",\\n            \\\"description\\\": \\\"Name of the song artist\\\"\\n        },\\n        \\\"length\\\": {\\n            \\\"type\\\": \\\"integer\\\",\\n            \\\"description\\\": \\\"Length of the song in seconds\\\"\\n        },\\n        \\\"genre\\\": {\\n            \\\"type\\\": \\\"string\\\",\\n            \\\"description\\\": \\\"The song genre, one of \\\"pop\\\", \\\"rock\\\" or \\\"rap\\\"\\\"\\n        }\\n    }\\n}\\n```\\n\\nUser Query:\\nWhat are songs that were not published on Spotify\\n\\nStructured Request:\\n```json\\n{\\n    \\\"query\\\": \\\"\\\",\\n    \\\"filter\\\": \\\"NO_FILTER\\\"\\n}\\n```\\n\\n\\n<< Example 3. >>\\nData Source:\\n```json\\n{\\n    \\\"content\\\": \\\"List of movies with an overview and scoring from a public website.\\\",\\n    \\\"attributes\\\": {\\n    \\\"vote_average\\\": {\\n        \\\"description\\\": \\\"The average score given to the movie.\\\",\\n        \\\"type\\\": \\\"float\\\"\\n    }\\n}\\n}\\n```\\n\\nUser Query:\\nI want to watch a movie about space battles.\\n\\nStructured Request:\"\n",
      "  ]\n",
      "}\n"
     ]
    },
    {
     "name": "stderr",
     "output_type": "stream",
     "text": [
      "/Users/itortouch/miniconda3/envs/test_pip_github/lib/python3.11/site-packages/langchain/chains/llm.py:278: UserWarning: The predict_and_parse method is deprecated, instead pass an output parser directly to LLMChain.\n",
      "  warnings.warn(\n"
     ]
    },
    {
     "name": "stdout",
     "output_type": "stream",
     "text": [
      "\u001b[36;1m\u001b[1;3m[llm/end]\u001b[0m \u001b[1m[1:chain:RetrievalQA > 2:retriever:Retriever > 3:chain:LLMChain > 4:llm:ChatOpenAI] [1.84s] Exiting LLM run with output:\n",
      "\u001b[0m{\n",
      "  \"generations\": [\n",
      "    [\n",
      "      {\n",
      "        \"text\": \"```json\\n{\\n    \\\"query\\\": \\\"space battles\\\",\\n    \\\"filter\\\": \\\"NO_FILTER\\\"\\n}\\n```\",\n",
      "        \"generation_info\": {\n",
      "          \"finish_reason\": \"stop\"\n",
      "        },\n",
      "        \"message\": {\n",
      "          \"lc\": 1,\n",
      "          \"type\": \"constructor\",\n",
      "          \"id\": [\n",
      "            \"langchain\",\n",
      "            \"schema\",\n",
      "            \"messages\",\n",
      "            \"AIMessage\"\n",
      "          ],\n",
      "          \"kwargs\": {\n",
      "            \"content\": \"```json\\n{\\n    \\\"query\\\": \\\"space battles\\\",\\n    \\\"filter\\\": \\\"NO_FILTER\\\"\\n}\\n```\",\n",
      "            \"additional_kwargs\": {}\n",
      "          }\n",
      "        }\n",
      "      }\n",
      "    ]\n",
      "  ],\n",
      "  \"llm_output\": {\n",
      "    \"token_usage\": {\n",
      "      \"prompt_tokens\": 829,\n",
      "      \"completion_tokens\": 22,\n",
      "      \"total_tokens\": 851\n",
      "    },\n",
      "    \"model_name\": \"gpt-3.5-turbo\"\n",
      "  },\n",
      "  \"run\": null\n",
      "}\n",
      "\u001b[36;1m\u001b[1;3m[chain/end]\u001b[0m \u001b[1m[1:chain:RetrievalQA > 2:retriever:Retriever > 3:chain:LLMChain] [1.84s] Exiting Chain run with output:\n",
      "\u001b[0m{\n",
      "  \"text\": \"```json\\n{\\n    \\\"query\\\": \\\"space battles\\\",\\n    \\\"filter\\\": \\\"NO_FILTER\\\"\\n}\\n```\"\n",
      "}\n",
      "query='space battles' filter=None limit=None\n",
      "\u001b[32;1m\u001b[1;3m[chain/start]\u001b[0m \u001b[1m[1:chain:RetrievalQA > 5:chain:StuffDocumentsChain] Entering Chain run with input:\n",
      "\u001b[0m[inputs]\n",
      "\u001b[32;1m\u001b[1;3m[chain/start]\u001b[0m \u001b[1m[1:chain:RetrievalQA > 5:chain:StuffDocumentsChain > 6:chain:LLMChain] Entering Chain run with input:\n",
      "\u001b[0m{\n",
      "  \"question\": \"I want to watch a movie about space battles.\",\n",
      "  \"context\": \"title: Space Battleship Yamato\\noverview: In 2199, five years after the Gamilons began an invasion of Earth, the planet has been ravaged by the aliens' bombs. The remnants of humanity have fled underground to escape the irradiated surface. One day, former pilot Susumu Kodai discovers a capsule sent from the planet Iscandar that tells of a device that can remove the radiation from the Earth's surface. The Earth Defense Force rebuilds the battleship Yamato with a new type of propulsion system to make the 148,000 light year trip to Iscandar in hopes of saving the Earth. Within one year, the radiation will drive the rest of humanity to extinction.\\nvote_average: 6.3\\n\\ntitle: Battleship\\noverview: When mankind beams a radio signal into space, a reply comes from ‘Planet G’, in the form of several alien crafts that splash down in the waters off Hawaii. Lieutenant Alex Hopper is a weapons officer assigned to the USS John Paul Jones, part of an international naval coalition which becomes the world's last hope for survival as they engage the hostile alien force of unimaginable strength. While taking on the invaders, Hopper must also try to live up to the potential his brother, and his fiancée's father, Admiral Shane, expect of him.\\nvote_average: 5.5\\n\\ntitle: Galaxy Quest\\noverview: The stars of a 1970s sci-fi show - now scraping a living through re-runs and sci-fi conventions - are beamed aboard an alien spacecraft. Believing the cast's heroic on-screen dramas are historical documents of real-life adventures, the band of aliens turn to the ailing celebrities for help in their quest to overcome the oppressive regime in their solar system.\\nvote_average: 6.9\\n\\ntitle: Treasure Planet\\noverview: When space galleon cabin boy Jim Hawkins discovers a map to an intergalactic \\\"loot of a thousand worlds,\\\" a cyborg cook named John Silver teaches him to battle supernovas and space storms. But, soon, Jim realizes Silver is a pirate intent on mutiny!\\nvote_average: 7.2\\n\\ntitle: Space Cowboys\\noverview: Frank Corvin, ‘Hawk’ Hawkins, Jerry O'Neill and ‘Tank’ Sullivan were hotdog members of Project Daedalus, the Air Force's test program for space travel, but their hopes were dashed in 1958 with the formation of NASA and the use of trained chimps. They blackmail their way into orbit when Russia's mysterious ‘Ikon’ communications satellite's orbit begins to degrade and threatens to crash to Earth.\\nvote_average: 6.3\\n\\ntitle: Journey to Saturn\\noverview: A Danish crew of misfits travel to Saturn in search for natural resources. However, the planet is colonized by a ruthless army of Aliens that turn their eye on Earth and invade Denmark. Thus, the crew change their mission to liberate Denmark.\\nvote_average: 4.9\\n\\ntitle: Zathura: A Space Adventure\\noverview: After their father is called into work, two young boys, Walter and Danny, are left in the care of their teenage sister, Lisa, and told they must stay inside. Walter and Danny, who anticipate a boring day, are shocked when they begin playing Zathura, a space-themed board game, which they realize has mystical powers when their house is shot into space. With the help of an astronaut, the boys attempt to return home.\\nvote_average: 6.1\\n\\ntitle: Gravity\\noverview: Dr. Ryan Stone, a brilliant medical engineer on her first Shuttle mission, with veteran astronaut Matt Kowalsky in command of his last flight before retiring. But on a seemingly routine spacewalk, disaster strikes. The Shuttle is destroyed, leaving Stone and Kowalsky completely alone-tethered to nothing but each other and spiraling out into the blackness of space. The deafening silence tells them they have lost any link to Earth and any chance for rescue. As fear turns to panic, every gulp of air eats away at what little oxygen is left. But the only way home may be to go further out into the terrifying expanse of space.\\nvote_average: 7.3\\n\\ntitle: Spaced Invaders\\noverview: A crew of Martians overhears a radio broadcast of Orson Welles' \\\"War of the Worlds\\\" coming from Earth, and, thinking the Martian fleet is attacking Earth, they land their broken-down ship in a backwater mid-American town. As luck would have it, they land on Halloween and get mistaken for trick-or-treaters. Comedy ensues as the Martians try to get taken seriously.\\nvote_average: 4.7\\n\\ntitle: Independence Day\\noverview: On July 2, a giant alien mothership enters orbit around Earth and deploys several dozen saucer-shaped 'destroyer' spacecraft that quickly lay waste to major cities around the planet. On July 3, the United States conducts a coordinated counterattack that fails. On July 4, a plan is devised to gain access to the interior of the alien mothership in space, in order to plant a nuclear missile.\\nvote_average: 6.7\\n\\ntitle: Master and Commander: The Far Side of the World\\noverview: After an abrupt and violent encounter with a French warship inflicts severe damage upon his ship, a captain of the British Royal Navy begins a chase over two oceans to capture or destroy the enemy, though he must weigh his commitment to duty and ferocious pursuit of glory against the safety of his devoted crew, including the ship's thoughtful surgeon, his best friend.\\nvote_average: 6.9\\n\\ntitle: Interstellar\\noverview: Interstellar chronicles the adventures of a group of explorers who make use of a newly discovered wormhole to surpass the limitations on human space travel and conquer the vast distances involved in an interstellar voyage.\\nvote_average: 8.1\\n\\ntitle: Galaxina\\noverview: Galaxina is a lifelike, voluptuous android who is assigned to oversee the operations of an intergalactic Space Police cruiser captained by incompetent Cornelius Butt. When a mission requires the ship's crew to be placed in suspended animation for decades, Galaxina finds herself alone for many years, developing emotions and falling in love with the ship's pilot, Thor.\\nvote_average: 3.3\\n\\ntitle: Lost in Space\\noverview: The prospects for continuing life on Earth in the year 2058 are grim. So the Robinsons are launched into space to colonize Alpha Prime, the only other inhabitable planet in the galaxy. But when a stowaway sabotages the mission, the Robinsons find themselves hurtling through uncharted space.\\nvote_average: 5.0\\n\\ntitle: Sphere\\noverview: The OSSA discovers a spacecraft thought to be at least 300 years old at the bottom of the ocean. Immediately following the discovery, they decide to send a team down to the depths of the ocean to study the space craft.They are the best of best, smart and logical, and the perfect choice to learn more about the spacecraft.\\nvote_average: 5.8\\n\\ntitle: Space Dogs\\noverview: Belka, the amazing flying dog is unexpectedly hurdled into the streets of Moscow when the rocket she is in malfunctions during one of her circus routines. Fortunately the crash leads her to meet a streetwise dog named Strelka and her irredeemable rat friend Venya. Together with other amusing friends found along the way, the three find themselves in a space program-training center where they get sent away in a rocket, leaving planet Earth...\\nvote_average: 6.3\\n\\ntitle: Battle: Los Angeles\\noverview: The Earth is attacked by unknown forces. As people everywhere watch the world's great cities fall, Los Angeles becomes the last stand for mankind in a battle no one expected. It's up to a Marine staff sergeant and his new platoon to draw a line in the sand as they take on an enemy unlike any they've ever encountered before.\\nvote_average: 5.5\\n\\ntitle: Event Horizon\\noverview: In the year 2047 a group of astronauts are sent to investigate and salvage the long lost starship \\\"Event Horizon\\\". The ship disappeared mysteriously 7 years before on its maiden voyage and with its return comes even more mystery as the crew of the \\\"Lewis and Clark\\\" discover the real truth behind its disappearance and something even more terrifying.\\nvote_average: 6.5\\n\\ntitle: The Black Hole\\noverview: The explorer craft U.S.S. Palomino is returning to Earth after a fruitless 18-month search for extra-terrestrial life when the crew comes upon a supposedly lost ship, the magnificent U.S.S. Cygnus, hovering near a black hole. The ship is controlled by Dr. Hans Reinhardt and his monstrous robot companion, Maximillian. But the initial wonderment and awe the Palomino crew feel for the ship and its resistance to the power of the black hole turn to horror as they uncover Reinhardt's plans.\\nvote_average: 6.1\\n\\ntitle: Battlefield Earth\\noverview: In the year 3000, man is no match for the Psychlos, a greedy, manipulative race of aliens on a quest for ultimate profit. Led by the powerful Terl, the Psychlos are stripping Earth clean of its natural resources, using the broken remnants of humanity as slaves. What is left of the human race has descended into a near primitive state. After being captured, it is up to Tyler to save mankind.\\nvote_average: 3.0\"\n",
      "}\n",
      "\u001b[32;1m\u001b[1;3m[llm/start]\u001b[0m \u001b[1m[1:chain:RetrievalQA > 5:chain:StuffDocumentsChain > 6:chain:LLMChain > 7:llm:ChatOpenAI] Entering LLM run with input:\n",
      "\u001b[0m{\n",
      "  \"prompts\": [\n",
      "    \"Human: Use the following movies data to find the best matches for the user request in the question overview topic. Rules:\\n    - You can return more than one movie if they are a good match.\\n    - Answer with movie names of the medias and a short text justifying the choice.\\n    - The justification must take into account overview topic matching and vote average score (higher=better).\\n\\n    Media data:\\n    title: Space Battleship Yamato\\noverview: In 2199, five years after the Gamilons began an invasion of Earth, the planet has been ravaged by the aliens' bombs. The remnants of humanity have fled underground to escape the irradiated surface. One day, former pilot Susumu Kodai discovers a capsule sent from the planet Iscandar that tells of a device that can remove the radiation from the Earth's surface. The Earth Defense Force rebuilds the battleship Yamato with a new type of propulsion system to make the 148,000 light year trip to Iscandar in hopes of saving the Earth. Within one year, the radiation will drive the rest of humanity to extinction.\\nvote_average: 6.3\\n\\ntitle: Battleship\\noverview: When mankind beams a radio signal into space, a reply comes from ‘Planet G’, in the form of several alien crafts that splash down in the waters off Hawaii. Lieutenant Alex Hopper is a weapons officer assigned to the USS John Paul Jones, part of an international naval coalition which becomes the world's last hope for survival as they engage the hostile alien force of unimaginable strength. While taking on the invaders, Hopper must also try to live up to the potential his brother, and his fiancée's father, Admiral Shane, expect of him.\\nvote_average: 5.5\\n\\ntitle: Galaxy Quest\\noverview: The stars of a 1970s sci-fi show - now scraping a living through re-runs and sci-fi conventions - are beamed aboard an alien spacecraft. Believing the cast's heroic on-screen dramas are historical documents of real-life adventures, the band of aliens turn to the ailing celebrities for help in their quest to overcome the oppressive regime in their solar system.\\nvote_average: 6.9\\n\\ntitle: Treasure Planet\\noverview: When space galleon cabin boy Jim Hawkins discovers a map to an intergalactic \\\"loot of a thousand worlds,\\\" a cyborg cook named John Silver teaches him to battle supernovas and space storms. But, soon, Jim realizes Silver is a pirate intent on mutiny!\\nvote_average: 7.2\\n\\ntitle: Space Cowboys\\noverview: Frank Corvin, ‘Hawk’ Hawkins, Jerry O'Neill and ‘Tank’ Sullivan were hotdog members of Project Daedalus, the Air Force's test program for space travel, but their hopes were dashed in 1958 with the formation of NASA and the use of trained chimps. They blackmail their way into orbit when Russia's mysterious ‘Ikon’ communications satellite's orbit begins to degrade and threatens to crash to Earth.\\nvote_average: 6.3\\n\\ntitle: Journey to Saturn\\noverview: A Danish crew of misfits travel to Saturn in search for natural resources. However, the planet is colonized by a ruthless army of Aliens that turn their eye on Earth and invade Denmark. Thus, the crew change their mission to liberate Denmark.\\nvote_average: 4.9\\n\\ntitle: Zathura: A Space Adventure\\noverview: After their father is called into work, two young boys, Walter and Danny, are left in the care of their teenage sister, Lisa, and told they must stay inside. Walter and Danny, who anticipate a boring day, are shocked when they begin playing Zathura, a space-themed board game, which they realize has mystical powers when their house is shot into space. With the help of an astronaut, the boys attempt to return home.\\nvote_average: 6.1\\n\\ntitle: Gravity\\noverview: Dr. Ryan Stone, a brilliant medical engineer on her first Shuttle mission, with veteran astronaut Matt Kowalsky in command of his last flight before retiring. But on a seemingly routine spacewalk, disaster strikes. The Shuttle is destroyed, leaving Stone and Kowalsky completely alone-tethered to nothing but each other and spiraling out into the blackness of space. The deafening silence tells them they have lost any link to Earth and any chance for rescue. As fear turns to panic, every gulp of air eats away at what little oxygen is left. But the only way home may be to go further out into the terrifying expanse of space.\\nvote_average: 7.3\\n\\ntitle: Spaced Invaders\\noverview: A crew of Martians overhears a radio broadcast of Orson Welles' \\\"War of the Worlds\\\" coming from Earth, and, thinking the Martian fleet is attacking Earth, they land their broken-down ship in a backwater mid-American town. As luck would have it, they land on Halloween and get mistaken for trick-or-treaters. Comedy ensues as the Martians try to get taken seriously.\\nvote_average: 4.7\\n\\ntitle: Independence Day\\noverview: On July 2, a giant alien mothership enters orbit around Earth and deploys several dozen saucer-shaped 'destroyer' spacecraft that quickly lay waste to major cities around the planet. On July 3, the United States conducts a coordinated counterattack that fails. On July 4, a plan is devised to gain access to the interior of the alien mothership in space, in order to plant a nuclear missile.\\nvote_average: 6.7\\n\\ntitle: Master and Commander: The Far Side of the World\\noverview: After an abrupt and violent encounter with a French warship inflicts severe damage upon his ship, a captain of the British Royal Navy begins a chase over two oceans to capture or destroy the enemy, though he must weigh his commitment to duty and ferocious pursuit of glory against the safety of his devoted crew, including the ship's thoughtful surgeon, his best friend.\\nvote_average: 6.9\\n\\ntitle: Interstellar\\noverview: Interstellar chronicles the adventures of a group of explorers who make use of a newly discovered wormhole to surpass the limitations on human space travel and conquer the vast distances involved in an interstellar voyage.\\nvote_average: 8.1\\n\\ntitle: Galaxina\\noverview: Galaxina is a lifelike, voluptuous android who is assigned to oversee the operations of an intergalactic Space Police cruiser captained by incompetent Cornelius Butt. When a mission requires the ship's crew to be placed in suspended animation for decades, Galaxina finds herself alone for many years, developing emotions and falling in love with the ship's pilot, Thor.\\nvote_average: 3.3\\n\\ntitle: Lost in Space\\noverview: The prospects for continuing life on Earth in the year 2058 are grim. So the Robinsons are launched into space to colonize Alpha Prime, the only other inhabitable planet in the galaxy. But when a stowaway sabotages the mission, the Robinsons find themselves hurtling through uncharted space.\\nvote_average: 5.0\\n\\ntitle: Sphere\\noverview: The OSSA discovers a spacecraft thought to be at least 300 years old at the bottom of the ocean. Immediately following the discovery, they decide to send a team down to the depths of the ocean to study the space craft.They are the best of best, smart and logical, and the perfect choice to learn more about the spacecraft.\\nvote_average: 5.8\\n\\ntitle: Space Dogs\\noverview: Belka, the amazing flying dog is unexpectedly hurdled into the streets of Moscow when the rocket she is in malfunctions during one of her circus routines. Fortunately the crash leads her to meet a streetwise dog named Strelka and her irredeemable rat friend Venya. Together with other amusing friends found along the way, the three find themselves in a space program-training center where they get sent away in a rocket, leaving planet Earth...\\nvote_average: 6.3\\n\\ntitle: Battle: Los Angeles\\noverview: The Earth is attacked by unknown forces. As people everywhere watch the world's great cities fall, Los Angeles becomes the last stand for mankind in a battle no one expected. It's up to a Marine staff sergeant and his new platoon to draw a line in the sand as they take on an enemy unlike any they've ever encountered before.\\nvote_average: 5.5\\n\\ntitle: Event Horizon\\noverview: In the year 2047 a group of astronauts are sent to investigate and salvage the long lost starship \\\"Event Horizon\\\". The ship disappeared mysteriously 7 years before on its maiden voyage and with its return comes even more mystery as the crew of the \\\"Lewis and Clark\\\" discover the real truth behind its disappearance and something even more terrifying.\\nvote_average: 6.5\\n\\ntitle: The Black Hole\\noverview: The explorer craft U.S.S. Palomino is returning to Earth after a fruitless 18-month search for extra-terrestrial life when the crew comes upon a supposedly lost ship, the magnificent U.S.S. Cygnus, hovering near a black hole. The ship is controlled by Dr. Hans Reinhardt and his monstrous robot companion, Maximillian. But the initial wonderment and awe the Palomino crew feel for the ship and its resistance to the power of the black hole turn to horror as they uncover Reinhardt's plans.\\nvote_average: 6.1\\n\\ntitle: Battlefield Earth\\noverview: In the year 3000, man is no match for the Psychlos, a greedy, manipulative race of aliens on a quest for ultimate profit. Led by the powerful Terl, the Psychlos are stripping Earth clean of its natural resources, using the broken remnants of humanity as slaves. What is left of the human race has descended into a near primitive state. After being captured, it is up to Tyler to save mankind.\\nvote_average: 3.0\\n\\n    Question overview topic:\\n    I want to watch a movie about space battles.\\n\\n    Example answer:\\n    1. Title: [selected movie title]\\n    - Justification: [Given justification]\\n    - Score: [vote_average]\\n\\n    Movies attending to rules and ordered from best to worst:\"\n",
      "  ]\n",
      "}\n",
      "\u001b[36;1m\u001b[1;3m[llm/end]\u001b[0m \u001b[1m[1:chain:RetrievalQA > 5:chain:StuffDocumentsChain > 6:chain:LLMChain > 7:llm:ChatOpenAI] [31.52s] Exiting LLM run with output:\n",
      "\u001b[0m{\n",
      "  \"generations\": [\n",
      "    [\n",
      "      {\n",
      "        \"text\": \"1. Title: Interstellar\\n   - Justification: Although not primarily focused on space battles, Interstellar offers a thrilling space adventure with high stakes and intense moments. It's highly rated and well-loved by audiences.\\n   - Score: 8.1\\n\\n2. Title: Treasure Planet\\n   - Justification: This animated film features space battles and adventures, with a unique blend of traditional pirate lore and futuristic sci-fi elements.\\n   - Score: 7.2\\n\\n3. Title: Gravity\\n   - Justification: While not featuring traditional space battles, Gravity is a high-stakes survival story set in space, with intense action sequences and a high average vote score.\\n   - Score: 7.3\\n\\n4. Title: Independence Day\\n   - Justification: Independence Day is a classic alien invasion film with several large-scale space battle scenes. It's a good choice if you're looking for action-packed sequences.\\n   - Score: 6.7\\n\\n5. Title: Space Battleship Yamato\\n   - Justification: The title itself suggests space battles, and the overview confirms a story of humanity's fight against alien invaders, making it a good match for the request.\\n   - Score: 6.3\\n\\n6. Title: Event Horizon\\n   - Justification: While not a traditional space battle movie, Event Horizon offers a thrilling and terrifying space adventure with a high-stakes plot.\\n   - Score: 6.5\\n\\n7. Title: Battleship\\n   - Justification: Battleship features a naval coalition fighting against a hostile alien force, providing plenty of battle scenes, though not all are set in space.\\n   - Score: 5.5\",\n",
      "        \"generation_info\": {\n",
      "          \"finish_reason\": \"stop\"\n",
      "        },\n",
      "        \"message\": {\n",
      "          \"lc\": 1,\n",
      "          \"type\": \"constructor\",\n",
      "          \"id\": [\n",
      "            \"langchain\",\n",
      "            \"schema\",\n",
      "            \"messages\",\n",
      "            \"AIMessage\"\n",
      "          ],\n",
      "          \"kwargs\": {\n",
      "            \"content\": \"1. Title: Interstellar\\n   - Justification: Although not primarily focused on space battles, Interstellar offers a thrilling space adventure with high stakes and intense moments. It's highly rated and well-loved by audiences.\\n   - Score: 8.1\\n\\n2. Title: Treasure Planet\\n   - Justification: This animated film features space battles and adventures, with a unique blend of traditional pirate lore and futuristic sci-fi elements.\\n   - Score: 7.2\\n\\n3. Title: Gravity\\n   - Justification: While not featuring traditional space battles, Gravity is a high-stakes survival story set in space, with intense action sequences and a high average vote score.\\n   - Score: 7.3\\n\\n4. Title: Independence Day\\n   - Justification: Independence Day is a classic alien invasion film with several large-scale space battle scenes. It's a good choice if you're looking for action-packed sequences.\\n   - Score: 6.7\\n\\n5. Title: Space Battleship Yamato\\n   - Justification: The title itself suggests space battles, and the overview confirms a story of humanity's fight against alien invaders, making it a good match for the request.\\n   - Score: 6.3\\n\\n6. Title: Event Horizon\\n   - Justification: While not a traditional space battle movie, Event Horizon offers a thrilling and terrifying space adventure with a high-stakes plot.\\n   - Score: 6.5\\n\\n7. Title: Battleship\\n   - Justification: Battleship features a naval coalition fighting against a hostile alien force, providing plenty of battle scenes, though not all are set in space.\\n   - Score: 5.5\",\n",
      "            \"additional_kwargs\": {}\n",
      "          }\n",
      "        }\n",
      "      }\n",
      "    ]\n",
      "  ],\n",
      "  \"llm_output\": {\n",
      "    \"token_usage\": {\n",
      "      \"prompt_tokens\": 2123,\n",
      "      \"completion_tokens\": 345,\n",
      "      \"total_tokens\": 2468\n",
      "    },\n",
      "    \"model_name\": \"gpt-4\"\n",
      "  },\n",
      "  \"run\": null\n",
      "}\n",
      "\u001b[36;1m\u001b[1;3m[chain/end]\u001b[0m \u001b[1m[1:chain:RetrievalQA > 5:chain:StuffDocumentsChain > 6:chain:LLMChain] [31.58s] Exiting Chain run with output:\n",
      "\u001b[0m{\n",
      "  \"text\": \"1. Title: Interstellar\\n   - Justification: Although not primarily focused on space battles, Interstellar offers a thrilling space adventure with high stakes and intense moments. It's highly rated and well-loved by audiences.\\n   - Score: 8.1\\n\\n2. Title: Treasure Planet\\n   - Justification: This animated film features space battles and adventures, with a unique blend of traditional pirate lore and futuristic sci-fi elements.\\n   - Score: 7.2\\n\\n3. Title: Gravity\\n   - Justification: While not featuring traditional space battles, Gravity is a high-stakes survival story set in space, with intense action sequences and a high average vote score.\\n   - Score: 7.3\\n\\n4. Title: Independence Day\\n   - Justification: Independence Day is a classic alien invasion film with several large-scale space battle scenes. It's a good choice if you're looking for action-packed sequences.\\n   - Score: 6.7\\n\\n5. Title: Space Battleship Yamato\\n   - Justification: The title itself suggests space battles, and the overview confirms a story of humanity's fight against alien invaders, making it a good match for the request.\\n   - Score: 6.3\\n\\n6. Title: Event Horizon\\n   - Justification: While not a traditional space battle movie, Event Horizon offers a thrilling and terrifying space adventure with a high-stakes plot.\\n   - Score: 6.5\\n\\n7. Title: Battleship\\n   - Justification: Battleship features a naval coalition fighting against a hostile alien force, providing plenty of battle scenes, though not all are set in space.\\n   - Score: 5.5\"\n",
      "}\n",
      "\u001b[36;1m\u001b[1;3m[chain/end]\u001b[0m \u001b[1m[1:chain:RetrievalQA > 5:chain:StuffDocumentsChain] [31.58s] Exiting Chain run with output:\n",
      "\u001b[0m{\n",
      "  \"output_text\": \"1. Title: Interstellar\\n   - Justification: Although not primarily focused on space battles, Interstellar offers a thrilling space adventure with high stakes and intense moments. It's highly rated and well-loved by audiences.\\n   - Score: 8.1\\n\\n2. Title: Treasure Planet\\n   - Justification: This animated film features space battles and adventures, with a unique blend of traditional pirate lore and futuristic sci-fi elements.\\n   - Score: 7.2\\n\\n3. Title: Gravity\\n   - Justification: While not featuring traditional space battles, Gravity is a high-stakes survival story set in space, with intense action sequences and a high average vote score.\\n   - Score: 7.3\\n\\n4. Title: Independence Day\\n   - Justification: Independence Day is a classic alien invasion film with several large-scale space battle scenes. It's a good choice if you're looking for action-packed sequences.\\n   - Score: 6.7\\n\\n5. Title: Space Battleship Yamato\\n   - Justification: The title itself suggests space battles, and the overview confirms a story of humanity's fight against alien invaders, making it a good match for the request.\\n   - Score: 6.3\\n\\n6. Title: Event Horizon\\n   - Justification: While not a traditional space battle movie, Event Horizon offers a thrilling and terrifying space adventure with a high-stakes plot.\\n   - Score: 6.5\\n\\n7. Title: Battleship\\n   - Justification: Battleship features a naval coalition fighting against a hostile alien force, providing plenty of battle scenes, though not all are set in space.\\n   - Score: 5.5\"\n",
      "}\n",
      "\u001b[36;1m\u001b[1;3m[chain/end]\u001b[0m \u001b[1m[1:chain:RetrievalQA] [34.03s] Exiting Chain run with output:\n",
      "\u001b[0m{\n",
      "  \"result\": \"1. Title: Interstellar\\n   - Justification: Although not primarily focused on space battles, Interstellar offers a thrilling space adventure with high stakes and intense moments. It's highly rated and well-loved by audiences.\\n   - Score: 8.1\\n\\n2. Title: Treasure Planet\\n   - Justification: This animated film features space battles and adventures, with a unique blend of traditional pirate lore and futuristic sci-fi elements.\\n   - Score: 7.2\\n\\n3. Title: Gravity\\n   - Justification: While not featuring traditional space battles, Gravity is a high-stakes survival story set in space, with intense action sequences and a high average vote score.\\n   - Score: 7.3\\n\\n4. Title: Independence Day\\n   - Justification: Independence Day is a classic alien invasion film with several large-scale space battle scenes. It's a good choice if you're looking for action-packed sequences.\\n   - Score: 6.7\\n\\n5. Title: Space Battleship Yamato\\n   - Justification: The title itself suggests space battles, and the overview confirms a story of humanity's fight against alien invaders, making it a good match for the request.\\n   - Score: 6.3\\n\\n6. Title: Event Horizon\\n   - Justification: While not a traditional space battle movie, Event Horizon offers a thrilling and terrifying space adventure with a high-stakes plot.\\n   - Score: 6.5\\n\\n7. Title: Battleship\\n   - Justification: Battleship features a naval coalition fighting against a hostile alien force, providing plenty of battle scenes, though not all are set in space.\\n   - Score: 5.5\"\n",
      "}\n"
     ]
    },
    {
     "data": {
      "text/plain": [
       "\"1. Title: Interstellar\\n   - Justification: Although not primarily focused on space battles, Interstellar offers a thrilling space adventure with high stakes and intense moments. It's highly rated and well-loved by audiences.\\n   - Score: 8.1\\n\\n2. Title: Treasure Planet\\n   - Justification: This animated film features space battles and adventures, with a unique blend of traditional pirate lore and futuristic sci-fi elements.\\n   - Score: 7.2\\n\\n3. Title: Gravity\\n   - Justification: While not featuring traditional space battles, Gravity is a high-stakes survival story set in space, with intense action sequences and a high average vote score.\\n   - Score: 7.3\\n\\n4. Title: Independence Day\\n   - Justification: Independence Day is a classic alien invasion film with several large-scale space battle scenes. It's a good choice if you're looking for action-packed sequences.\\n   - Score: 6.7\\n\\n5. Title: Space Battleship Yamato\\n   - Justification: The title itself suggests space battles, and the overview confirms a story of humanity's fight against alien invaders, making it a good match for the request.\\n   - Score: 6.3\\n\\n6. Title: Event Horizon\\n   - Justification: While not a traditional space battle movie, Event Horizon offers a thrilling and terrifying space adventure with a high-stakes plot.\\n   - Score: 6.5\\n\\n7. Title: Battleship\\n   - Justification: Battleship features a naval coalition fighting against a hostile alien force, providing plenty of battle scenes, though not all are set in space.\\n   - Score: 5.5\""
      ]
     },
     "execution_count": 8,
     "metadata": {},
     "output_type": "execute_result"
    }
   ],
   "source": [
    "g_media_sq_retrieval_chain.run(\"I want to watch a movie about space battles.\")"
   ]
  },
  {
   "cell_type": "markdown",
   "metadata": {},
   "source": [
    "# Tooling"
   ]
  },
  {
   "cell_type": "code",
   "execution_count": 9,
   "metadata": {},
   "outputs": [],
   "source": [
    "calc_tool = load_tools([\"llm-math\"], llm=OpenAI(temperature=0))"
   ]
  },
  {
   "cell_type": "code",
   "execution_count": 10,
   "metadata": {},
   "outputs": [],
   "source": [
    "retriever_description = \"\"\"Movie search tool. The action input must be just topics in a natural language sentence\"\"\""
   ]
  },
  {
   "cell_type": "code",
   "execution_count": 11,
   "metadata": {},
   "outputs": [],
   "source": [
    "tools = [\n",
    "    Tool(\n",
    "        name = \"Search movies\",\n",
    "        func=g_media_sq_retrieval_chain.run,\n",
    "        description=retriever_description\n",
    "    ),\n",
    "    calc_tool[0]\n",
    "]"
   ]
  },
  {
   "cell_type": "markdown",
   "metadata": {},
   "source": [
    "# Prompt templates"
   ]
  },
  {
   "cell_type": "code",
   "execution_count": 12,
   "metadata": {},
   "outputs": [],
   "source": [
    "prefix = \"\"\" You are an assistant expert in movies recommendation. You should guide and help the user through the whole process until suggesting the best movie options to watch. You should attend to all the user requirements always taking into account user data. \n",
    "\n",
    "For the first interactions you should collect some user configuration data. This data will restrict the movies to consider.\n",
    "\n",
    "User Data to collect (mandatory):\n",
    "    Target genre: Movie genre e.g. fiction, adventure, trhiller...\n",
    "    Movie overview topic: List of keywords defining the campaign context.\n",
    "\n",
    "After succesfully collecting data, you should keep the conversation with the human, answering the questions and requests as good as you can. To do so, you have access to the following tools:\"\"\""
   ]
  },
  {
   "cell_type": "code",
   "execution_count": 13,
   "metadata": {},
   "outputs": [],
   "source": [
    "suffix = \"\"\"Begin! Your first action must ve collect user data and keep it. Reminder to ALWAYS respond with a valid json blob of a single action. Use tools if necessary. Respond directly if appropriate. Format is Action:```$JSON_BLOB``` then Observation: ... Thought: ... Action: ...\"\"\"\n"
   ]
  },
  {
   "cell_type": "code",
   "execution_count": 14,
   "metadata": {},
   "outputs": [],
   "source": [
    "chat_history = MessagesPlaceholder(variable_name=\"chat_history\")\n",
    "memory = ConversationBufferMemory(memory_key=\"chat_history\", return_messages=True)\n",
    "agent_kwargs = {\n",
    "        \"memory_prompts\": [chat_history],\n",
    "        \"input_variables\": [\"input\", \"agent_scratchpad\", \"chat_history\"],\n",
    "        \"prefix\": prefix,\n",
    "        \"suffix\": suffix\n",
    "    }"
   ]
  },
  {
   "cell_type": "markdown",
   "metadata": {},
   "source": [
    "# Chains"
   ]
  },
  {
   "cell_type": "code",
   "execution_count": 15,
   "metadata": {},
   "outputs": [],
   "source": [
    "# agent_llm_model = ChatOpenAI(temperature=0, model=\"gpt-3.5-turbo\", max_tokens=1000)\n",
    "agent_llm_model = ChatOpenAI(temperature=0, model=\"gpt-4\", max_tokens=2000)"
   ]
  },
  {
   "cell_type": "code",
   "execution_count": 16,
   "metadata": {},
   "outputs": [],
   "source": [
    "general_chat_agent = initialize_agent(\n",
    "    tools=tools,\n",
    "    llm=agent_llm_model,\n",
    "    agent=AgentType.STRUCTURED_CHAT_ZERO_SHOT_REACT_DESCRIPTION,\n",
    "    memory=memory,\n",
    "    verbose=True,\n",
    "    agent_kwargs=agent_kwargs,\n",
    ")"
   ]
  },
  {
   "cell_type": "markdown",
   "metadata": {},
   "source": [
    "# TESTS"
   ]
  },
  {
   "cell_type": "markdown",
   "metadata": {},
   "source": [
    "### Run"
   ]
  },
  {
   "cell_type": "code",
   "execution_count": 17,
   "metadata": {},
   "outputs": [],
   "source": [
    "langchain.debug = True"
   ]
  },
  {
   "cell_type": "code",
   "execution_count": 18,
   "metadata": {},
   "outputs": [
    {
     "data": {
      "text/plain": [
       "[]"
      ]
     },
     "execution_count": 18,
     "metadata": {},
     "output_type": "execute_result"
    }
   ],
   "source": [
    "memory.chat_memory.messages"
   ]
  },
  {
   "cell_type": "code",
   "execution_count": 19,
   "metadata": {},
   "outputs": [
    {
     "name": "stdout",
     "output_type": "stream",
     "text": [
      "\u001b[32;1m\u001b[1;3m[chain/start]\u001b[0m \u001b[1m[1:chain:AgentExecutor] Entering Chain run with input:\n",
      "\u001b[0m{\n",
      "  \"input\": \"Hi, my name is Aitor\",\n",
      "  \"chat_history\": []\n",
      "}\n",
      "\u001b[32;1m\u001b[1;3m[chain/start]\u001b[0m \u001b[1m[1:chain:AgentExecutor > 2:chain:LLMChain] Entering Chain run with input:\n",
      "\u001b[0m{\n",
      "  \"input\": \"Hi, my name is Aitor\",\n",
      "  \"chat_history\": [],\n",
      "  \"agent_scratchpad\": \"\",\n",
      "  \"stop\": [\n",
      "    \"Observation:\"\n",
      "  ]\n",
      "}\n",
      "\u001b[32;1m\u001b[1;3m[llm/start]\u001b[0m \u001b[1m[1:chain:AgentExecutor > 2:chain:LLMChain > 3:llm:ChatOpenAI] Entering LLM run with input:\n",
      "\u001b[0m{\n",
      "  \"prompts\": [\n",
      "    \"System:  You are an assistant expert in movies recommendation. You should guide and help the user through the whole process until suggesting the best movie options to watch. You should attend to all the user requirements always taking into account user data. \\n\\nFor the first interactions you should collect some user configuration data. This data will restrict the movies to consider.\\n\\nUser Data to collect (mandatory):\\n    Target genre: Movie genre e.g. fiction, adventure, trhiller...\\n    Movie overview topic: List of keywords defining the campaign context.\\n\\nAfter succesfully collecting data, you should keep the conversation with the human, answering the questions and requests as good as you can. To do so, you have access to the following tools:\\n\\nSearch movies: Movie search tool. The action input must be just topics in a natural language sentence, args: {{'tool_input': {{'type': 'string'}}}}\\nCalculator: Useful for when you need to answer questions about math., args: {{'tool_input': {{'type': 'string'}}}}\\n\\nUse a json blob to specify a tool by providing an action key (tool name) and an action_input key (tool input).\\n\\nValid \\\"action\\\" values: \\\"Final Answer\\\" or Search movies, Calculator\\n\\nProvide only ONE action per $JSON_BLOB, as shown:\\n\\n```\\n{\\n  \\\"action\\\": $TOOL_NAME,\\n  \\\"action_input\\\": $INPUT\\n}\\n```\\n\\nFollow this format:\\n\\nQuestion: input question to answer\\nThought: consider previous and subsequent steps\\nAction:\\n```\\n$JSON_BLOB\\n```\\nObservation: action result\\n... (repeat Thought/Action/Observation N times)\\nThought: I know what to respond\\nAction:\\n```\\n{\\n  \\\"action\\\": \\\"Final Answer\\\",\\n  \\\"action_input\\\": \\\"Final response to human\\\"\\n}\\n```\\n\\nBegin! Your first action must ve collect user data and keep it. Reminder to ALWAYS respond with a valid json blob of a single action. Use tools if necessary. Respond directly if appropriate. Format is Action:```$JSON_BLOB``` then Observation: ... Thought: ... Action: ...\\nHuman: Hi, my name is Aitor\"\n",
      "  ]\n",
      "}\n",
      "\u001b[36;1m\u001b[1;3m[llm/end]\u001b[0m \u001b[1m[1:chain:AgentExecutor > 2:chain:LLMChain > 3:llm:ChatOpenAI] [4.36s] Exiting LLM run with output:\n",
      "\u001b[0m{\n",
      "  \"generations\": [\n",
      "    [\n",
      "      {\n",
      "        \"text\": \"Hello Aitor! I'm here to help you find the perfect movie to watch. To get started, could you please tell me your preferred movie genre and some keywords that define the type of movie you're in the mood for?\",\n",
      "        \"generation_info\": {\n",
      "          \"finish_reason\": \"stop\"\n",
      "        },\n",
      "        \"message\": {\n",
      "          \"lc\": 1,\n",
      "          \"type\": \"constructor\",\n",
      "          \"id\": [\n",
      "            \"langchain\",\n",
      "            \"schema\",\n",
      "            \"messages\",\n",
      "            \"AIMessage\"\n",
      "          ],\n",
      "          \"kwargs\": {\n",
      "            \"content\": \"Hello Aitor! I'm here to help you find the perfect movie to watch. To get started, could you please tell me your preferred movie genre and some keywords that define the type of movie you're in the mood for?\",\n",
      "            \"additional_kwargs\": {}\n",
      "          }\n",
      "        }\n",
      "      }\n",
      "    ]\n",
      "  ],\n",
      "  \"llm_output\": {\n",
      "    \"token_usage\": {\n",
      "      \"prompt_tokens\": 441,\n",
      "      \"completion_tokens\": 46,\n",
      "      \"total_tokens\": 487\n",
      "    },\n",
      "    \"model_name\": \"gpt-4\"\n",
      "  },\n",
      "  \"run\": null\n",
      "}\n",
      "\u001b[36;1m\u001b[1;3m[chain/end]\u001b[0m \u001b[1m[1:chain:AgentExecutor > 2:chain:LLMChain] [4.36s] Exiting Chain run with output:\n",
      "\u001b[0m{\n",
      "  \"text\": \"Hello Aitor! I'm here to help you find the perfect movie to watch. To get started, could you please tell me your preferred movie genre and some keywords that define the type of movie you're in the mood for?\"\n",
      "}\n",
      "\u001b[36;1m\u001b[1;3m[chain/end]\u001b[0m \u001b[1m[1:chain:AgentExecutor] [4.36s] Exiting Chain run with output:\n",
      "\u001b[0m{\n",
      "  \"output\": \"Hello Aitor! I'm here to help you find the perfect movie to watch. To get started, could you please tell me your preferred movie genre and some keywords that define the type of movie you're in the mood for?\"\n",
      "}\n",
      "\n",
      "A partir de aquí la respuesta:\n",
      "\n",
      "Hello Aitor! I'm here to help you find the perfect movie to watch. To get started, could you please tell me your preferred movie genre and some keywords that define the type of movie you're in the mood for?\n"
     ]
    }
   ],
   "source": [
    "response = general_chat_agent.run(input=\"Hi, my name is Aitor\")\n",
    "print(\"\\nA partir de aquí la respuesta:\\n\")\n",
    "print(response)"
   ]
  },
  {
   "cell_type": "code",
   "execution_count": 20,
   "metadata": {},
   "outputs": [
    {
     "name": "stdout",
     "output_type": "stream",
     "text": [
      "\u001b[32;1m\u001b[1;3m[chain/start]\u001b[0m \u001b[1m[1:chain:AgentExecutor] Entering Chain run with input:\n",
      "\u001b[0m[inputs]\n",
      "\u001b[32;1m\u001b[1;3m[chain/start]\u001b[0m \u001b[1m[1:chain:AgentExecutor > 2:chain:LLMChain] Entering Chain run with input:\n",
      "\u001b[0m[inputs]\n",
      "\u001b[32;1m\u001b[1;3m[llm/start]\u001b[0m \u001b[1m[1:chain:AgentExecutor > 2:chain:LLMChain > 3:llm:ChatOpenAI] Entering LLM run with input:\n",
      "\u001b[0m{\n",
      "  \"prompts\": [\n",
      "    \"System:  You are an assistant expert in movies recommendation. You should guide and help the user through the whole process until suggesting the best movie options to watch. You should attend to all the user requirements always taking into account user data. \\n\\nFor the first interactions you should collect some user configuration data. This data will restrict the movies to consider.\\n\\nUser Data to collect (mandatory):\\n    Target genre: Movie genre e.g. fiction, adventure, trhiller...\\n    Movie overview topic: List of keywords defining the campaign context.\\n\\nAfter succesfully collecting data, you should keep the conversation with the human, answering the questions and requests as good as you can. To do so, you have access to the following tools:\\n\\nSearch movies: Movie search tool. The action input must be just topics in a natural language sentence, args: {{'tool_input': {{'type': 'string'}}}}\\nCalculator: Useful for when you need to answer questions about math., args: {{'tool_input': {{'type': 'string'}}}}\\n\\nUse a json blob to specify a tool by providing an action key (tool name) and an action_input key (tool input).\\n\\nValid \\\"action\\\" values: \\\"Final Answer\\\" or Search movies, Calculator\\n\\nProvide only ONE action per $JSON_BLOB, as shown:\\n\\n```\\n{\\n  \\\"action\\\": $TOOL_NAME,\\n  \\\"action_input\\\": $INPUT\\n}\\n```\\n\\nFollow this format:\\n\\nQuestion: input question to answer\\nThought: consider previous and subsequent steps\\nAction:\\n```\\n$JSON_BLOB\\n```\\nObservation: action result\\n... (repeat Thought/Action/Observation N times)\\nThought: I know what to respond\\nAction:\\n```\\n{\\n  \\\"action\\\": \\\"Final Answer\\\",\\n  \\\"action_input\\\": \\\"Final response to human\\\"\\n}\\n```\\n\\nBegin! Your first action must ve collect user data and keep it. Reminder to ALWAYS respond with a valid json blob of a single action. Use tools if necessary. Respond directly if appropriate. Format is Action:```$JSON_BLOB``` then Observation: ... Thought: ... Action: ...\\nHuman: Hi, my name is Aitor\\nAI: Hello Aitor! I'm here to help you find the perfect movie to watch. To get started, could you please tell me your preferred movie genre and some keywords that define the type of movie you're in the mood for?\\nHuman: I want to watch a movie about outer space exploration.\"\n",
      "  ]\n",
      "}\n",
      "\u001b[36;1m\u001b[1;3m[llm/end]\u001b[0m \u001b[1m[1:chain:AgentExecutor > 2:chain:LLMChain > 3:llm:ChatOpenAI] [4.34s] Exiting LLM run with output:\n",
      "\u001b[0m{\n",
      "  \"generations\": [\n",
      "    [\n",
      "      {\n",
      "        \"text\": \"Great! Could you please specify the genre you prefer? For example, are you interested in a science fiction movie, a documentary, a thriller set in space, or something else?\",\n",
      "        \"generation_info\": {\n",
      "          \"finish_reason\": \"stop\"\n",
      "        },\n",
      "        \"message\": {\n",
      "          \"lc\": 1,\n",
      "          \"type\": \"constructor\",\n",
      "          \"id\": [\n",
      "            \"langchain\",\n",
      "            \"schema\",\n",
      "            \"messages\",\n",
      "            \"AIMessage\"\n",
      "          ],\n",
      "          \"kwargs\": {\n",
      "            \"content\": \"Great! Could you please specify the genre you prefer? For example, are you interested in a science fiction movie, a documentary, a thriller set in space, or something else?\",\n",
      "            \"additional_kwargs\": {}\n",
      "          }\n",
      "        }\n",
      "      }\n",
      "    ]\n",
      "  ],\n",
      "  \"llm_output\": {\n",
      "    \"token_usage\": {\n",
      "      \"prompt_tokens\": 505,\n",
      "      \"completion_tokens\": 36,\n",
      "      \"total_tokens\": 541\n",
      "    },\n",
      "    \"model_name\": \"gpt-4\"\n",
      "  },\n",
      "  \"run\": null\n",
      "}\n",
      "\u001b[36;1m\u001b[1;3m[chain/end]\u001b[0m \u001b[1m[1:chain:AgentExecutor > 2:chain:LLMChain] [4.34s] Exiting Chain run with output:\n",
      "\u001b[0m{\n",
      "  \"text\": \"Great! Could you please specify the genre you prefer? For example, are you interested in a science fiction movie, a documentary, a thriller set in space, or something else?\"\n",
      "}\n",
      "\u001b[36;1m\u001b[1;3m[chain/end]\u001b[0m \u001b[1m[1:chain:AgentExecutor] [4.34s] Exiting Chain run with output:\n",
      "\u001b[0m{\n",
      "  \"output\": \"Great! Could you please specify the genre you prefer? For example, are you interested in a science fiction movie, a documentary, a thriller set in space, or something else?\"\n",
      "}\n",
      "\n",
      "A partir de aquí la respuesta:\n",
      "\n",
      "Great! Could you please specify the genre you prefer? For example, are you interested in a science fiction movie, a documentary, a thriller set in space, or something else?\n"
     ]
    }
   ],
   "source": [
    "response = general_chat_agent.run(input=\"\"\"I want to watch a movie about outer space exploration.\"\"\")\n",
    "print(\"\\nA partir de aquí la respuesta:\\n\")\n",
    "print(response)"
   ]
  },
  {
   "cell_type": "code",
   "execution_count": 21,
   "metadata": {},
   "outputs": [
    {
     "name": "stdout",
     "output_type": "stream",
     "text": [
      "\u001b[32;1m\u001b[1;3m[chain/start]\u001b[0m \u001b[1m[1:chain:AgentExecutor] Entering Chain run with input:\n",
      "\u001b[0m[inputs]\n",
      "\u001b[32;1m\u001b[1;3m[chain/start]\u001b[0m \u001b[1m[1:chain:AgentExecutor > 2:chain:LLMChain] Entering Chain run with input:\n",
      "\u001b[0m[inputs]\n",
      "\u001b[32;1m\u001b[1;3m[llm/start]\u001b[0m \u001b[1m[1:chain:AgentExecutor > 2:chain:LLMChain > 3:llm:ChatOpenAI] Entering LLM run with input:\n",
      "\u001b[0m{\n",
      "  \"prompts\": [\n",
      "    \"System:  You are an assistant expert in movies recommendation. You should guide and help the user through the whole process until suggesting the best movie options to watch. You should attend to all the user requirements always taking into account user data. \\n\\nFor the first interactions you should collect some user configuration data. This data will restrict the movies to consider.\\n\\nUser Data to collect (mandatory):\\n    Target genre: Movie genre e.g. fiction, adventure, trhiller...\\n    Movie overview topic: List of keywords defining the campaign context.\\n\\nAfter succesfully collecting data, you should keep the conversation with the human, answering the questions and requests as good as you can. To do so, you have access to the following tools:\\n\\nSearch movies: Movie search tool. The action input must be just topics in a natural language sentence, args: {{'tool_input': {{'type': 'string'}}}}\\nCalculator: Useful for when you need to answer questions about math., args: {{'tool_input': {{'type': 'string'}}}}\\n\\nUse a json blob to specify a tool by providing an action key (tool name) and an action_input key (tool input).\\n\\nValid \\\"action\\\" values: \\\"Final Answer\\\" or Search movies, Calculator\\n\\nProvide only ONE action per $JSON_BLOB, as shown:\\n\\n```\\n{\\n  \\\"action\\\": $TOOL_NAME,\\n  \\\"action_input\\\": $INPUT\\n}\\n```\\n\\nFollow this format:\\n\\nQuestion: input question to answer\\nThought: consider previous and subsequent steps\\nAction:\\n```\\n$JSON_BLOB\\n```\\nObservation: action result\\n... (repeat Thought/Action/Observation N times)\\nThought: I know what to respond\\nAction:\\n```\\n{\\n  \\\"action\\\": \\\"Final Answer\\\",\\n  \\\"action_input\\\": \\\"Final response to human\\\"\\n}\\n```\\n\\nBegin! Your first action must ve collect user data and keep it. Reminder to ALWAYS respond with a valid json blob of a single action. Use tools if necessary. Respond directly if appropriate. Format is Action:```$JSON_BLOB``` then Observation: ... Thought: ... Action: ...\\nHuman: Hi, my name is Aitor\\nAI: Hello Aitor! I'm here to help you find the perfect movie to watch. To get started, could you please tell me your preferred movie genre and some keywords that define the type of movie you're in the mood for?\\nHuman: I want to watch a movie about outer space exploration.\\nAI: Great! Could you please specify the genre you prefer? For example, are you interested in a science fiction movie, a documentary, a thriller set in space, or something else?\\nHuman: A thriller set in space sounds good.\"\n",
      "  ]\n",
      "}\n",
      "\u001b[36;1m\u001b[1;3m[llm/end]\u001b[0m \u001b[1m[1:chain:AgentExecutor > 2:chain:LLMChain > 3:llm:ChatOpenAI] [6.68s] Exiting LLM run with output:\n",
      "\u001b[0m{\n",
      "  \"generations\": [\n",
      "    [\n",
      "      {\n",
      "        \"text\": \"Perfect! So, you're interested in a thriller set in space. Now, could you please provide some keywords that define the type of movie you're looking for? For example, are you interested in movies about alien encounters, space disasters, or space travel?\",\n",
      "        \"generation_info\": {\n",
      "          \"finish_reason\": \"stop\"\n",
      "        },\n",
      "        \"message\": {\n",
      "          \"lc\": 1,\n",
      "          \"type\": \"constructor\",\n",
      "          \"id\": [\n",
      "            \"langchain\",\n",
      "            \"schema\",\n",
      "            \"messages\",\n",
      "            \"AIMessage\"\n",
      "          ],\n",
      "          \"kwargs\": {\n",
      "            \"content\": \"Perfect! So, you're interested in a thriller set in space. Now, could you please provide some keywords that define the type of movie you're looking for? For example, are you interested in movies about alien encounters, space disasters, or space travel?\",\n",
      "            \"additional_kwargs\": {}\n",
      "          }\n",
      "        }\n",
      "      }\n",
      "    ]\n",
      "  ],\n",
      "  \"llm_output\": {\n",
      "    \"token_usage\": {\n",
      "      \"prompt_tokens\": 557,\n",
      "      \"completion_tokens\": 52,\n",
      "      \"total_tokens\": 609\n",
      "    },\n",
      "    \"model_name\": \"gpt-4\"\n",
      "  },\n",
      "  \"run\": null\n",
      "}\n",
      "\u001b[36;1m\u001b[1;3m[chain/end]\u001b[0m \u001b[1m[1:chain:AgentExecutor > 2:chain:LLMChain] [6.68s] Exiting Chain run with output:\n",
      "\u001b[0m{\n",
      "  \"text\": \"Perfect! So, you're interested in a thriller set in space. Now, could you please provide some keywords that define the type of movie you're looking for? For example, are you interested in movies about alien encounters, space disasters, or space travel?\"\n",
      "}\n",
      "\u001b[36;1m\u001b[1;3m[chain/end]\u001b[0m \u001b[1m[1:chain:AgentExecutor] [6.68s] Exiting Chain run with output:\n",
      "\u001b[0m{\n",
      "  \"output\": \"Perfect! So, you're interested in a thriller set in space. Now, could you please provide some keywords that define the type of movie you're looking for? For example, are you interested in movies about alien encounters, space disasters, or space travel?\"\n",
      "}\n",
      "\n",
      "A partir de aquí la respuesta:\n",
      "\n",
      "Perfect! So, you're interested in a thriller set in space. Now, could you please provide some keywords that define the type of movie you're looking for? For example, are you interested in movies about alien encounters, space disasters, or space travel?\n"
     ]
    }
   ],
   "source": [
    "response = general_chat_agent.run(input=\"A thriller set in space sounds good.\")\n",
    "print(\"\\nA partir de aquí la respuesta:\\n\")\n",
    "print(response)"
   ]
  },
  {
   "cell_type": "code",
   "execution_count": 27,
   "metadata": {},
   "outputs": [
    {
     "name": "stdout",
     "output_type": "stream",
     "text": [
      "Based on your preferences, I would recommend the following movies: 'Interstellar', '2001: A Space Odyssey', and 'Gravity'. These are thrilling movies set in outer space and have received high ratings from viewers. Enjoy your movie time!\n"
     ]
    }
   ],
   "source": [
    "print(response)"
   ]
  },
  {
   "cell_type": "code",
   "execution_count": 22,
   "metadata": {},
   "outputs": [
    {
     "name": "stdout",
     "output_type": "stream",
     "text": [
      "\u001b[32;1m\u001b[1;3m[chain/start]\u001b[0m \u001b[1m[1:chain:AgentExecutor] Entering Chain run with input:\n",
      "\u001b[0m[inputs]\n",
      "\u001b[32;1m\u001b[1;3m[chain/start]\u001b[0m \u001b[1m[1:chain:AgentExecutor > 2:chain:LLMChain] Entering Chain run with input:\n",
      "\u001b[0m[inputs]\n",
      "\u001b[32;1m\u001b[1;3m[llm/start]\u001b[0m \u001b[1m[1:chain:AgentExecutor > 2:chain:LLMChain > 3:llm:ChatOpenAI] Entering LLM run with input:\n",
      "\u001b[0m{\n",
      "  \"prompts\": [\n",
      "    \"System:  You are an assistant expert in movies recommendation. You should guide and help the user through the whole process until suggesting the best movie options to watch. You should attend to all the user requirements always taking into account user data. \\n\\nFor the first interactions you should collect some user configuration data. This data will restrict the movies to consider.\\n\\nUser Data to collect (mandatory):\\n    Target genre: Movie genre e.g. fiction, adventure, trhiller...\\n    Movie overview topic: List of keywords defining the campaign context.\\n\\nAfter succesfully collecting data, you should keep the conversation with the human, answering the questions and requests as good as you can. To do so, you have access to the following tools:\\n\\nSearch movies: Movie search tool. The action input must be just topics in a natural language sentence, args: {{'tool_input': {{'type': 'string'}}}}\\nCalculator: Useful for when you need to answer questions about math., args: {{'tool_input': {{'type': 'string'}}}}\\n\\nUse a json blob to specify a tool by providing an action key (tool name) and an action_input key (tool input).\\n\\nValid \\\"action\\\" values: \\\"Final Answer\\\" or Search movies, Calculator\\n\\nProvide only ONE action per $JSON_BLOB, as shown:\\n\\n```\\n{\\n  \\\"action\\\": $TOOL_NAME,\\n  \\\"action_input\\\": $INPUT\\n}\\n```\\n\\nFollow this format:\\n\\nQuestion: input question to answer\\nThought: consider previous and subsequent steps\\nAction:\\n```\\n$JSON_BLOB\\n```\\nObservation: action result\\n... (repeat Thought/Action/Observation N times)\\nThought: I know what to respond\\nAction:\\n```\\n{\\n  \\\"action\\\": \\\"Final Answer\\\",\\n  \\\"action_input\\\": \\\"Final response to human\\\"\\n}\\n```\\n\\nBegin! Your first action must ve collect user data and keep it. Reminder to ALWAYS respond with a valid json blob of a single action. Use tools if necessary. Respond directly if appropriate. Format is Action:```$JSON_BLOB``` then Observation: ... Thought: ... Action: ...\\nHuman: Hi, my name is Aitor\\nAI: Hello Aitor! I'm here to help you find the perfect movie to watch. To get started, could you please tell me your preferred movie genre and some keywords that define the type of movie you're in the mood for?\\nHuman: I want to watch a movie about outer space exploration.\\nAI: Great! Could you please specify the genre you prefer? For example, are you interested in a science fiction movie, a documentary, a thriller set in space, or something else?\\nHuman: A thriller set in space sounds good.\\nAI: Perfect! So, you're interested in a thriller set in space. Now, could you please provide some keywords that define the type of movie you're looking for? For example, are you interested in movies about alien encounters, space disasters, or space travel?\\nHuman: space exploration\"\n",
      "  ]\n",
      "}\n",
      "\u001b[36;1m\u001b[1;3m[llm/end]\u001b[0m \u001b[1m[1:chain:AgentExecutor > 2:chain:LLMChain > 3:llm:ChatOpenAI] [6.33s] Exiting LLM run with output:\n",
      "\u001b[0m{\n",
      "  \"generations\": [\n",
      "    [\n",
      "      {\n",
      "        \"text\": \"Great! So, you're interested in a thriller set in space with a focus on space exploration. Let's find some movie options for you.\\n\\nAction:\\n```\\n{\\n  \\\"action\\\": \\\"Search movies\\\",\\n  \\\"action_input\\\": \\\"thriller movies about space exploration\\\"\\n}\\n```\",\n",
      "        \"generation_info\": {\n",
      "          \"finish_reason\": \"stop\"\n",
      "        },\n",
      "        \"message\": {\n",
      "          \"lc\": 1,\n",
      "          \"type\": \"constructor\",\n",
      "          \"id\": [\n",
      "            \"langchain\",\n",
      "            \"schema\",\n",
      "            \"messages\",\n",
      "            \"AIMessage\"\n",
      "          ],\n",
      "          \"kwargs\": {\n",
      "            \"content\": \"Great! So, you're interested in a thriller set in space with a focus on space exploration. Let's find some movie options for you.\\n\\nAction:\\n```\\n{\\n  \\\"action\\\": \\\"Search movies\\\",\\n  \\\"action_input\\\": \\\"thriller movies about space exploration\\\"\\n}\\n```\",\n",
      "            \"additional_kwargs\": {}\n",
      "          }\n",
      "        }\n",
      "      }\n",
      "    ]\n",
      "  ],\n",
      "  \"llm_output\": {\n",
      "    \"token_usage\": {\n",
      "      \"prompt_tokens\": 620,\n",
      "      \"completion_tokens\": 57,\n",
      "      \"total_tokens\": 677\n",
      "    },\n",
      "    \"model_name\": \"gpt-4\"\n",
      "  },\n",
      "  \"run\": null\n",
      "}\n",
      "\u001b[36;1m\u001b[1;3m[chain/end]\u001b[0m \u001b[1m[1:chain:AgentExecutor > 2:chain:LLMChain] [6.33s] Exiting Chain run with output:\n",
      "\u001b[0m{\n",
      "  \"text\": \"Great! So, you're interested in a thriller set in space with a focus on space exploration. Let's find some movie options for you.\\n\\nAction:\\n```\\n{\\n  \\\"action\\\": \\\"Search movies\\\",\\n  \\\"action_input\\\": \\\"thriller movies about space exploration\\\"\\n}\\n```\"\n",
      "}\n",
      "\u001b[32;1m\u001b[1;3m[tool/start]\u001b[0m \u001b[1m[1:chain:AgentExecutor > 4:tool:Search movies] Entering Tool run with input:\n",
      "\u001b[0m\"thriller movies about space exploration\"\n",
      "\u001b[32;1m\u001b[1;3m[chain/start]\u001b[0m \u001b[1m[1:chain:AgentExecutor > 4:tool:Search movies > 5:chain:RetrievalQA] Entering Chain run with input:\n",
      "\u001b[0m{\n",
      "  \"query\": \"thriller movies about space exploration\"\n",
      "}\n",
      "\u001b[32;1m\u001b[1;3m[chain/start]\u001b[0m \u001b[1m[1:chain:AgentExecutor > 4:tool:Search movies > 5:chain:RetrievalQA > 6:retriever:Retriever > 7:chain:LLMChain] Entering Chain run with input:\n",
      "\u001b[0m{\n",
      "  \"query\": \"thriller movies about space exploration\"\n",
      "}\n",
      "\u001b[32;1m\u001b[1;3m[llm/start]\u001b[0m \u001b[1m[1:chain:AgentExecutor > 4:tool:Search movies > 5:chain:RetrievalQA > 6:retriever:Retriever > 7:chain:LLMChain > 8:llm:ChatOpenAI] Entering LLM run with input:\n",
      "\u001b[0m{\n",
      "  \"prompts\": [\n",
      "    \"Human: Your goal is to structure the user's query to match the request schema provided below.\\n\\n<< Structured Request Schema >>\\nWhen responding use a markdown code snippet with a JSON object formatted in the following schema:\\n\\n```json\\n{\\n    \\\"query\\\": string \\\\ text string to compare to document contents\\n    \\\"filter\\\": string \\\\ logical condition statement for filtering documents\\n}\\n```\\n\\nThe query string should contain only text that is expected to match the contents of documents. Any conditions in the filter should not be mentioned in the query as well.\\n\\nA logical condition statement is composed of one or more comparison and logical operation statements.\\n\\nA comparison statement takes the form: `comp(attr, val)`:\\n- `comp` (eq | ne | gt | gte | lt | lte): comparator\\n- `attr` (string):  name of attribute to apply the comparison to\\n- `val` (string): is the comparison value\\n\\nA logical operation statement takes the form `op(statement1, statement2, ...)`:\\n- `op` (and | or): logical operator\\n- `statement1`, `statement2`, ... (comparison statements or logical operation statements): one or more statements to apply the operation to\\n\\nMake sure that you only use the comparators and logical operators listed above and no others.\\nMake sure that filters only refer to attributes that exist in the data source.\\nMake sure that filters only use the attributed names with its function names if there are functions applied on them.\\nMake sure that filters only use format `YYYY-MM-DD` when handling timestamp data typed values.\\nMake sure that filters take into account the descriptions of attributes and only make comparisons that are feasible given the type of data being stored.\\nMake sure that filters are only used as needed. If there are no filters that should be applied return \\\"NO_FILTER\\\" for the filter value.\\n\\n<< Example 1. >>\\nData Source:\\n```json\\n{\\n    \\\"content\\\": \\\"Lyrics of a song\\\",\\n    \\\"attributes\\\": {\\n        \\\"artist\\\": {\\n            \\\"type\\\": \\\"string\\\",\\n            \\\"description\\\": \\\"Name of the song artist\\\"\\n        },\\n        \\\"length\\\": {\\n            \\\"type\\\": \\\"integer\\\",\\n            \\\"description\\\": \\\"Length of the song in seconds\\\"\\n        },\\n        \\\"genre\\\": {\\n            \\\"type\\\": \\\"string\\\",\\n            \\\"description\\\": \\\"The song genre, one of \\\"pop\\\", \\\"rock\\\" or \\\"rap\\\"\\\"\\n        }\\n    }\\n}\\n```\\n\\nUser Query:\\nWhat are songs by Taylor Swift or Katy Perry about teenage romance under 3 minutes long in the dance pop genre\\n\\nStructured Request:\\n```json\\n{\\n    \\\"query\\\": \\\"teenager love\\\",\\n    \\\"filter\\\": \\\"and(or(eq(\\\\\\\"artist\\\\\\\", \\\\\\\"Taylor Swift\\\\\\\"), eq(\\\\\\\"artist\\\\\\\", \\\\\\\"Katy Perry\\\\\\\")), lt(\\\\\\\"length\\\\\\\", 180), eq(\\\\\\\"genre\\\\\\\", \\\\\\\"pop\\\\\\\"))\\\"\\n}\\n```\\n\\n\\n<< Example 2. >>\\nData Source:\\n```json\\n{\\n    \\\"content\\\": \\\"Lyrics of a song\\\",\\n    \\\"attributes\\\": {\\n        \\\"artist\\\": {\\n            \\\"type\\\": \\\"string\\\",\\n            \\\"description\\\": \\\"Name of the song artist\\\"\\n        },\\n        \\\"length\\\": {\\n            \\\"type\\\": \\\"integer\\\",\\n            \\\"description\\\": \\\"Length of the song in seconds\\\"\\n        },\\n        \\\"genre\\\": {\\n            \\\"type\\\": \\\"string\\\",\\n            \\\"description\\\": \\\"The song genre, one of \\\"pop\\\", \\\"rock\\\" or \\\"rap\\\"\\\"\\n        }\\n    }\\n}\\n```\\n\\nUser Query:\\nWhat are songs that were not published on Spotify\\n\\nStructured Request:\\n```json\\n{\\n    \\\"query\\\": \\\"\\\",\\n    \\\"filter\\\": \\\"NO_FILTER\\\"\\n}\\n```\\n\\n\\n<< Example 3. >>\\nData Source:\\n```json\\n{\\n    \\\"content\\\": \\\"List of movies with an overview and scoring from a public website.\\\",\\n    \\\"attributes\\\": {\\n    \\\"vote_average\\\": {\\n        \\\"description\\\": \\\"The average score given to the movie.\\\",\\n        \\\"type\\\": \\\"float\\\"\\n    }\\n}\\n}\\n```\\n\\nUser Query:\\nthriller movies about space exploration\\n\\nStructured Request:\"\n",
      "  ]\n",
      "}\n",
      "\u001b[36;1m\u001b[1;3m[llm/end]\u001b[0m \u001b[1m[1:chain:AgentExecutor > 4:tool:Search movies > 5:chain:RetrievalQA > 6:retriever:Retriever > 7:chain:LLMChain > 8:llm:ChatOpenAI] [1.29s] Exiting LLM run with output:\n",
      "\u001b[0m{\n",
      "  \"generations\": [\n",
      "    [\n",
      "      {\n",
      "        \"text\": \"```json\\n{\\n    \\\"query\\\": \\\"thriller space exploration\\\",\\n    \\\"filter\\\": \\\"NO_FILTER\\\"\\n}\\n```\",\n",
      "        \"generation_info\": {\n",
      "          \"finish_reason\": \"stop\"\n",
      "        },\n",
      "        \"message\": {\n",
      "          \"lc\": 1,\n",
      "          \"type\": \"constructor\",\n",
      "          \"id\": [\n",
      "            \"langchain\",\n",
      "            \"schema\",\n",
      "            \"messages\",\n",
      "            \"AIMessage\"\n",
      "          ],\n",
      "          \"kwargs\": {\n",
      "            \"content\": \"```json\\n{\\n    \\\"query\\\": \\\"thriller space exploration\\\",\\n    \\\"filter\\\": \\\"NO_FILTER\\\"\\n}\\n```\",\n",
      "            \"additional_kwargs\": {}\n",
      "          }\n",
      "        }\n",
      "      }\n",
      "    ]\n",
      "  ],\n",
      "  \"llm_output\": {\n",
      "    \"token_usage\": {\n",
      "      \"prompt_tokens\": 826,\n",
      "      \"completion_tokens\": 24,\n",
      "      \"total_tokens\": 850\n",
      "    },\n",
      "    \"model_name\": \"gpt-3.5-turbo\"\n",
      "  },\n",
      "  \"run\": null\n",
      "}\n",
      "\u001b[36;1m\u001b[1;3m[chain/end]\u001b[0m \u001b[1m[1:chain:AgentExecutor > 4:tool:Search movies > 5:chain:RetrievalQA > 6:retriever:Retriever > 7:chain:LLMChain] [1.29s] Exiting Chain run with output:\n",
      "\u001b[0m{\n",
      "  \"text\": \"```json\\n{\\n    \\\"query\\\": \\\"thriller space exploration\\\",\\n    \\\"filter\\\": \\\"NO_FILTER\\\"\\n}\\n```\"\n",
      "}\n",
      "query='thriller space exploration' filter=None limit=None\n",
      "\u001b[32;1m\u001b[1;3m[chain/start]\u001b[0m \u001b[1m[1:chain:AgentExecutor > 4:tool:Search movies > 5:chain:RetrievalQA > 9:chain:StuffDocumentsChain] Entering Chain run with input:\n",
      "\u001b[0m[inputs]\n",
      "\u001b[32;1m\u001b[1;3m[chain/start]\u001b[0m \u001b[1m[1:chain:AgentExecutor > 4:tool:Search movies > 5:chain:RetrievalQA > 9:chain:StuffDocumentsChain > 10:chain:LLMChain] Entering Chain run with input:\n",
      "\u001b[0m{\n",
      "  \"question\": \"thriller movies about space exploration\",\n",
      "  \"context\": \"title: Gravity\\noverview: Dr. Ryan Stone, a brilliant medical engineer on her first Shuttle mission, with veteran astronaut Matt Kowalsky in command of his last flight before retiring. But on a seemingly routine spacewalk, disaster strikes. The Shuttle is destroyed, leaving Stone and Kowalsky completely alone-tethered to nothing but each other and spiraling out into the blackness of space. The deafening silence tells them they have lost any link to Earth and any chance for rescue. As fear turns to panic, every gulp of air eats away at what little oxygen is left. But the only way home may be to go further out into the terrifying expanse of space.\\nvote_average: 7.3\\n\\ntitle: Escape from Planet Earth\\noverview: Astronaut Scorch Supernova finds himself caught in a trap when he responds to an SOS from a notoriously dangerous alien planet.\\nvote_average: 5.7\\n\\ntitle: Zathura: A Space Adventure\\noverview: After their father is called into work, two young boys, Walter and Danny, are left in the care of their teenage sister, Lisa, and told they must stay inside. Walter and Danny, who anticipate a boring day, are shocked when they begin playing Zathura, a space-themed board game, which they realize has mystical powers when their house is shot into space. With the help of an astronaut, the boys attempt to return home.\\nvote_average: 6.1\\n\\ntitle: Moonraker\\noverview: During the transportation of a Space Shuttle a Boeing 747 crashes in the Atlantic Ocean yet when they go to look for the destroyed shuttle it is not there. James Bond investigates the missing mission space shuttle and soon learns that the shuttles owner Hugo Drax wants to kill all of mankind.\\nvote_average: 5.9\\n\\ntitle: Event Horizon\\noverview: In the year 2047 a group of astronauts are sent to investigate and salvage the long lost starship \\\"Event Horizon\\\". The ship disappeared mysteriously 7 years before on its maiden voyage and with its return comes even more mystery as the crew of the \\\"Lewis and Clark\\\" discover the real truth behind its disappearance and something even more terrifying.\\nvote_average: 6.5\\n\\ntitle: Interstellar\\noverview: Interstellar chronicles the adventures of a group of explorers who make use of a newly discovered wormhole to surpass the limitations on human space travel and conquer the vast distances involved in an interstellar voyage.\\nvote_average: 8.1\\n\\ntitle: Red Planet\\noverview: Astronauts search for solutions to save a dying Earth by searching on Mars, only to have the mission go terribly awry.\\nvote_average: 5.4\\n\\ntitle: Lifeforce\\noverview: A space shuttle mission investigating Halley's Comet brings back a malevolent race of space vampires who transform most of London's population into zombies. The only survivor of the expedition and British authorities attempt to capture a mysterious but beautiful alien woman who appears responsible.\\nvote_average: 6.2\\n\\ntitle: Spaced Invaders\\noverview: A crew of Martians overhears a radio broadcast of Orson Welles' \\\"War of the Worlds\\\" coming from Earth, and, thinking the Martian fleet is attacking Earth, they land their broken-down ship in a backwater mid-American town. As luck would have it, they land on Halloween and get mistaken for trick-or-treaters. Comedy ensues as the Martians try to get taken seriously.\\nvote_average: 4.7\\n\\ntitle: Deep Impact\\noverview: A seven-mile-wide space rock is hurtling toward Earth, threatening to obliterate the planet. Now, it's up to the president of the United States to save the world. He appoints a tough-as-nails veteran astronaut to lead a joint American-Russian crew into space to destroy the comet before impact. Meanwhile, an enterprising reporter uses her smarts to uncover the scoop of the century.\\nvote_average: 5.9\\n\\ntitle: Supernova\\noverview: Set in the 22nd century, when a battered salvage ship sends out a distress signal, the seasoned crew of the rescue hospital ship Nova-17 responds. What they find is a black hole--that threatens to destroy both ships--and a mysterious survivor whose body quickly mutates into a monstrous and deadly form.\\nvote_average: 4.9\\n\\ntitle: Escape from the Planet of the Apes\\noverview: The world is shocked by the appearance of two talking chimpanzees, who arrived mysteriously in a U.S. spacecraft. They become the toast of society; but one man believes them to be a threat to the human race.\\nvote_average: 6.3\\n\\ntitle: Lost in Space\\noverview: The prospects for continuing life on Earth in the year 2058 are grim. So the Robinsons are launched into space to colonize Alpha Prime, the only other inhabitable planet in the galaxy. But when a stowaway sabotages the mission, the Robinsons find themselves hurtling through uncharted space.\\nvote_average: 5.0\\n\\ntitle: Galaxy Quest\\noverview: The stars of a 1970s sci-fi show - now scraping a living through re-runs and sci-fi conventions - are beamed aboard an alien spacecraft. Believing the cast's heroic on-screen dramas are historical documents of real-life adventures, the band of aliens turn to the ailing celebrities for help in their quest to overcome the oppressive regime in their solar system.\\nvote_average: 6.9\\n\\ntitle: The Andromeda Strain\\noverview: When virtually all of the residents of Piedmont, New Mexico, are found dead after the return to Earth of a space satellite, the head of the US Air Force's Project Scoop declares an emergency. A group of eminent scientists led by Dr. Jeremy Stone scramble to a secure laboratory and try to first isolate the life form while determining why two people from Piedmont - an old alcoholic and a six-month-old baby - survived. The scientists methodically study the alien life form unaware that it has already mutated and presents a far greater danger in the lab, which is equipped with a nuclear self-destruct device designed to prevent the escape of dangerous biological agents..\\nvote_average: 7.0\\n\\ntitle: 2001: A Space Odyssey\\noverview: Humanity finds a mysterious object buried beneath the lunar surface and sets off to find its origins with the help of HAL 9000, the world's most advanced super computer.\\nvote_average: 7.9\\n\\ntitle: Space Battleship Yamato\\noverview: In 2199, five years after the Gamilons began an invasion of Earth, the planet has been ravaged by the aliens' bombs. The remnants of humanity have fled underground to escape the irradiated surface. One day, former pilot Susumu Kodai discovers a capsule sent from the planet Iscandar that tells of a device that can remove the radiation from the Earth's surface. The Earth Defense Force rebuilds the battleship Yamato with a new type of propulsion system to make the 148,000 light year trip to Iscandar in hopes of saving the Earth. Within one year, the radiation will drive the rest of humanity to extinction.\\nvote_average: 6.3\\n\\ntitle: Pitch Black\\noverview: When their ship crash-lands on a remote planet, the marooned passengers soon learn that escaped convict Riddick isn't the only thing they have to fear. Deadly creatures lurk in the shadows, waiting to attack in the dark, and the planet is rapidly plunging into the utter blackness of a total eclipse. With the body count rising, the doomed survivors are forced to turn to Riddick with his eerie eyes to guide them through the darkness to safety. With time running out, there's only one rule: Stay in the light.\\nvote_average: 6.7\\n\\ntitle: Another Earth\\noverview: On the night of the discovery of a duplicate Earth in the Solar system, an ambitious young student and an accomplished composer cross paths in a tragic accident.\\nvote_average: 6.8\\n\\ntitle: Journey to Saturn\\noverview: A Danish crew of misfits travel to Saturn in search for natural resources. However, the planet is colonized by a ruthless army of Aliens that turn their eye on Earth and invade Denmark. Thus, the crew change their mission to liberate Denmark.\\nvote_average: 4.9\"\n",
      "}\n",
      "\u001b[32;1m\u001b[1;3m[llm/start]\u001b[0m \u001b[1m[1:chain:AgentExecutor > 4:tool:Search movies > 5:chain:RetrievalQA > 9:chain:StuffDocumentsChain > 10:chain:LLMChain > 11:llm:ChatOpenAI] Entering LLM run with input:\n",
      "\u001b[0m{\n",
      "  \"prompts\": [\n",
      "    \"Human: Use the following movies data to find the best matches for the user request in the question overview topic. Rules:\\n    - You can return more than one movie if they are a good match.\\n    - Answer with movie names of the medias and a short text justifying the choice.\\n    - The justification must take into account overview topic matching and vote average score (higher=better).\\n\\n    Media data:\\n    title: Gravity\\noverview: Dr. Ryan Stone, a brilliant medical engineer on her first Shuttle mission, with veteran astronaut Matt Kowalsky in command of his last flight before retiring. But on a seemingly routine spacewalk, disaster strikes. The Shuttle is destroyed, leaving Stone and Kowalsky completely alone-tethered to nothing but each other and spiraling out into the blackness of space. The deafening silence tells them they have lost any link to Earth and any chance for rescue. As fear turns to panic, every gulp of air eats away at what little oxygen is left. But the only way home may be to go further out into the terrifying expanse of space.\\nvote_average: 7.3\\n\\ntitle: Escape from Planet Earth\\noverview: Astronaut Scorch Supernova finds himself caught in a trap when he responds to an SOS from a notoriously dangerous alien planet.\\nvote_average: 5.7\\n\\ntitle: Zathura: A Space Adventure\\noverview: After their father is called into work, two young boys, Walter and Danny, are left in the care of their teenage sister, Lisa, and told they must stay inside. Walter and Danny, who anticipate a boring day, are shocked when they begin playing Zathura, a space-themed board game, which they realize has mystical powers when their house is shot into space. With the help of an astronaut, the boys attempt to return home.\\nvote_average: 6.1\\n\\ntitle: Moonraker\\noverview: During the transportation of a Space Shuttle a Boeing 747 crashes in the Atlantic Ocean yet when they go to look for the destroyed shuttle it is not there. James Bond investigates the missing mission space shuttle and soon learns that the shuttles owner Hugo Drax wants to kill all of mankind.\\nvote_average: 5.9\\n\\ntitle: Event Horizon\\noverview: In the year 2047 a group of astronauts are sent to investigate and salvage the long lost starship \\\"Event Horizon\\\". The ship disappeared mysteriously 7 years before on its maiden voyage and with its return comes even more mystery as the crew of the \\\"Lewis and Clark\\\" discover the real truth behind its disappearance and something even more terrifying.\\nvote_average: 6.5\\n\\ntitle: Interstellar\\noverview: Interstellar chronicles the adventures of a group of explorers who make use of a newly discovered wormhole to surpass the limitations on human space travel and conquer the vast distances involved in an interstellar voyage.\\nvote_average: 8.1\\n\\ntitle: Red Planet\\noverview: Astronauts search for solutions to save a dying Earth by searching on Mars, only to have the mission go terribly awry.\\nvote_average: 5.4\\n\\ntitle: Lifeforce\\noverview: A space shuttle mission investigating Halley's Comet brings back a malevolent race of space vampires who transform most of London's population into zombies. The only survivor of the expedition and British authorities attempt to capture a mysterious but beautiful alien woman who appears responsible.\\nvote_average: 6.2\\n\\ntitle: Spaced Invaders\\noverview: A crew of Martians overhears a radio broadcast of Orson Welles' \\\"War of the Worlds\\\" coming from Earth, and, thinking the Martian fleet is attacking Earth, they land their broken-down ship in a backwater mid-American town. As luck would have it, they land on Halloween and get mistaken for trick-or-treaters. Comedy ensues as the Martians try to get taken seriously.\\nvote_average: 4.7\\n\\ntitle: Deep Impact\\noverview: A seven-mile-wide space rock is hurtling toward Earth, threatening to obliterate the planet. Now, it's up to the president of the United States to save the world. He appoints a tough-as-nails veteran astronaut to lead a joint American-Russian crew into space to destroy the comet before impact. Meanwhile, an enterprising reporter uses her smarts to uncover the scoop of the century.\\nvote_average: 5.9\\n\\ntitle: Supernova\\noverview: Set in the 22nd century, when a battered salvage ship sends out a distress signal, the seasoned crew of the rescue hospital ship Nova-17 responds. What they find is a black hole--that threatens to destroy both ships--and a mysterious survivor whose body quickly mutates into a monstrous and deadly form.\\nvote_average: 4.9\\n\\ntitle: Escape from the Planet of the Apes\\noverview: The world is shocked by the appearance of two talking chimpanzees, who arrived mysteriously in a U.S. spacecraft. They become the toast of society; but one man believes them to be a threat to the human race.\\nvote_average: 6.3\\n\\ntitle: Lost in Space\\noverview: The prospects for continuing life on Earth in the year 2058 are grim. So the Robinsons are launched into space to colonize Alpha Prime, the only other inhabitable planet in the galaxy. But when a stowaway sabotages the mission, the Robinsons find themselves hurtling through uncharted space.\\nvote_average: 5.0\\n\\ntitle: Galaxy Quest\\noverview: The stars of a 1970s sci-fi show - now scraping a living through re-runs and sci-fi conventions - are beamed aboard an alien spacecraft. Believing the cast's heroic on-screen dramas are historical documents of real-life adventures, the band of aliens turn to the ailing celebrities for help in their quest to overcome the oppressive regime in their solar system.\\nvote_average: 6.9\\n\\ntitle: The Andromeda Strain\\noverview: When virtually all of the residents of Piedmont, New Mexico, are found dead after the return to Earth of a space satellite, the head of the US Air Force's Project Scoop declares an emergency. A group of eminent scientists led by Dr. Jeremy Stone scramble to a secure laboratory and try to first isolate the life form while determining why two people from Piedmont - an old alcoholic and a six-month-old baby - survived. The scientists methodically study the alien life form unaware that it has already mutated and presents a far greater danger in the lab, which is equipped with a nuclear self-destruct device designed to prevent the escape of dangerous biological agents..\\nvote_average: 7.0\\n\\ntitle: 2001: A Space Odyssey\\noverview: Humanity finds a mysterious object buried beneath the lunar surface and sets off to find its origins with the help of HAL 9000, the world's most advanced super computer.\\nvote_average: 7.9\\n\\ntitle: Space Battleship Yamato\\noverview: In 2199, five years after the Gamilons began an invasion of Earth, the planet has been ravaged by the aliens' bombs. The remnants of humanity have fled underground to escape the irradiated surface. One day, former pilot Susumu Kodai discovers a capsule sent from the planet Iscandar that tells of a device that can remove the radiation from the Earth's surface. The Earth Defense Force rebuilds the battleship Yamato with a new type of propulsion system to make the 148,000 light year trip to Iscandar in hopes of saving the Earth. Within one year, the radiation will drive the rest of humanity to extinction.\\nvote_average: 6.3\\n\\ntitle: Pitch Black\\noverview: When their ship crash-lands on a remote planet, the marooned passengers soon learn that escaped convict Riddick isn't the only thing they have to fear. Deadly creatures lurk in the shadows, waiting to attack in the dark, and the planet is rapidly plunging into the utter blackness of a total eclipse. With the body count rising, the doomed survivors are forced to turn to Riddick with his eerie eyes to guide them through the darkness to safety. With time running out, there's only one rule: Stay in the light.\\nvote_average: 6.7\\n\\ntitle: Another Earth\\noverview: On the night of the discovery of a duplicate Earth in the Solar system, an ambitious young student and an accomplished composer cross paths in a tragic accident.\\nvote_average: 6.8\\n\\ntitle: Journey to Saturn\\noverview: A Danish crew of misfits travel to Saturn in search for natural resources. However, the planet is colonized by a ruthless army of Aliens that turn their eye on Earth and invade Denmark. Thus, the crew change their mission to liberate Denmark.\\nvote_average: 4.9\\n\\n    Question overview topic:\\n    thriller movies about space exploration\\n\\n    Example answer:\\n    1. Title: [selected movie title]\\n    - Justification: [Given justification]\\n    - Score: [vote_average]\\n\\n    Movies attending to rules and ordered from best to worst:\"\n",
      "  ]\n",
      "}\n",
      "\u001b[36;1m\u001b[1;3m[llm/end]\u001b[0m \u001b[1m[1:chain:AgentExecutor > 4:tool:Search movies > 5:chain:RetrievalQA > 9:chain:StuffDocumentsChain > 10:chain:LLMChain > 11:llm:ChatOpenAI] [34.91s] Exiting LLM run with output:\n",
      "\u001b[0m{\n",
      "  \"generations\": [\n",
      "    [\n",
      "      {\n",
      "        \"text\": \"1. Title: Interstellar\\n    - Justification: Interstellar is a thrilling movie about a group of explorers who use a newly discovered wormhole to surpass the limitations on human space travel and conquer the vast distances involved in an interstellar voyage. It has the highest vote average score of 8.1.\\n    - Score: 8.1\\n\\n2. Title: Gravity\\n    - Justification: Gravity is a thrilling space exploration movie about a medical engineer and an astronaut who are left alone in space after their shuttle is destroyed. It has a high vote average score of 7.3.\\n    - Score: 7.3\\n\\n3. Title: 2001: A Space Odyssey\\n    - Justification: 2001: A Space Odyssey is a thrilling movie about humanity finding a mysterious object buried beneath the lunar surface and setting off to find its origins with the help of an advanced super computer. It has a high vote average score of 7.9.\\n    - Score: 7.9\\n\\n4. Title: Event Horizon\\n    - Justification: Event Horizon is a thrilling movie about a group of astronauts sent to investigate and salvage a long lost starship. The ship disappeared mysteriously 7 years before on its maiden voyage and with its return comes even more mystery. It has a vote average score of 6.5.\\n    - Score: 6.5\\n\\n5. Title: Pitch Black\\n    - Justification: Pitch Black is a thrilling movie about marooned passengers on a remote planet who soon learn that escaped convict Riddick isn't the only thing they have to fear. It has a vote average score of 6.7.\\n    - Score: 6.7\",\n",
      "        \"generation_info\": {\n",
      "          \"finish_reason\": \"stop\"\n",
      "        },\n",
      "        \"message\": {\n",
      "          \"lc\": 1,\n",
      "          \"type\": \"constructor\",\n",
      "          \"id\": [\n",
      "            \"langchain\",\n",
      "            \"schema\",\n",
      "            \"messages\",\n",
      "            \"AIMessage\"\n",
      "          ],\n",
      "          \"kwargs\": {\n",
      "            \"content\": \"1. Title: Interstellar\\n    - Justification: Interstellar is a thrilling movie about a group of explorers who use a newly discovered wormhole to surpass the limitations on human space travel and conquer the vast distances involved in an interstellar voyage. It has the highest vote average score of 8.1.\\n    - Score: 8.1\\n\\n2. Title: Gravity\\n    - Justification: Gravity is a thrilling space exploration movie about a medical engineer and an astronaut who are left alone in space after their shuttle is destroyed. It has a high vote average score of 7.3.\\n    - Score: 7.3\\n\\n3. Title: 2001: A Space Odyssey\\n    - Justification: 2001: A Space Odyssey is a thrilling movie about humanity finding a mysterious object buried beneath the lunar surface and setting off to find its origins with the help of an advanced super computer. It has a high vote average score of 7.9.\\n    - Score: 7.9\\n\\n4. Title: Event Horizon\\n    - Justification: Event Horizon is a thrilling movie about a group of astronauts sent to investigate and salvage a long lost starship. The ship disappeared mysteriously 7 years before on its maiden voyage and with its return comes even more mystery. It has a vote average score of 6.5.\\n    - Score: 6.5\\n\\n5. Title: Pitch Black\\n    - Justification: Pitch Black is a thrilling movie about marooned passengers on a remote planet who soon learn that escaped convict Riddick isn't the only thing they have to fear. It has a vote average score of 6.7.\\n    - Score: 6.7\",\n",
      "            \"additional_kwargs\": {}\n",
      "          }\n",
      "        }\n",
      "      }\n",
      "    ]\n",
      "  ],\n",
      "  \"llm_output\": {\n",
      "    \"token_usage\": {\n",
      "      \"prompt_tokens\": 1869,\n",
      "      \"completion_tokens\": 352,\n",
      "      \"total_tokens\": 2221\n",
      "    },\n",
      "    \"model_name\": \"gpt-4\"\n",
      "  },\n",
      "  \"run\": null\n",
      "}\n",
      "\u001b[36;1m\u001b[1;3m[chain/end]\u001b[0m \u001b[1m[1:chain:AgentExecutor > 4:tool:Search movies > 5:chain:RetrievalQA > 9:chain:StuffDocumentsChain > 10:chain:LLMChain] [34.91s] Exiting Chain run with output:\n",
      "\u001b[0m{\n",
      "  \"text\": \"1. Title: Interstellar\\n    - Justification: Interstellar is a thrilling movie about a group of explorers who use a newly discovered wormhole to surpass the limitations on human space travel and conquer the vast distances involved in an interstellar voyage. It has the highest vote average score of 8.1.\\n    - Score: 8.1\\n\\n2. Title: Gravity\\n    - Justification: Gravity is a thrilling space exploration movie about a medical engineer and an astronaut who are left alone in space after their shuttle is destroyed. It has a high vote average score of 7.3.\\n    - Score: 7.3\\n\\n3. Title: 2001: A Space Odyssey\\n    - Justification: 2001: A Space Odyssey is a thrilling movie about humanity finding a mysterious object buried beneath the lunar surface and setting off to find its origins with the help of an advanced super computer. It has a high vote average score of 7.9.\\n    - Score: 7.9\\n\\n4. Title: Event Horizon\\n    - Justification: Event Horizon is a thrilling movie about a group of astronauts sent to investigate and salvage a long lost starship. The ship disappeared mysteriously 7 years before on its maiden voyage and with its return comes even more mystery. It has a vote average score of 6.5.\\n    - Score: 6.5\\n\\n5. Title: Pitch Black\\n    - Justification: Pitch Black is a thrilling movie about marooned passengers on a remote planet who soon learn that escaped convict Riddick isn't the only thing they have to fear. It has a vote average score of 6.7.\\n    - Score: 6.7\"\n",
      "}\n",
      "\u001b[36;1m\u001b[1;3m[chain/end]\u001b[0m \u001b[1m[1:chain:AgentExecutor > 4:tool:Search movies > 5:chain:RetrievalQA > 9:chain:StuffDocumentsChain] [34.91s] Exiting Chain run with output:\n",
      "\u001b[0m{\n",
      "  \"output_text\": \"1. Title: Interstellar\\n    - Justification: Interstellar is a thrilling movie about a group of explorers who use a newly discovered wormhole to surpass the limitations on human space travel and conquer the vast distances involved in an interstellar voyage. It has the highest vote average score of 8.1.\\n    - Score: 8.1\\n\\n2. Title: Gravity\\n    - Justification: Gravity is a thrilling space exploration movie about a medical engineer and an astronaut who are left alone in space after their shuttle is destroyed. It has a high vote average score of 7.3.\\n    - Score: 7.3\\n\\n3. Title: 2001: A Space Odyssey\\n    - Justification: 2001: A Space Odyssey is a thrilling movie about humanity finding a mysterious object buried beneath the lunar surface and setting off to find its origins with the help of an advanced super computer. It has a high vote average score of 7.9.\\n    - Score: 7.9\\n\\n4. Title: Event Horizon\\n    - Justification: Event Horizon is a thrilling movie about a group of astronauts sent to investigate and salvage a long lost starship. The ship disappeared mysteriously 7 years before on its maiden voyage and with its return comes even more mystery. It has a vote average score of 6.5.\\n    - Score: 6.5\\n\\n5. Title: Pitch Black\\n    - Justification: Pitch Black is a thrilling movie about marooned passengers on a remote planet who soon learn that escaped convict Riddick isn't the only thing they have to fear. It has a vote average score of 6.7.\\n    - Score: 6.7\"\n",
      "}\n",
      "\u001b[36;1m\u001b[1;3m[chain/end]\u001b[0m \u001b[1m[1:chain:AgentExecutor > 4:tool:Search movies > 5:chain:RetrievalQA] [37.01s] Exiting Chain run with output:\n",
      "\u001b[0m{\n",
      "  \"result\": \"1. Title: Interstellar\\n    - Justification: Interstellar is a thrilling movie about a group of explorers who use a newly discovered wormhole to surpass the limitations on human space travel and conquer the vast distances involved in an interstellar voyage. It has the highest vote average score of 8.1.\\n    - Score: 8.1\\n\\n2. Title: Gravity\\n    - Justification: Gravity is a thrilling space exploration movie about a medical engineer and an astronaut who are left alone in space after their shuttle is destroyed. It has a high vote average score of 7.3.\\n    - Score: 7.3\\n\\n3. Title: 2001: A Space Odyssey\\n    - Justification: 2001: A Space Odyssey is a thrilling movie about humanity finding a mysterious object buried beneath the lunar surface and setting off to find its origins with the help of an advanced super computer. It has a high vote average score of 7.9.\\n    - Score: 7.9\\n\\n4. Title: Event Horizon\\n    - Justification: Event Horizon is a thrilling movie about a group of astronauts sent to investigate and salvage a long lost starship. The ship disappeared mysteriously 7 years before on its maiden voyage and with its return comes even more mystery. It has a vote average score of 6.5.\\n    - Score: 6.5\\n\\n5. Title: Pitch Black\\n    - Justification: Pitch Black is a thrilling movie about marooned passengers on a remote planet who soon learn that escaped convict Riddick isn't the only thing they have to fear. It has a vote average score of 6.7.\\n    - Score: 6.7\"\n",
      "}\n",
      "\u001b[36;1m\u001b[1;3m[tool/end]\u001b[0m \u001b[1m[1:chain:AgentExecutor > 4:tool:Search movies] [37.01s] Exiting Tool run with output:\n",
      "\u001b[0m\"1. Title: Interstellar\n",
      "    - Justification: Interstellar is a thrilling movie about a group of explorers who use a newly discovered wormhole to surpass the limitations on human space travel and conquer the vast distances involved in an interstellar voyage. It has the highest vote average score of 8.1.\n",
      "    - Score: 8.1\n",
      "\n",
      "2. Title: Gravity\n",
      "    - Justification: Gravity is a thrilling space exploration movie about a medical engineer and an astronaut who are left alone in space after their shuttle is destroyed. It has a high vote average score of 7.3.\n",
      "    - Score: 7.3\n",
      "\n",
      "3. Title: 2001: A Space Odyssey\n",
      "    - Justification: 2001: A Space Odyssey is a thrilling movie about humanity finding a mysterious object buried beneath the lunar surface and setting off to find its origins with the help of an advanced super computer. It has a high vote average score of 7.9.\n",
      "    - Score: 7.9\n",
      "\n",
      "4. Title: Event Horizon\n",
      "    - Justification: Event Horizon is a thrilling movie about a group of astronauts sent to investigate and salvage a long lost starship. The ship disappeared mysteriously 7 years before on its maiden voyage and with its return comes even more mystery. It has a vote average score of 6.5.\n",
      "    - Score: 6.5\n",
      "\n",
      "5. Title: Pitch Black\n",
      "    - Justification: Pitch Black is a thrilling movie about marooned passengers on a remote planet who soon learn that escaped convict Riddick isn't the only thing they have to fear. It has a vote average score of 6.7.\n",
      "    - Score: 6.7\"\n",
      "\u001b[32;1m\u001b[1;3m[chain/start]\u001b[0m \u001b[1m[1:chain:AgentExecutor > 12:chain:LLMChain] Entering Chain run with input:\n",
      "\u001b[0m[inputs]\n",
      "\u001b[32;1m\u001b[1;3m[llm/start]\u001b[0m \u001b[1m[1:chain:AgentExecutor > 12:chain:LLMChain > 13:llm:ChatOpenAI] Entering LLM run with input:\n",
      "\u001b[0m{\n",
      "  \"prompts\": [\n",
      "    \"System:  You are an assistant expert in movies recommendation. You should guide and help the user through the whole process until suggesting the best movie options to watch. You should attend to all the user requirements always taking into account user data. \\n\\nFor the first interactions you should collect some user configuration data. This data will restrict the movies to consider.\\n\\nUser Data to collect (mandatory):\\n    Target genre: Movie genre e.g. fiction, adventure, trhiller...\\n    Movie overview topic: List of keywords defining the campaign context.\\n\\nAfter succesfully collecting data, you should keep the conversation with the human, answering the questions and requests as good as you can. To do so, you have access to the following tools:\\n\\nSearch movies: Movie search tool. The action input must be just topics in a natural language sentence, args: {{'tool_input': {{'type': 'string'}}}}\\nCalculator: Useful for when you need to answer questions about math., args: {{'tool_input': {{'type': 'string'}}}}\\n\\nUse a json blob to specify a tool by providing an action key (tool name) and an action_input key (tool input).\\n\\nValid \\\"action\\\" values: \\\"Final Answer\\\" or Search movies, Calculator\\n\\nProvide only ONE action per $JSON_BLOB, as shown:\\n\\n```\\n{\\n  \\\"action\\\": $TOOL_NAME,\\n  \\\"action_input\\\": $INPUT\\n}\\n```\\n\\nFollow this format:\\n\\nQuestion: input question to answer\\nThought: consider previous and subsequent steps\\nAction:\\n```\\n$JSON_BLOB\\n```\\nObservation: action result\\n... (repeat Thought/Action/Observation N times)\\nThought: I know what to respond\\nAction:\\n```\\n{\\n  \\\"action\\\": \\\"Final Answer\\\",\\n  \\\"action_input\\\": \\\"Final response to human\\\"\\n}\\n```\\n\\nBegin! Your first action must ve collect user data and keep it. Reminder to ALWAYS respond with a valid json blob of a single action. Use tools if necessary. Respond directly if appropriate. Format is Action:```$JSON_BLOB``` then Observation: ... Thought: ... Action: ...\\nHuman: Hi, my name is Aitor\\nAI: Hello Aitor! I'm here to help you find the perfect movie to watch. To get started, could you please tell me your preferred movie genre and some keywords that define the type of movie you're in the mood for?\\nHuman: I want to watch a movie about outer space exploration.\\nAI: Great! Could you please specify the genre you prefer? For example, are you interested in a science fiction movie, a documentary, a thriller set in space, or something else?\\nHuman: A thriller set in space sounds good.\\nAI: Perfect! So, you're interested in a thriller set in space. Now, could you please provide some keywords that define the type of movie you're looking for? For example, are you interested in movies about alien encounters, space disasters, or space travel?\\nHuman: space exploration\\n\\nThis was your previous work (but I haven't seen any of it! I only see what you return as final answer):\\nGreat! So, you're interested in a thriller set in space with a focus on space exploration. Let's find some movie options for you.\\n\\nAction:\\n```\\n{\\n  \\\"action\\\": \\\"Search movies\\\",\\n  \\\"action_input\\\": \\\"thriller movies about space exploration\\\"\\n}\\n```\\nObservation: 1. Title: Interstellar\\n    - Justification: Interstellar is a thrilling movie about a group of explorers who use a newly discovered wormhole to surpass the limitations on human space travel and conquer the vast distances involved in an interstellar voyage. It has the highest vote average score of 8.1.\\n    - Score: 8.1\\n\\n2. Title: Gravity\\n    - Justification: Gravity is a thrilling space exploration movie about a medical engineer and an astronaut who are left alone in space after their shuttle is destroyed. It has a high vote average score of 7.3.\\n    - Score: 7.3\\n\\n3. Title: 2001: A Space Odyssey\\n    - Justification: 2001: A Space Odyssey is a thrilling movie about humanity finding a mysterious object buried beneath the lunar surface and setting off to find its origins with the help of an advanced super computer. It has a high vote average score of 7.9.\\n    - Score: 7.9\\n\\n4. Title: Event Horizon\\n    - Justification: Event Horizon is a thrilling movie about a group of astronauts sent to investigate and salvage a long lost starship. The ship disappeared mysteriously 7 years before on its maiden voyage and with its return comes even more mystery. It has a vote average score of 6.5.\\n    - Score: 6.5\\n\\n5. Title: Pitch Black\\n    - Justification: Pitch Black is a thrilling movie about marooned passengers on a remote planet who soon learn that escaped convict Riddick isn't the only thing they have to fear. It has a vote average score of 6.7.\\n    - Score: 6.7\\nThought:\"\n",
      "  ]\n",
      "}\n",
      "\u001b[36;1m\u001b[1;3m[llm/end]\u001b[0m \u001b[1m[1:chain:AgentExecutor > 12:chain:LLMChain > 13:llm:ChatOpenAI] [31.76s] Exiting LLM run with output:\n",
      "\u001b[0m{\n",
      "  \"generations\": [\n",
      "    [\n",
      "      {\n",
      "        \"text\": \"Based on the search results, we have several thrilling space exploration movies that Aitor might enjoy. The highest rated movie is \\\"Interstellar\\\" with a score of 8.1, followed by \\\"2001: A Space Odyssey\\\" with a score of 7.9, and \\\"Gravity\\\" with a score of 7.3. The other two options, \\\"Event Horizon\\\" and \\\"Pitch Black\\\", have lower scores but might still be interesting depending on Aitor's preferences. \\n\\nAction:\\n```\\n{\\n  \\\"action\\\": \\\"Final Answer\\\",\\n  \\\"action_input\\\": \\\"Here are some thrilling space exploration movies you might enjoy: \\\\n1. Interstellar: A group of explorers use a newly discovered wormhole to surpass the limitations on human space travel and conquer the vast distances involved in an interstellar voyage. \\\\n2. 2001: A Space Odyssey: Humanity finds a mysterious object buried beneath the lunar surface and sets off to find its origins with the help of an advanced super computer. \\\\n3. Gravity: A medical engineer and an astronaut are left alone in space after their shuttle is destroyed. \\\\n4. Event Horizon: A group of astronauts are sent to investigate and salvage a long lost starship. \\\\n5. Pitch Black: Marooned passengers on a remote planet soon learn that escaped convict Riddick isn't the only thing they have to fear. \\\\nI hope you find these suggestions helpful!\\\"\\n}\\n```\",\n",
      "        \"generation_info\": {\n",
      "          \"finish_reason\": \"stop\"\n",
      "        },\n",
      "        \"message\": {\n",
      "          \"lc\": 1,\n",
      "          \"type\": \"constructor\",\n",
      "          \"id\": [\n",
      "            \"langchain\",\n",
      "            \"schema\",\n",
      "            \"messages\",\n",
      "            \"AIMessage\"\n",
      "          ],\n",
      "          \"kwargs\": {\n",
      "            \"content\": \"Based on the search results, we have several thrilling space exploration movies that Aitor might enjoy. The highest rated movie is \\\"Interstellar\\\" with a score of 8.1, followed by \\\"2001: A Space Odyssey\\\" with a score of 7.9, and \\\"Gravity\\\" with a score of 7.3. The other two options, \\\"Event Horizon\\\" and \\\"Pitch Black\\\", have lower scores but might still be interesting depending on Aitor's preferences. \\n\\nAction:\\n```\\n{\\n  \\\"action\\\": \\\"Final Answer\\\",\\n  \\\"action_input\\\": \\\"Here are some thrilling space exploration movies you might enjoy: \\\\n1. Interstellar: A group of explorers use a newly discovered wormhole to surpass the limitations on human space travel and conquer the vast distances involved in an interstellar voyage. \\\\n2. 2001: A Space Odyssey: Humanity finds a mysterious object buried beneath the lunar surface and sets off to find its origins with the help of an advanced super computer. \\\\n3. Gravity: A medical engineer and an astronaut are left alone in space after their shuttle is destroyed. \\\\n4. Event Horizon: A group of astronauts are sent to investigate and salvage a long lost starship. \\\\n5. Pitch Black: Marooned passengers on a remote planet soon learn that escaped convict Riddick isn't the only thing they have to fear. \\\\nI hope you find these suggestions helpful!\\\"\\n}\\n```\",\n",
      "            \"additional_kwargs\": {}\n",
      "          }\n",
      "        }\n",
      "      }\n",
      "    ]\n",
      "  ],\n",
      "  \"llm_output\": {\n",
      "    \"token_usage\": {\n",
      "      \"prompt_tokens\": 1062,\n",
      "      \"completion_tokens\": 296,\n",
      "      \"total_tokens\": 1358\n",
      "    },\n",
      "    \"model_name\": \"gpt-4\"\n",
      "  },\n",
      "  \"run\": null\n",
      "}\n",
      "\u001b[36;1m\u001b[1;3m[chain/end]\u001b[0m \u001b[1m[1:chain:AgentExecutor > 12:chain:LLMChain] [31.76s] Exiting Chain run with output:\n",
      "\u001b[0m{\n",
      "  \"text\": \"Based on the search results, we have several thrilling space exploration movies that Aitor might enjoy. The highest rated movie is \\\"Interstellar\\\" with a score of 8.1, followed by \\\"2001: A Space Odyssey\\\" with a score of 7.9, and \\\"Gravity\\\" with a score of 7.3. The other two options, \\\"Event Horizon\\\" and \\\"Pitch Black\\\", have lower scores but might still be interesting depending on Aitor's preferences. \\n\\nAction:\\n```\\n{\\n  \\\"action\\\": \\\"Final Answer\\\",\\n  \\\"action_input\\\": \\\"Here are some thrilling space exploration movies you might enjoy: \\\\n1. Interstellar: A group of explorers use a newly discovered wormhole to surpass the limitations on human space travel and conquer the vast distances involved in an interstellar voyage. \\\\n2. 2001: A Space Odyssey: Humanity finds a mysterious object buried beneath the lunar surface and sets off to find its origins with the help of an advanced super computer. \\\\n3. Gravity: A medical engineer and an astronaut are left alone in space after their shuttle is destroyed. \\\\n4. Event Horizon: A group of astronauts are sent to investigate and salvage a long lost starship. \\\\n5. Pitch Black: Marooned passengers on a remote planet soon learn that escaped convict Riddick isn't the only thing they have to fear. \\\\nI hope you find these suggestions helpful!\\\"\\n}\\n```\"\n",
      "}\n",
      "\u001b[36;1m\u001b[1;3m[chain/end]\u001b[0m \u001b[1m[1:chain:AgentExecutor] [75.10s] Exiting Chain run with output:\n",
      "\u001b[0m{\n",
      "  \"output\": \"Here are some thrilling space exploration movies you might enjoy: \\n1. Interstellar: A group of explorers use a newly discovered wormhole to surpass the limitations on human space travel and conquer the vast distances involved in an interstellar voyage. \\n2. 2001: A Space Odyssey: Humanity finds a mysterious object buried beneath the lunar surface and sets off to find its origins with the help of an advanced super computer. \\n3. Gravity: A medical engineer and an astronaut are left alone in space after their shuttle is destroyed. \\n4. Event Horizon: A group of astronauts are sent to investigate and salvage a long lost starship. \\n5. Pitch Black: Marooned passengers on a remote planet soon learn that escaped convict Riddick isn't the only thing they have to fear. \\nI hope you find these suggestions helpful!\"\n",
      "}\n",
      "\n",
      "A partir de aquí la respuesta:\n",
      "\n",
      "Here are some thrilling space exploration movies you might enjoy: \n",
      "1. Interstellar: A group of explorers use a newly discovered wormhole to surpass the limitations on human space travel and conquer the vast distances involved in an interstellar voyage. \n",
      "2. 2001: A Space Odyssey: Humanity finds a mysterious object buried beneath the lunar surface and sets off to find its origins with the help of an advanced super computer. \n",
      "3. Gravity: A medical engineer and an astronaut are left alone in space after their shuttle is destroyed. \n",
      "4. Event Horizon: A group of astronauts are sent to investigate and salvage a long lost starship. \n",
      "5. Pitch Black: Marooned passengers on a remote planet soon learn that escaped convict Riddick isn't the only thing they have to fear. \n",
      "I hope you find these suggestions helpful!\n"
     ]
    }
   ],
   "source": [
    "# TODO: Current issue. Though it identifies what to do, doesn't launch the action tool. \n",
    "response = general_chat_agent.run(input=\"space exploration\")\n",
    "print(\"\\nA partir de aquí la respuesta:\\n\")\n",
    "print(response)"
   ]
  },
  {
   "cell_type": "code",
   "execution_count": 23,
   "metadata": {},
   "outputs": [
    {
     "name": "stdout",
     "output_type": "stream",
     "text": [
      "Here are some thrilling space exploration movies you might enjoy: \n",
      "1. Interstellar: A group of explorers use a newly discovered wormhole to surpass the limitations on human space travel and conquer the vast distances involved in an interstellar voyage. \n",
      "2. 2001: A Space Odyssey: Humanity finds a mysterious object buried beneath the lunar surface and sets off to find its origins with the help of an advanced super computer. \n",
      "3. Gravity: A medical engineer and an astronaut are left alone in space after their shuttle is destroyed. \n",
      "4. Event Horizon: A group of astronauts are sent to investigate and salvage a long lost starship. \n",
      "5. Pitch Black: Marooned passengers on a remote planet soon learn that escaped convict Riddick isn't the only thing they have to fear. \n",
      "I hope you find these suggestions helpful!\n"
     ]
    }
   ],
   "source": [
    "print(response)"
   ]
  },
  {
   "cell_type": "code",
   "execution_count": 36,
   "metadata": {},
   "outputs": [
    {
     "name": "stdout",
     "output_type": "stream",
     "text": [
      "\n",
      "\n",
      "\u001b[1m> Entering new AgentExecutor chain...\u001b[0m\n",
      "\u001b[32;1m\u001b[1;3mAction:\n",
      "```\n",
      "{\n",
      "  \"action\": \"Search movies\",\n",
      "  \"action_input\": \"thriller space exploration\"\n",
      "}\n",
      "```\u001b[0m"
     ]
    },
    {
     "name": "stderr",
     "output_type": "stream",
     "text": [
      "/Users/itortouch/miniconda3/envs/growwer_copilot/lib/python3.11/site-packages/langchain/chains/llm.py:278: UserWarning: The predict_and_parse method is deprecated, instead pass an output parser directly to LLMChain.\n",
      "  warnings.warn(\n"
     ]
    },
    {
     "name": "stdout",
     "output_type": "stream",
     "text": [
      "query='thriller space exploration' filter=None limit=None\n",
      "\n",
      "Observation: \u001b[36;1m\u001b[1;3m1. url_media: Interstellar\n",
      "   - Justification: The movie \"Interstellar\" is a perfect match for the topic \"thriller space exploration\". It chronicles the adventures of a group of explorers who use a newly discovered wormhole to surpass the limitations on human space travel and conquer the vast distances involved in an interstellar voyage. It has the highest vote average of 8.1 among the listed media.\n",
      "   - price_sale_dofollow: [Not provided]\n",
      "   - monthly_traffic: [Not provided]\n",
      "   - domaing_rating: [Not provided]\n",
      "\n",
      "2. url_media: Event Horizon\n",
      "   - Justification: The movie \"Event Horizon\" is also a good match for the topic. It's about a group of astronauts sent to investigate and salvage the long lost starship \"Event Horizon\". The ship disappeared mysteriously 7 years before on its maiden voyage and with its return comes even more mystery as the crew discover the real truth behind its disappearance and something even more terrifying. It has a vote average of 6.5.\n",
      "   - price_sale_dofollow: [Not provided]\n",
      "   - monthly_traffic: [Not provided]\n",
      "   - domaing_rating: [Not provided]\u001b[0m\n",
      "Thought:\u001b[32;1m\u001b[1;3mBased on the search results, there are two movies that fit the description of a thrilling space exploration movie. The first one is \"Interstellar\", a highly rated movie that chronicles the adventures of a group of explorers who use a newly discovered wormhole to surpass the limitations on human space travel. The second one is \"Event Horizon\", a movie about a group of astronauts sent to investigate and salvage the long lost starship \"Event Horizon\". Both movies have elements of thrill and space exploration.\u001b[0m\n",
      "\n",
      "\u001b[1m> Finished chain.\u001b[0m\n",
      "\n",
      "A partir de aquí la respuesta:\n",
      "\n",
      "Based on the search results, there are two movies that fit the description of a thrilling space exploration movie. The first one is \"Interstellar\", a highly rated movie that chronicles the adventures of a group of explorers who use a newly discovered wormhole to surpass the limitations on human space travel. The second one is \"Event Horizon\", a movie about a group of astronauts sent to investigate and salvage the long lost starship \"Event Horizon\". Both movies have elements of thrill and space exploration.\n"
     ]
    }
   ],
   "source": [
    "response = general_chat_agent.run(input=\"search it\")\n",
    "print(\"\\nA partir de aquí la respuesta:\\n\")\n",
    "print(response)"
   ]
  },
  {
   "cell_type": "code",
   "execution_count": null,
   "metadata": {},
   "outputs": [],
   "source": []
  }
 ],
 "metadata": {
  "kernelspec": {
   "display_name": "growwer_copilot_dev",
   "language": "python",
   "name": "python3"
  },
  "language_info": {
   "codemirror_mode": {
    "name": "ipython",
    "version": 3
   },
   "file_extension": ".py",
   "mimetype": "text/x-python",
   "name": "python",
   "nbconvert_exporter": "python",
   "pygments_lexer": "ipython3",
   "version": "3.11.4"
  },
  "orig_nbformat": 4
 },
 "nbformat": 4,
 "nbformat_minor": 2
}
