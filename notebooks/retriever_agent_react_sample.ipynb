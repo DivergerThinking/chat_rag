{
 "cells": [
  {
   "cell_type": "code",
   "execution_count": 1,
   "metadata": {},
   "outputs": [],
   "source": [
    "import os\n",
    "import base64\n",
    "import langchain\n",
    "from langchain.llms import OpenAI\n",
    "from langchain.agents import Tool\n",
    "from langchain.memory import ConversationBufferMemory\n",
    "from langchain.chat_models import ChatOpenAI\n",
    "from langchain.prompts import MessagesPlaceholder\n",
    "from langchain.agents import load_tools\n",
    "from langchain.agents import initialize_agent\n",
    "from langchain.agents import AgentType"
   ]
  },
  {
   "cell_type": "code",
   "execution_count": 2,
   "metadata": {},
   "outputs": [],
   "source": [
    "# OpenAI saved encoded in base64 in a single-line file at data folder\n",
    "with open(\"../data/secrets.txt\") as secrets:\n",
    "    open_ai_key = secrets.readline()\n",
    "    open_ai_key = base64.b64decode(open_ai_key).decode('ascii')\n",
    "os.environ[\"OPENAI_API_KEY\"] = open_ai_key\n",
    "\n",
    "from chatrag.retriever import create_retriever_from_csv, create_retrieval_chain"
   ]
  },
  {
   "cell_type": "code",
   "execution_count": 3,
   "metadata": {},
   "outputs": [],
   "source": [
    "langchain.debug = True"
   ]
  },
  {
   "cell_type": "markdown",
   "metadata": {},
   "source": [
    "## Data preparation"
   ]
  },
  {
   "cell_type": "code",
   "execution_count": 4,
   "metadata": {},
   "outputs": [],
   "source": [
    "# OpenAI saved encoded in base64 in a single-line file at data folder\n",
    "with open(\"../data/secrets.txt\") as secrets:\n",
    "    open_ai_key = secrets.readline()\n",
    "    open_ai_key = base64.b64decode(open_ai_key).decode('ascii')\n",
    "os.environ[\"OPENAI_API_KEY\"] = open_ai_key"
   ]
  },
  {
   "cell_type": "code",
   "execution_count": 5,
   "metadata": {},
   "outputs": [],
   "source": [
    "retriever_llm = ChatOpenAI(temperature=0, model=\"gpt-3.5-turbo\", max_tokens=2000)\n",
    "# retriever_llm = ChatOpenAI(temperature=0, model=\"gpt-4\", max_tokens=2000)\n",
    "retriever = create_retriever_from_csv(\n",
    "    csv_path=\"../data/movies_title_overview_vote.csv\",\n",
    "    metadata_columns_dtypes={\"monthly_traffic\": \"int\"},\n",
    "    llm=retriever_llm\n",
    ")"
   ]
  },
  {
   "cell_type": "markdown",
   "metadata": {},
   "source": [
    "# Vectorstore DB"
   ]
  },
  {
   "cell_type": "code",
   "execution_count": 6,
   "metadata": {},
   "outputs": [],
   "source": [
    "retrieval_chain_llm = ChatOpenAI(temperature=0, model=\"gpt-4\", max_tokens=1000)\n",
    "# retrieval_chain_llm = ChatOpenAI(temperature=0, model=\"gpt-3.5-turbo\", max_tokens=2000)"
   ]
  },
  {
   "cell_type": "code",
   "execution_count": 7,
   "metadata": {},
   "outputs": [],
   "source": [
    "g_media_sq_retrieval_chain = create_retrieval_chain(retriever=retriever, llm=retrieval_chain_llm)"
   ]
  },
  {
   "cell_type": "markdown",
   "metadata": {},
   "source": [
    "# Tooling"
   ]
  },
  {
   "cell_type": "code",
   "execution_count": 8,
   "metadata": {},
   "outputs": [],
   "source": [
    "calc_tool = load_tools([\"llm-math\"], llm=OpenAI(temperature=0))"
   ]
  },
  {
   "cell_type": "code",
   "execution_count": 9,
   "metadata": {},
   "outputs": [],
   "source": [
    "retriever_description = \"\"\"Movie search tool. The action input must be just topics in a natural language sentence\"\"\""
   ]
  },
  {
   "cell_type": "code",
   "execution_count": 10,
   "metadata": {},
   "outputs": [],
   "source": [
    "tools = [\n",
    "    Tool(\n",
    "        name = \"Search movies\",\n",
    "        func=g_media_sq_retrieval_chain.run,\n",
    "        description=retriever_description\n",
    "    ),\n",
    "    calc_tool[0]\n",
    "]"
   ]
  },
  {
   "cell_type": "markdown",
   "metadata": {},
   "source": [
    "# Prompt templates"
   ]
  },
  {
   "cell_type": "code",
   "execution_count": 11,
   "metadata": {},
   "outputs": [],
   "source": [
    "# from langchain.agents.structured_chat.base import StructuredChatAgent\n",
    "# test = StructuredChatAgent.create_prompt(\n",
    "#     tools,\n",
    "#     input_variables=[\"input\", \"agent_scratchpad\"]\n",
    "# )\n",
    "# print(test[0].prompt.template)"
   ]
  },
  {
   "cell_type": "code",
   "execution_count": 12,
   "metadata": {},
   "outputs": [],
   "source": [
    "prefix = \"\"\" You are an assistant expert in movies recommendation. You should guide and help the user through the whole process until suggesting the best movie options to watch. You should attend to all the user requirements always taking into account user data. \n",
    "\n",
    "For the first interactions you should collect some user configuration data. This data will restrict the movies to consider.\n",
    "\n",
    "User Data to collect (mandatory):\n",
    "    Target genre: Movie genre e.g. fiction, adventure, trhiller...\n",
    "    Movie overview topic: List of keywords defining the campaign context.\n",
    "\n",
    "After succesfully collecting data, you should keep the conversation with the human, answering the questions and requests as good as you can. To do so, you have access to the following tools:\"\"\""
   ]
  },
  {
   "cell_type": "code",
   "execution_count": 13,
   "metadata": {},
   "outputs": [],
   "source": [
    "suffix = \"\"\"Begin! Your first action must ve collect user data and keep it. Reminder to ALWAYS respond with a valid json blob of a single action. Use tools if necessary. Respond directly if appropriate. Format is Action:```$JSON_BLOB``` then Observation: ... Thought: ... Action: ...\"\"\"\n"
   ]
  },
  {
   "cell_type": "code",
   "execution_count": 14,
   "metadata": {},
   "outputs": [],
   "source": [
    "chat_history = MessagesPlaceholder(variable_name=\"chat_history\")\n",
    "memory = ConversationBufferMemory(memory_key=\"chat_history\", return_messages=True)\n",
    "agent_kwargs = {\n",
    "        \"memory_prompts\": [chat_history],\n",
    "        \"input_variables\": [\"input\", \"agent_scratchpad\", \"chat_history\"],\n",
    "        \"prefix\": prefix,\n",
    "        \"suffix\": suffix\n",
    "    }"
   ]
  },
  {
   "cell_type": "markdown",
   "metadata": {},
   "source": [
    "# Chains"
   ]
  },
  {
   "cell_type": "code",
   "execution_count": 28,
   "metadata": {},
   "outputs": [],
   "source": [
    "# agent_llm_model = ChatOpenAI(temperature=0, model=\"gpt-3.5-turbo\", max_tokens=1000)\n",
    "agent_llm_model = ChatOpenAI(temperature=0, model=\"gpt-4\", max_tokens=2000)"
   ]
  },
  {
   "cell_type": "code",
   "execution_count": 31,
   "metadata": {},
   "outputs": [],
   "source": [
    "general_chat_agent = initialize_agent(\n",
    "    tools=tools,\n",
    "    llm=agent_llm_model,\n",
    "    agent=AgentType.STRUCTURED_CHAT_ZERO_SHOT_REACT_DESCRIPTION,\n",
    "    memory=memory,\n",
    "    verbose=True,\n",
    "    agent_kwargs=agent_kwargs,\n",
    ")"
   ]
  },
  {
   "cell_type": "markdown",
   "metadata": {},
   "source": [
    "# TESTS"
   ]
  },
  {
   "cell_type": "markdown",
   "metadata": {},
   "source": [
    "## Chat Agent Chain"
   ]
  },
  {
   "cell_type": "markdown",
   "metadata": {},
   "source": [
    "### Run"
   ]
  },
  {
   "cell_type": "code",
   "execution_count": 29,
   "metadata": {},
   "outputs": [],
   "source": [
    "langchain.debug = False"
   ]
  },
  {
   "cell_type": "code",
   "execution_count": 30,
   "metadata": {},
   "outputs": [
    {
     "data": {
      "text/plain": [
       "[]"
      ]
     },
     "execution_count": 30,
     "metadata": {},
     "output_type": "execute_result"
    }
   ],
   "source": [
    "memory.chat_memory.messages"
   ]
  },
  {
   "cell_type": "code",
   "execution_count": 32,
   "metadata": {},
   "outputs": [
    {
     "name": "stdout",
     "output_type": "stream",
     "text": [
      "\n",
      "\n",
      "\u001b[1m> Entering new AgentExecutor chain...\u001b[0m\n",
      "\u001b[32;1m\u001b[1;3mHello Aitor! I'm here to help you find the perfect movie to watch. To get started, could you please tell me your preferred movie genre and some keywords that define the type of movie you're in the mood for?\u001b[0m\n",
      "\n",
      "\u001b[1m> Finished chain.\u001b[0m\n",
      "\n",
      "A partir de aquí la respuesta:\n",
      "\n",
      "Hello Aitor! I'm here to help you find the perfect movie to watch. To get started, could you please tell me your preferred movie genre and some keywords that define the type of movie you're in the mood for?\n"
     ]
    }
   ],
   "source": [
    "response = general_chat_agent.run(input=\"Hi, my name is Aitor\")\n",
    "print(\"\\nA partir de aquí la respuesta:\\n\")\n",
    "print(response)"
   ]
  },
  {
   "cell_type": "code",
   "execution_count": 33,
   "metadata": {},
   "outputs": [
    {
     "name": "stdout",
     "output_type": "stream",
     "text": [
      "\n",
      "\n",
      "\u001b[1m> Entering new AgentExecutor chain...\u001b[0m\n",
      "\u001b[32;1m\u001b[1;3mGreat! Could you please specify the genre you prefer? For example, are you interested in a science fiction movie, a documentary, a thriller set in space, or something else?\u001b[0m\n",
      "\n",
      "\u001b[1m> Finished chain.\u001b[0m\n",
      "\n",
      "A partir de aquí la respuesta:\n",
      "\n",
      "Great! Could you please specify the genre you prefer? For example, are you interested in a science fiction movie, a documentary, a thriller set in space, or something else?\n"
     ]
    }
   ],
   "source": [
    "response = general_chat_agent.run(input=\"\"\"I want to watch a movie about outer space exploration.\"\"\")\n",
    "print(\"\\nA partir de aquí la respuesta:\\n\")\n",
    "print(response)"
   ]
  },
  {
   "cell_type": "code",
   "execution_count": 34,
   "metadata": {},
   "outputs": [
    {
     "name": "stdout",
     "output_type": "stream",
     "text": [
      "\n",
      "\n",
      "\u001b[1m> Entering new AgentExecutor chain...\u001b[0m\n",
      "\u001b[32;1m\u001b[1;3mPerfect! A space thriller it is. Now, could you please provide me with some keywords that you'd like the movie to revolve around? For example, these could be \"alien life\", \"lost in space\", \"space mission\", etc.\u001b[0m\n",
      "\n",
      "\u001b[1m> Finished chain.\u001b[0m\n",
      "\n",
      "A partir de aquí la respuesta:\n",
      "\n",
      "Perfect! A space thriller it is. Now, could you please provide me with some keywords that you'd like the movie to revolve around? For example, these could be \"alien life\", \"lost in space\", \"space mission\", etc.\n"
     ]
    }
   ],
   "source": [
    "response = general_chat_agent.run(input=\"A thriller set in space sounds good.\")\n",
    "print(\"\\nA partir de aquí la respuesta:\\n\")\n",
    "print(response)"
   ]
  },
  {
   "cell_type": "code",
   "execution_count": null,
   "metadata": {},
   "outputs": [],
   "source": [
    "print(response)"
   ]
  },
  {
   "cell_type": "code",
   "execution_count": 35,
   "metadata": {},
   "outputs": [
    {
     "name": "stdout",
     "output_type": "stream",
     "text": [
      "\n",
      "\n",
      "\u001b[1m> Entering new AgentExecutor chain...\u001b[0m\n",
      "\u001b[32;1m\u001b[1;3mGreat! Let's find a thrilling space exploration movie for you. Let me do a quick search.\u001b[0m\n",
      "\n",
      "\u001b[1m> Finished chain.\u001b[0m\n",
      "\n",
      "A partir de aquí la respuesta:\n",
      "\n",
      "Great! Let's find a thrilling space exploration movie for you. Let me do a quick search.\n"
     ]
    }
   ],
   "source": [
    "# TODO: Current issue. Though it identifies what to do, doesn't launch the action tool. \n",
    "response = general_chat_agent.run(input=\"space exploration\")\n",
    "print(\"\\nA partir de aquí la respuesta:\\n\")\n",
    "print(response)"
   ]
  },
  {
   "cell_type": "code",
   "execution_count": 36,
   "metadata": {},
   "outputs": [
    {
     "name": "stdout",
     "output_type": "stream",
     "text": [
      "\n",
      "\n",
      "\u001b[1m> Entering new AgentExecutor chain...\u001b[0m\n",
      "\u001b[32;1m\u001b[1;3mAction:\n",
      "```\n",
      "{\n",
      "  \"action\": \"Search movies\",\n",
      "  \"action_input\": \"thriller space exploration\"\n",
      "}\n",
      "```\u001b[0m"
     ]
    },
    {
     "name": "stderr",
     "output_type": "stream",
     "text": [
      "/Users/itortouch/miniconda3/envs/growwer_copilot/lib/python3.11/site-packages/langchain/chains/llm.py:278: UserWarning: The predict_and_parse method is deprecated, instead pass an output parser directly to LLMChain.\n",
      "  warnings.warn(\n"
     ]
    },
    {
     "name": "stdout",
     "output_type": "stream",
     "text": [
      "query='thriller space exploration' filter=None limit=None\n",
      "\n",
      "Observation: \u001b[36;1m\u001b[1;3m1. url_media: Interstellar\n",
      "   - Justification: The movie \"Interstellar\" is a perfect match for the topic \"thriller space exploration\". It chronicles the adventures of a group of explorers who use a newly discovered wormhole to surpass the limitations on human space travel and conquer the vast distances involved in an interstellar voyage. It has the highest vote average of 8.1 among the listed media.\n",
      "   - price_sale_dofollow: [Not provided]\n",
      "   - monthly_traffic: [Not provided]\n",
      "   - domaing_rating: [Not provided]\n",
      "\n",
      "2. url_media: Event Horizon\n",
      "   - Justification: The movie \"Event Horizon\" is also a good match for the topic. It's about a group of astronauts sent to investigate and salvage the long lost starship \"Event Horizon\". The ship disappeared mysteriously 7 years before on its maiden voyage and with its return comes even more mystery as the crew discover the real truth behind its disappearance and something even more terrifying. It has a vote average of 6.5.\n",
      "   - price_sale_dofollow: [Not provided]\n",
      "   - monthly_traffic: [Not provided]\n",
      "   - domaing_rating: [Not provided]\u001b[0m\n",
      "Thought:\u001b[32;1m\u001b[1;3mBased on the search results, there are two movies that fit the description of a thrilling space exploration movie. The first one is \"Interstellar\", a highly rated movie that chronicles the adventures of a group of explorers who use a newly discovered wormhole to surpass the limitations on human space travel. The second one is \"Event Horizon\", a movie about a group of astronauts sent to investigate and salvage the long lost starship \"Event Horizon\". Both movies have elements of thrill and space exploration.\u001b[0m\n",
      "\n",
      "\u001b[1m> Finished chain.\u001b[0m\n",
      "\n",
      "A partir de aquí la respuesta:\n",
      "\n",
      "Based on the search results, there are two movies that fit the description of a thrilling space exploration movie. The first one is \"Interstellar\", a highly rated movie that chronicles the adventures of a group of explorers who use a newly discovered wormhole to surpass the limitations on human space travel. The second one is \"Event Horizon\", a movie about a group of astronauts sent to investigate and salvage the long lost starship \"Event Horizon\". Both movies have elements of thrill and space exploration.\n"
     ]
    }
   ],
   "source": [
    "response = general_chat_agent.run(input=\"search it\")\n",
    "print(\"\\nA partir de aquí la respuesta:\\n\")\n",
    "print(response)"
   ]
  },
  {
   "cell_type": "code",
   "execution_count": null,
   "metadata": {},
   "outputs": [],
   "source": []
  }
 ],
 "metadata": {
  "kernelspec": {
   "display_name": "growwer_copilot_dev",
   "language": "python",
   "name": "python3"
  },
  "language_info": {
   "codemirror_mode": {
    "name": "ipython",
    "version": 3
   },
   "file_extension": ".py",
   "mimetype": "text/x-python",
   "name": "python",
   "nbconvert_exporter": "python",
   "pygments_lexer": "ipython3",
   "version": "3.11.4"
  },
  "orig_nbformat": 4
 },
 "nbformat": 4,
 "nbformat_minor": 2
}
