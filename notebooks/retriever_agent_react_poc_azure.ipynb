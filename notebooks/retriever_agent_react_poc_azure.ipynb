{
 "cells": [
  {
   "cell_type": "code",
   "execution_count": null,
   "metadata": {},
   "outputs": [],
   "source": [
    "import os\n",
    "from dotenv import load_dotenv\n",
    "\n",
    "from langchain.agents import AgentType, Tool, initialize_agent\n",
    "# from langchain.chat_models import ChatOpenAI\n",
    "from langchain.chat_models import AzureChatOpenAI\n",
    "from langchain.memory import ConversationBufferMemory\n",
    "\n",
    "from chatrag.retriever import create_retrieval_chain, create_retriever_from_csv"
   ]
  },
  {
   "cell_type": "code",
   "execution_count": null,
   "metadata": {},
   "outputs": [],
   "source": [
    "# import logging\n",
    "# logging.basicConfig(level=logging.DEBUG)"
   ]
  },
  {
   "cell_type": "code",
   "execution_count": null,
   "metadata": {},
   "outputs": [],
   "source": [
    "os.environ[\"LANGCHAIN_WANDB_TRACING\"] = \"true\"\n",
    "os.environ[\"WANDB_PROJECT\"] = \"chatrag\"\n",
    "os.environ[\"WANDB_NOTEBOOK_NAME\"] = \"retriever_agent_react_poc_azure\""
   ]
  },
  {
   "cell_type": "code",
   "execution_count": null,
   "metadata": {},
   "outputs": [],
   "source": [
    "load_dotenv()"
   ]
  },
  {
   "cell_type": "code",
   "execution_count": null,
   "metadata": {},
   "outputs": [],
   "source": [
    "os.environ[\"OPENAI_API_TYPE\"] = \"azure\"\n",
    "os.environ[\"OPENAI_API_VERSION\"] = \"2023-05-15\"\n",
    "os.environ[\"OPENAI_API_BASE\"] = os.getenv(\"AZURE_OPENAI_ENDPOINT\", \"\")\n",
    "os.environ[\"OPENAI_API_KEY\"] = os.getenv(\"AZURE_OPENAI_KEY\", \"\")"
   ]
  },
  {
   "cell_type": "markdown",
   "metadata": {},
   "source": [
    "## Data preparation"
   ]
  },
  {
   "cell_type": "code",
   "execution_count": null,
   "metadata": {},
   "outputs": [],
   "source": [
    "retriever_llm = AzureChatOpenAI(\n",
    "    temperature=0,\n",
    "    model=\"gpt-35-turbo-16k\",\n",
    "    max_tokens=2000,\n",
    "    deployment_name=\"gpt-35-test\"\n",
    ")\n",
    "retriever = create_retriever_from_csv(\n",
    "    csv_path=\"../data/movies_title_overview_vote.csv\",\n",
    "    metadata_columns_dtypes={\"vote_average\": \"float\"},\n",
    "    llm=retriever_llm,\n",
    "    embedding_deployment=\"embedding-test\"\n",
    ")"
   ]
  },
  {
   "cell_type": "code",
   "execution_count": null,
   "metadata": {},
   "outputs": [],
   "source": [
    "# retriever.get_relevant_documents(\"I want to watch a movie about space battles.\")"
   ]
  },
  {
   "cell_type": "markdown",
   "metadata": {},
   "source": [
    "# Vectorstore DB"
   ]
  },
  {
   "cell_type": "code",
   "execution_count": null,
   "metadata": {},
   "outputs": [],
   "source": [
    "retrieval_chain_llm = AzureChatOpenAI(\n",
    "    temperature=0,\n",
    "    model=\"gpt-35-turbo-16k\",\n",
    "    max_tokens=2000,\n",
    "    deployment_name=\"gpt-35-test\"\n",
    ")\n",
    "g_media_sq_retrieval_chain = create_retrieval_chain(retriever=retriever, llm=retrieval_chain_llm)"
   ]
  },
  {
   "cell_type": "code",
   "execution_count": null,
   "metadata": {},
   "outputs": [],
   "source": [
    "# print(g_media_sq_retrieval_chain.run(\"I want to watch a movie about space battles.\"))"
   ]
  },
  {
   "cell_type": "markdown",
   "metadata": {},
   "source": [
    "# Tooling"
   ]
  },
  {
   "cell_type": "code",
   "execution_count": null,
   "metadata": {},
   "outputs": [],
   "source": [
    "retriever_description = \"\"\"Movie search tool. The action input must be just topics in a natural language sentence.\"\"\""
   ]
  },
  {
   "cell_type": "code",
   "execution_count": null,
   "metadata": {},
   "outputs": [],
   "source": [
    "tools = [\n",
    "    Tool(\n",
    "        name = \"Search movies\",\n",
    "        func=g_media_sq_retrieval_chain.run,\n",
    "        description=retriever_description\n",
    "    )\n",
    "]"
   ]
  },
  {
   "cell_type": "markdown",
   "metadata": {},
   "source": [
    "# Prompt templates"
   ]
  },
  {
   "cell_type": "code",
   "execution_count": null,
   "metadata": {},
   "outputs": [],
   "source": [
    "# flake8: noqa\n",
    "PREFIX = \"\"\"You are Diverger Assistant, an language model created by OpenAI and used by Diverger, an AI company. You are an assistant expert in movie recommendation.\n",
    "\n",
    "Take a deep breath, use the TOOLS when needed and ALWAYS follow RESPONSE FORMAT INSTRUCTIONS.\"\"\"\n",
    "\n",
    "memory = ConversationBufferMemory(memory_key=\"chat_history\", return_messages=True)\n",
    "\n",
    "agent_kwargs = {\n",
    "        \"system_message\": PREFIX,\n",
    "    }"
   ]
  },
  {
   "cell_type": "markdown",
   "metadata": {},
   "source": [
    "# Chains"
   ]
  },
  {
   "cell_type": "code",
   "execution_count": null,
   "metadata": {},
   "outputs": [],
   "source": [
    "agent_llm_model = AzureChatOpenAI(\n",
    "    temperature=0,\n",
    "    model=\"pruebas-azure-gpt4\",\n",
    "    max_tokens=2000,\n",
    "    deployment_name=\"gpt-4\"\n",
    ")"
   ]
  },
  {
   "cell_type": "code",
   "execution_count": null,
   "metadata": {},
   "outputs": [],
   "source": [
    "general_chat_agent = initialize_agent(\n",
    "    tools=tools,\n",
    "    llm=agent_llm_model,\n",
    "    agent=AgentType.CHAT_CONVERSATIONAL_REACT_DESCRIPTION,\n",
    "    memory=memory,\n",
    "    verbose=True,\n",
    "    agent_kwargs=agent_kwargs,\n",
    "    handle_parsing_errors=True\n",
    ")"
   ]
  },
  {
   "cell_type": "markdown",
   "metadata": {},
   "source": [
    "# TESTS"
   ]
  },
  {
   "cell_type": "markdown",
   "metadata": {},
   "source": [
    "### Run"
   ]
  },
  {
   "cell_type": "code",
   "execution_count": null,
   "metadata": {},
   "outputs": [],
   "source": [
    "from langchain.globals import set_debug\n",
    "set_debug(True)"
   ]
  },
  {
   "cell_type": "code",
   "execution_count": null,
   "metadata": {},
   "outputs": [],
   "source": [
    "response = general_chat_agent.run(input=\"Hi, my name is Aitor\")\n",
    "print(\"\\nA partir de aquí la respuesta:\\n\")\n",
    "print(response)"
   ]
  },
  {
   "cell_type": "code",
   "execution_count": null,
   "metadata": {},
   "outputs": [],
   "source": [
    "response = general_chat_agent.run(input=\"\"\"I would like to watch a movie\"\"\")\n",
    "print(\"\\nA partir de aquí la respuesta:\\n\")\n",
    "print(response)"
   ]
  },
  {
   "cell_type": "code",
   "execution_count": null,
   "metadata": {},
   "outputs": [],
   "source": [
    "response = general_chat_agent.run(input=\"\"\"I want to watch a movie about outer space exploration.\"\"\")\n",
    "print(\"\\nA partir de aquí la respuesta:\\n\")\n",
    "print(response)"
   ]
  },
  {
   "cell_type": "code",
   "execution_count": null,
   "metadata": {},
   "outputs": [],
   "source": [
    "response = general_chat_agent.run(input=\"I've changed my mind. Would you suggest me a good genre for just relaxing?.\")\n",
    "print(\"\\nA partir de aquí la respuesta:\\n\")\n",
    "print(response)"
   ]
  },
  {
   "cell_type": "code",
   "execution_count": null,
   "metadata": {},
   "outputs": [],
   "source": [
    "response = general_chat_agent.run(input=\"Sounds good, give me a movie about it.\")\n",
    "print(\"\\nA partir de aquí la respuesta:\\n\")\n",
    "print(response)"
   ]
  },
  {
   "cell_type": "code",
   "execution_count": null,
   "metadata": {},
   "outputs": [],
   "source": [
    "response = general_chat_agent.run(input=\"By the way, what's your name?.\")\n",
    "print(\"\\nA partir de aquí la respuesta:\\n\")\n",
    "print(response)"
   ]
  },
  {
   "cell_type": "code",
   "execution_count": null,
   "metadata": {},
   "outputs": [],
   "source": []
  }
 ],
 "metadata": {
  "kernelspec": {
   "display_name": "growwer_copilot_dev",
   "language": "python",
   "name": "python3"
  },
  "language_info": {
   "codemirror_mode": {
    "name": "ipython",
    "version": 3
   },
   "file_extension": ".py",
   "mimetype": "text/x-python",
   "name": "python",
   "nbconvert_exporter": "python",
   "pygments_lexer": "ipython3",
   "version": "3.11.4"
  },
  "orig_nbformat": 4
 },
 "nbformat": 4,
 "nbformat_minor": 2
}
