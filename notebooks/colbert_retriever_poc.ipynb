{
 "cells": [
  {
   "cell_type": "code",
   "execution_count": 11,
   "metadata": {},
   "outputs": [],
   "source": [
    "from dotenv import load_dotenv\n",
    "from langchain.indexes import VectorstoreIndexCreator\n",
    "from langchain.text_splitter import RecursiveCharacterTextSplitter\n",
    "from ragatouille import RAGPretrainedModel\n",
    "\n",
    "load_dotenv()"
   ]
  },
  {
   "cell_type": "code",
   "execution_count": 3,
   "metadata": {},
   "outputs": [],
   "source": [
    "import csv\n",
    "from typing import Dict, List, Optional\n",
    "\n",
    "from langchain.docstore.document import Document\n",
    "from langchain.document_loaders.base import BaseLoader\n",
    "\n",
    "\n",
    "class CSVMetaLoader(BaseLoader):\n",
    "    \"\"\"Loads a CSV file into a list of documents.\n",
    "\n",
    "    Each document represents one row of the CSV file. Every row is converted into a\n",
    "    key/value pair and outputted to a new line in the document's page_content.\n",
    "\n",
    "    The source for each document loaded from csv is set to the value of the\n",
    "    `file_path` argument for all documents by default.\n",
    "    You can override this by setting the `source_column` argument to the\n",
    "    name of a column in the CSV file.\n",
    "    The source of each document will then be set to the value of the column\n",
    "    with the name specified in `source_column`.\n",
    "\n",
    "    Output Example:\n",
    "        .. code-block:: txt\n",
    "\n",
    "            column1: value1\n",
    "            column2: value2\n",
    "            column3: value3\n",
    "    \"\"\"\n",
    "\n",
    "    def __init__(\n",
    "        self,\n",
    "        file_path: str,\n",
    "        source_column: Optional[str] = None,\n",
    "        metadata_columns_dtypes: Optional[Dict[str, str]] = None,\n",
    "        csv_args: Optional[Dict] = None,\n",
    "        encoding: Optional[str] = None,\n",
    "    ):\n",
    "        \"\"\"\n",
    "\n",
    "        Args:\n",
    "            file_path: The path to the CSV file.\n",
    "            source_column: The name of the column in the CSV file to use as the source.\n",
    "              Optional. Defaults to None.\n",
    "            metadata_columns_dtypes: Name of column as keys and data type as values.\n",
    "              Optional. Defaults to None.\n",
    "            csv_args: A dictionary of arguments to pass to the csv.DictReader.\n",
    "              Optional. Defaults to None.\n",
    "            encoding: The encoding of the CSV file. Optional. Defaults to None.\n",
    "        \"\"\"\n",
    "        self.file_path = file_path\n",
    "        self.source_column = source_column\n",
    "        self.metadata_columns_dtypes = metadata_columns_dtypes\n",
    "        self.encoding = encoding\n",
    "        self.csv_args = csv_args or {}\n",
    "\n",
    "    def load(self) -> List[Document]:\n",
    "        \"\"\"Load data into document objects.\"\"\"\n",
    "\n",
    "        docs = []\n",
    "        with open(self.file_path, newline=\"\", encoding=self.encoding) as csvfile:\n",
    "            csv_reader = csv.DictReader(csvfile, **self.csv_args)  # type: ignore\n",
    "            for i, row in enumerate(csv_reader):\n",
    "                content = \"\\n\".join(f\"{k.strip()}: {v.strip()}\" for k, v in row.items())\n",
    "                # try:\n",
    "                #     source = (\n",
    "                #         row[self.source_column]\n",
    "                #         if self.source_column is not None\n",
    "                #         else self.file_path\n",
    "                #     )\n",
    "                # except KeyError:\n",
    "                #     raise ValueError(\n",
    "                #         f\"Source column '{self.source_column}' not found in CSV file.\"\n",
    "                #     )\n",
    "\n",
    "                # metadata = {\"source\": source, \"row\": i}\n",
    "                metadata = {}\n",
    "                if self.metadata_columns_dtypes:\n",
    "                    for k, v in row.items():\n",
    "                        if k in self.metadata_columns_dtypes.keys():\n",
    "                            if self.metadata_columns_dtypes[k] in [\"int\", \"float\"]:\n",
    "                                v = eval(v)\n",
    "                            metadata.update({k: v})\n",
    "\n",
    "                doc = Document(page_content=content, metadata=metadata)\n",
    "                docs.append(doc)\n",
    "\n",
    "        return docs"
   ]
  },
  {
   "cell_type": "code",
   "execution_count": 4,
   "metadata": {},
   "outputs": [],
   "source": [
    "# Place your cv in data folder and load here\n",
    "loader = CSVMetaLoader('../data/movies_title_overview_vote.csv', metadata_columns_dtypes={\"vote_average\": \"float\"})"
   ]
  },
  {
   "cell_type": "code",
   "execution_count": 25,
   "metadata": {},
   "outputs": [],
   "source": [
    "example_query_1 = \"Psychological thriller based on a real life experience\"\n",
    "example_query_2 = \"I want to watch a movie about outer space exploration\""
   ]
  },
  {
   "cell_type": "markdown",
   "metadata": {},
   "source": [
    "## Dense Embedding"
   ]
  },
  {
   "cell_type": "code",
   "execution_count": 13,
   "metadata": {},
   "outputs": [
    {
     "name": "stderr",
     "output_type": "stream",
     "text": [
      "/Users/itortouch/miniconda3/envs/chatrag_dev/lib/python3.11/site-packages/langchain_core/_api/deprecation.py:117: LangChainDeprecationWarning: The class `langchain_community.embeddings.openai.OpenAIEmbeddings` was deprecated in langchain-community 0.1.0 and will be removed in 0.2.0. An updated version of the class exists in the langchain-openai package and should be used instead. To use it run `pip install -U langchain-openai` and import as `from langchain_openai import OpenAIEmbeddings`.\n",
      "  warn_deprecated(\n"
     ]
    }
   ],
   "source": [
    "text_splitter = RecursiveCharacterTextSplitter(chunk_size = 5000, chunk_overlap = 0)\n",
    "index_creator = VectorstoreIndexCreator(text_splitter=text_splitter)\n",
    "docsearch = index_creator.from_loaders([loader])"
   ]
  },
  {
   "cell_type": "code",
   "execution_count": 26,
   "metadata": {},
   "outputs": [
    {
     "data": {
      "text/plain": [
       "[Document(page_content=\"title: Galaxy Quest\\noverview: The stars of a 1970s sci-fi show - now scraping a living through re-runs and sci-fi conventions - are beamed aboard an alien spacecraft. Believing the cast's heroic on-screen dramas are historical documents of real-life adventures, the band of aliens turn to the ailing celebrities for help in their quest to overcome the oppressive regime in their solar system.\\nvote_average: 6.9\", metadata={'vote_average': 6.9}),\n",
       " Document(page_content='title: Interstellar\\noverview: Interstellar chronicles the adventures of a group of explorers who make use of a newly discovered wormhole to surpass the limitations on human space travel and conquer the vast distances involved in an interstellar voyage.\\nvote_average: 8.1', metadata={'vote_average': 8.1}),\n",
       " Document(page_content=\"title: 2001: A Space Odyssey\\noverview: Humanity finds a mysterious object buried beneath the lunar surface and sets off to find its origins with the help of HAL 9000, the world's most advanced super computer.\\nvote_average: 7.9\", metadata={'vote_average': 7.9}),\n",
       " Document(page_content='title: Escape from Planet Earth\\noverview: Astronaut Scorch Supernova finds himself caught in a trap when he responds to an SOS from a notoriously dangerous alien planet.\\nvote_average: 5.7', metadata={'vote_average': 5.7}),\n",
       " Document(page_content='title: Red Planet\\noverview: Astronauts search for solutions to save a dying Earth by searching on Mars, only to have the mission go terribly awry.\\nvote_average: 5.4', metadata={'vote_average': 5.4}),\n",
       " Document(page_content='title: Gravity\\noverview: Dr. Ryan Stone, a brilliant medical engineer on her first Shuttle mission, with veteran astronaut Matt Kowalsky in command of his last flight before retiring. But on a seemingly routine spacewalk, disaster strikes. The Shuttle is destroyed, leaving Stone and Kowalsky completely alone-tethered to nothing but each other and spiraling out into the blackness of space. The deafening silence tells them they have lost any link to Earth and any chance for rescue. As fear turns to panic, every gulp of air eats away at what little oxygen is left. But the only way home may be to go further out into the terrifying expanse of space.\\nvote_average: 7.3', metadata={'vote_average': 7.3}),\n",
       " Document(page_content='title: Lost in Space\\noverview: The prospects for continuing life on Earth in the year 2058 are grim. So the Robinsons are launched into space to colonize Alpha Prime, the only other inhabitable planet in the galaxy. But when a stowaway sabotages the mission, the Robinsons find themselves hurtling through uncharted space.\\nvote_average: 5.0', metadata={'vote_average': 5.0}),\n",
       " Document(page_content='title: Journey to Saturn\\noverview: A Danish crew of misfits travel to Saturn in search for natural resources. However, the planet is colonized by a ruthless army of Aliens that turn their eye on Earth and invade Denmark. Thus, the crew change their mission to liberate Denmark.\\nvote_average: 4.9', metadata={'vote_average': 4.9}),\n",
       " Document(page_content='title: Event Horizon\\noverview: In the year 2047 a group of astronauts are sent to investigate and salvage the long lost starship \"Event Horizon\". The ship disappeared mysteriously 7 years before on its maiden voyage and with its return comes even more mystery as the crew of the \"Lewis and Clark\" discover the real truth behind its disappearance and something even more terrifying.\\nvote_average: 6.5', metadata={'vote_average': 6.5}),\n",
       " Document(page_content='title: Another Earth\\noverview: On the night of the discovery of a duplicate Earth in the Solar system, an ambitious young student and an accomplished composer cross paths in a tragic accident.\\nvote_average: 6.8', metadata={'vote_average': 6.8})]"
      ]
     },
     "execution_count": 26,
     "metadata": {},
     "output_type": "execute_result"
    }
   ],
   "source": [
    "docsearch.vectorstore.similarity_search(example_query_2, k=10)"
   ]
  },
  {
   "cell_type": "markdown",
   "metadata": {},
   "source": [
    "## ColBERT"
   ]
  },
  {
   "cell_type": "code",
   "execution_count": null,
   "metadata": {},
   "outputs": [],
   "source": [
    "RAG = RAGPretrainedModel.from_pretrained(\"colbert-ir/colbertv2.0\")"
   ]
  },
  {
   "cell_type": "code",
   "execution_count": 5,
   "metadata": {},
   "outputs": [],
   "source": [
    "test = loader.load()"
   ]
  },
  {
   "cell_type": "code",
   "execution_count": 7,
   "metadata": {},
   "outputs": [
    {
     "name": "stdout",
     "output_type": "stream",
     "text": [
      "\n",
      "\n",
      "[Jan 16, 11:30:04] #> Creating directory .ragatouille/colbert/indexes/movies \n",
      "\n",
      "\n",
      "#> Starting...\n",
      "[Jan 16, 11:30:07] Loading segmented_maxsim_cpp extension (set COLBERT_LOAD_TORCH_EXTENSION_VERBOSE=True for more info)...\n"
     ]
    },
    {
     "name": "stderr",
     "output_type": "stream",
     "text": [
      "/Users/itortouch/miniconda3/envs/chatrag_dev/lib/python3.11/site-packages/torch/cuda/amp/grad_scaler.py:125: UserWarning: torch.cuda.amp.GradScaler is enabled, but CUDA is not available.  Disabling.\n",
      "  warnings.warn(\n"
     ]
    },
    {
     "name": "stdout",
     "output_type": "stream",
     "text": [
      "[Jan 16, 11:30:07] [0] \t\t #> Encoding 4803 passages..\n"
     ]
    },
    {
     "name": "stderr",
     "output_type": "stream",
     "text": [
      "  0%|          | 0/50 [00:00<?, ?it/s]/Users/itortouch/miniconda3/envs/chatrag_dev/lib/python3.11/site-packages/torch/amp/autocast_mode.py:250: UserWarning: User provided device_type of 'cuda', but CUDA is not available. Disabling\n",
      "  warnings.warn(\n",
      "  2%|▏         | 1/50 [00:05<04:34,  5.60s/it]/Users/itortouch/miniconda3/envs/chatrag_dev/lib/python3.11/site-packages/torch/amp/autocast_mode.py:250: UserWarning: User provided device_type of 'cuda', but CUDA is not available. Disabling\n",
      "  warnings.warn(\n",
      "100%|██████████| 50/50 [04:06<00:00,  4.93s/it]\n",
      "100%|██████████| 26/26 [02:09<00:00,  4.99s/it]\n"
     ]
    },
    {
     "name": "stdout",
     "output_type": "stream",
     "text": [
      "[Jan 16, 11:36:24] [0] \t\t avg_doclen_est = 70.14949035644531 \t len(local_sample) = 4,803\n",
      "[Jan 16, 11:36:25] [0] \t\t Creating 8,192 partitions.\n",
      "[Jan 16, 11:36:25] [0] \t\t *Estimated* 336,928 embeddings.\n",
      "[Jan 16, 11:36:25] [0] \t\t #> Saving the indexing plan to .ragatouille/colbert/indexes/movies/plan.json ..\n",
      "Clustering 320082 points in 128D to 8192 clusters, redo 1 times, 20 iterations\n",
      "  Preprocessing in 0.01 s\n",
      "  Iteration 19 (36.42 s, search 36.21 s): objective=93451.4 imbalance=1.369 nsplit=0       \n",
      "[0.043, 0.041, 0.044, 0.039, 0.039, 0.042, 0.04, 0.039, 0.036, 0.039, 0.038, 0.041, 0.038, 0.041, 0.041, 0.04, 0.036, 0.037, 0.038, 0.038, 0.039, 0.039, 0.039, 0.039, 0.04, 0.038, 0.043, 0.04, 0.041, 0.042, 0.042, 0.041, 0.044, 0.039, 0.039, 0.037, 0.041, 0.04, 0.04, 0.047, 0.041, 0.043, 0.041, 0.039, 0.04, 0.038, 0.038, 0.044, 0.041, 0.037, 0.039, 0.039, 0.04, 0.041, 0.039, 0.04, 0.044, 0.039, 0.041, 0.039, 0.036, 0.041, 0.041, 0.043, 0.044, 0.042, 0.043, 0.04, 0.035, 0.039, 0.044, 0.041, 0.039, 0.039, 0.038, 0.04, 0.04, 0.045, 0.039, 0.041, 0.042, 0.04, 0.04, 0.04, 0.039, 0.039, 0.042, 0.04, 0.038, 0.049, 0.04, 0.041, 0.039, 0.041, 0.038, 0.04, 0.042, 0.038, 0.04, 0.04, 0.043, 0.04, 0.038, 0.043, 0.043, 0.04, 0.04, 0.037, 0.04, 0.037, 0.04, 0.041, 0.043, 0.038, 0.04, 0.04, 0.038, 0.039, 0.042, 0.041, 0.038, 0.039, 0.039, 0.041, 0.039, 0.04, 0.041, 0.038]\n"
     ]
    },
    {
     "name": "stderr",
     "output_type": "stream",
     "text": [
      "0it [00:00, ?it/s]"
     ]
    },
    {
     "name": "stdout",
     "output_type": "stream",
     "text": [
      "[Jan 16, 11:37:02] [0] \t\t #> Encoding 4803 passages..\n"
     ]
    },
    {
     "name": "stderr",
     "output_type": "stream",
     "text": [
      "\n",
      "  0%|          | 0/50 [00:00<?, ?it/s]\u001b[A\n",
      "  2%|▏         | 1/50 [00:05<04:08,  5.08s/it]\u001b[A\n",
      "  4%|▍         | 2/50 [00:10<04:05,  5.11s/it]\u001b[A\n",
      "  6%|▌         | 3/50 [00:15<04:00,  5.11s/it]\u001b[A\n",
      "  8%|▊         | 4/50 [00:20<03:54,  5.10s/it]\u001b[A\n",
      " 10%|█         | 5/50 [00:25<03:50,  5.11s/it]\u001b[A\n",
      " 12%|█▏        | 6/50 [00:30<03:45,  5.13s/it]\u001b[A\n",
      " 14%|█▍        | 7/50 [00:35<03:42,  5.18s/it]\u001b[A\n",
      " 16%|█▌        | 8/50 [00:40<03:35,  5.12s/it]\u001b[A\n",
      " 18%|█▊        | 9/50 [00:46<03:28,  5.09s/it]\u001b[A\n",
      " 20%|██        | 10/50 [00:51<03:22,  5.07s/it]\u001b[A\n",
      " 22%|██▏       | 11/50 [00:56<03:16,  5.04s/it]\u001b[A\n",
      " 24%|██▍       | 12/50 [01:00<03:10,  5.02s/it]\u001b[A\n",
      " 26%|██▌       | 13/50 [01:06<03:08,  5.11s/it]\u001b[A\n",
      " 28%|██▊       | 14/50 [01:11<03:03,  5.09s/it]\u001b[A\n",
      " 30%|███       | 15/50 [01:16<03:00,  5.17s/it]\u001b[A\n",
      " 32%|███▏      | 16/50 [01:22<02:57,  5.22s/it]\u001b[A\n",
      " 34%|███▍      | 17/50 [01:27<02:50,  5.16s/it]\u001b[A\n",
      " 36%|███▌      | 18/50 [01:32<02:43,  5.11s/it]\u001b[A\n",
      " 38%|███▊      | 19/50 [01:37<02:37,  5.09s/it]\u001b[A\n",
      " 40%|████      | 20/50 [01:42<02:39,  5.31s/it]\u001b[A\n",
      " 42%|████▏     | 21/50 [01:48<02:35,  5.35s/it]\u001b[A\n",
      " 44%|████▍     | 22/50 [01:53<02:26,  5.24s/it]\u001b[A\n",
      " 46%|████▌     | 23/50 [01:58<02:19,  5.15s/it]\u001b[A\n",
      " 48%|████▊     | 24/50 [02:03<02:11,  5.07s/it]\u001b[A\n",
      " 50%|█████     | 25/50 [02:08<02:06,  5.05s/it]\u001b[A\n",
      " 52%|█████▏    | 26/50 [02:13<02:00,  5.03s/it]\u001b[A\n",
      " 54%|█████▍    | 27/50 [02:18<01:55,  5.03s/it]\u001b[A\n",
      " 56%|█████▌    | 28/50 [02:23<01:50,  5.01s/it]\u001b[A\n",
      " 58%|█████▊    | 29/50 [02:28<01:45,  5.00s/it]\u001b[A\n",
      " 60%|██████    | 30/50 [02:33<01:40,  5.03s/it]\u001b[A\n",
      " 62%|██████▏   | 31/50 [02:38<01:35,  5.02s/it]\u001b[A\n",
      " 64%|██████▍   | 32/50 [02:43<01:29,  4.99s/it]\u001b[A\n",
      " 66%|██████▌   | 33/50 [02:48<01:24,  4.97s/it]\u001b[A\n",
      " 68%|██████▊   | 34/50 [02:53<01:19,  4.98s/it]\u001b[A\n",
      " 70%|███████   | 35/50 [02:57<01:14,  4.97s/it]\u001b[A\n",
      " 72%|███████▏  | 36/50 [03:02<01:09,  4.95s/it]\u001b[A\n",
      " 74%|███████▍  | 37/50 [03:07<01:04,  4.95s/it]\u001b[A\n",
      " 76%|███████▌  | 38/50 [03:12<00:59,  4.95s/it]\u001b[A\n",
      " 78%|███████▊  | 39/50 [03:17<00:54,  4.96s/it]\u001b[A\n",
      " 80%|████████  | 40/50 [03:22<00:49,  4.96s/it]\u001b[A\n",
      " 82%|████████▏ | 41/50 [03:27<00:44,  4.97s/it]\u001b[A\n",
      " 84%|████████▍ | 42/50 [03:32<00:39,  4.96s/it]\u001b[A\n",
      " 86%|████████▌ | 43/50 [03:37<00:34,  4.95s/it]\u001b[A\n",
      " 88%|████████▊ | 44/50 [03:42<00:29,  4.94s/it]\u001b[A\n",
      " 90%|█████████ | 45/50 [03:47<00:24,  4.95s/it]\u001b[A\n",
      " 92%|█████████▏| 46/50 [03:52<00:19,  4.95s/it]\u001b[A\n",
      " 94%|█████████▍| 47/50 [03:57<00:14,  4.96s/it]\u001b[A\n",
      " 96%|█████████▌| 48/50 [04:02<00:09,  4.98s/it]\u001b[A\n",
      " 98%|█████████▊| 49/50 [04:07<00:04,  4.98s/it]\u001b[A\n",
      "100%|██████████| 50/50 [04:12<00:00,  5.05s/it]\u001b[A\n",
      "\n",
      "  0%|          | 0/26 [00:00<?, ?it/s]\u001b[A\n",
      "  4%|▍         | 1/26 [00:05<02:08,  5.14s/it]\u001b[A\n",
      "  8%|▊         | 2/26 [00:10<02:03,  5.15s/it]\u001b[A\n",
      " 12%|█▏        | 3/26 [00:15<01:58,  5.14s/it]\u001b[A\n",
      " 15%|█▌        | 4/26 [00:20<01:52,  5.14s/it]\u001b[A\n",
      " 19%|█▉        | 5/26 [00:25<01:47,  5.12s/it]\u001b[A\n",
      " 23%|██▎       | 6/26 [00:30<01:42,  5.13s/it]\u001b[A\n",
      " 27%|██▋       | 7/26 [00:35<01:37,  5.14s/it]\u001b[A\n",
      " 31%|███       | 8/26 [00:41<01:32,  5.15s/it]\u001b[A\n",
      " 35%|███▍      | 9/26 [00:46<01:27,  5.14s/it]\u001b[A\n",
      " 38%|███▊      | 10/26 [00:51<01:22,  5.14s/it]\u001b[A\n",
      " 42%|████▏     | 11/26 [00:56<01:17,  5.13s/it]\u001b[A\n",
      " 46%|████▌     | 12/26 [01:01<01:11,  5.14s/it]\u001b[A\n",
      " 50%|█████     | 13/26 [01:06<01:06,  5.13s/it]\u001b[A\n",
      " 54%|█████▍    | 14/26 [01:11<01:01,  5.14s/it]\u001b[A\n",
      " 58%|█████▊    | 15/26 [01:17<00:56,  5.14s/it]\u001b[A\n",
      " 62%|██████▏   | 16/26 [01:22<00:51,  5.14s/it]\u001b[A\n",
      " 65%|██████▌   | 17/26 [01:27<00:46,  5.13s/it]\u001b[A\n",
      " 69%|██████▉   | 18/26 [01:32<00:41,  5.13s/it]\u001b[A\n",
      " 73%|███████▎  | 19/26 [01:37<00:35,  5.13s/it]\u001b[A\n",
      " 77%|███████▋  | 20/26 [01:42<00:30,  5.14s/it]\u001b[A\n",
      " 81%|████████  | 21/26 [01:47<00:25,  5.15s/it]\u001b[A\n",
      " 85%|████████▍ | 22/26 [01:53<00:20,  5.15s/it]\u001b[A\n",
      " 88%|████████▊ | 23/26 [01:58<00:15,  5.15s/it]\u001b[A\n",
      " 92%|█████████▏| 24/26 [02:03<00:10,  5.16s/it]\u001b[A\n",
      " 96%|█████████▌| 25/26 [02:08<00:05,  5.18s/it]\u001b[A\n",
      "100%|██████████| 26/26 [02:08<00:00,  4.96s/it]\u001b[A\n",
      "1it [06:31, 391.77s/it]\n",
      "100%|██████████| 1/1 [00:00<00:00, 2364.32it/s]\n",
      "100%|██████████| 8192/8192 [00:00<00:00, 222996.45it/s]\n"
     ]
    },
    {
     "name": "stdout",
     "output_type": "stream",
     "text": [
      "[Jan 16, 11:43:33] #> Optimizing IVF to store map from centroids to list of pids..\n",
      "[Jan 16, 11:43:33] #> Building the emb2pid mapping..\n",
      "[Jan 16, 11:43:33] len(emb2pid) = 336928\n",
      "[Jan 16, 11:43:33] #> Saved optimized IVF to .ragatouille/colbert/indexes/movies/ivf.pid.pt\n",
      "#> Joined...\n",
      "Done indexing!\n"
     ]
    }
   ],
   "source": [
    "RAG.index(collection=[doc.page_content for doc in test], index_name=\"movies\", max_document_length=5000, split_documents=True)"
   ]
  },
  {
   "cell_type": "code",
   "execution_count": 27,
   "metadata": {},
   "outputs": [
    {
     "name": "stderr",
     "output_type": "stream",
     "text": [
      "/Users/itortouch/miniconda3/envs/chatrag_dev/lib/python3.11/site-packages/torch/amp/autocast_mode.py:250: UserWarning: User provided device_type of 'cuda', but CUDA is not available. Disabling\n",
      "  warnings.warn(\n"
     ]
    }
   ],
   "source": [
    "results = RAG.search(query=example_query_2, k=10)"
   ]
  },
  {
   "cell_type": "code",
   "execution_count": 28,
   "metadata": {},
   "outputs": [
    {
     "data": {
      "text/plain": [
       "[{'content': 'title: You Only Live Twice\\noverview: A mysterious space craft kidnaps a Russian and American space capsule and brings the world on the verge of another World War. James Bond investigates the case in Japan and meets with his archenemy Blofeld. The fifth film from the legendary James Bond series starring Sean Connery as the British super agent.\\nvote_average: 6.5',\n",
       "  'score': 15.5687837600708,\n",
       "  'rank': 1},\n",
       " {'content': \"title: Muppets from Space\\noverview: When Gonzo's breakfast cereal tells him that he's the descendant of aliens from another planet, his attempts at extraterrestrial communication get him kidnapped by a secret government agency, prompting the Muppets to spring into action. It's hard to believe Gonzo's story at first, but Kermit and friends soon find themselves on an epic journey into outer space filled with plenty of intergalactic misadventures.\\nvote_average: 5.8\",\n",
       "  'score': 15.449250221252441,\n",
       "  'rank': 2},\n",
       " {'content': 'title: Sea Rex 3D: Journey to a Prehistoric World\\noverview: Through the power of IMAX 3D, experience a wondrous adventure from the dinosaur age. Join Julie, an imaginative young woman, in a unique voyage through time and space. Explore an amazing underwater universe inhabited by larger-than-life creatures which were ruling the seas before dinosaurs conquered the earth. See science come alive in an entertaining manner and get ready for a face-to-face encounter with the T-Rex of the seas!\\nvote_average: 5.9',\n",
       "  'score': 15.148759841918945,\n",
       "  'rank': 3},\n",
       " {'content': \"title: Lockout\\noverview: Set in the near future, Lockout follows a falsely convicted ex-government agent , whose one chance at obtaining freedom lies in the dangerous mission of rescuing the President's daughter from rioting convicts at an outer space maximum security prison.\\nvote_average: 5.8\",\n",
       "  'score': 15.037213325500488,\n",
       "  'rank': 4},\n",
       " {'content': \"title: The Bubble\\noverview: The movie follows a group of young friends in the city of Tel Aviv and is as much a love song to the city as it is an exploration of the claim that people in Tel Aviv are isolated from the rest of the country and the turmoil it's going through. The movie looks at young people's lives in Tel Aviv through the POVs of gays and straights, Jews and Arabs, men and women.\\nvote_average: 7.6\",\n",
       "  'score': 15.00213623046875,\n",
       "  'rank': 5},\n",
       " {'content': 'title: Zathura: A Space Adventure\\noverview: After their father is called into work, two young boys, Walter and Danny, are left in the care of their teenage sister, Lisa, and told they must stay inside. Walter and Danny, who anticipate a boring day, are shocked when they begin playing Zathura, a space-themed board game, which they realize has mystical powers when their house is shot into space. With the help of an astronaut, the boys attempt to return home.\\nvote_average: 6.1',\n",
       "  'score': 14.993147850036621,\n",
       "  'rank': 6},\n",
       " {'content': 'title: Aqua Teen Hunger Force Colon Movie Film for Theaters\\noverview: An action epic that explores the origins of the Aqua Teen Hunger Force (better known as Master Shake, Frylock, and Meatwad,) who somehow become pitted in a battle over an immortal piece of exercise equipment.\\nvote_average: 6.5',\n",
       "  'score': 14.530710220336914,\n",
       "  'rank': 7},\n",
       " {'content': \"title: Sanctum\\noverview: The 3-D action-thriller Sanctum, from executive producer James Cameron, follows a team of underwater cave divers on a treacherous expedition to the largest, most beautiful and least accessible cave system on Earth. When a tropical storm forces them deep into the caverns, they must fight raging water, deadly terrain and creeping panic as they search for an unknown escape route to the sea. Master diver Frank McGuire (Richard Roxburgh) has explored the South Pacific's Esa-ala Caves for months. But when his exit is cut off in a flash flood, Frank's team--including 17-year-old son Josh (Rhys Wakefield) and financier Carl Hurley (Ioan Gruffudd)--are forced to radically alter plans. With dwindling supplies, the crew must navigate an underwater labyrinth to make it out. Soon, they are confronted with the unavoidable question: Can they survive, or will they be trapped forever?\\nvote_average: 5.8\",\n",
       "  'score': 14.49348258972168,\n",
       "  'rank': 8},\n",
       " {'content': \"title: The Ghastly Love of Johnny X\\noverview: A truly mad concoction, blending 1950s juvenile delinquents, sci-fi melodrama, song-and-dance, and a touch of horror, everything in just the right combination to create an engaging big screen spectacle! This curious and curiously entertaining story involves one Jonathan Xavier and his devoted misfit gang who, incidentally, have been exiled to Earth from the far reaches of outer space. Johnny's former girlfriend Bliss has left him and stolen his Resurrection Suit, a cosmic, mind-bending uniform that gives the owner power over others. Along the way, there will be several highly stylized musical numbers, lots of genuinely humorous dialogue, and a wacky plot-twist or two, all beautifully captured on the very last of Kodak's black-and-white Plus-X film stock.\\nvote_average: 6.6\",\n",
       "  'score': 14.452638626098633,\n",
       "  'rank': 9},\n",
       " {'content': 'title: Indie Game: The Movie\\noverview: Indie Game: The Movie is a feature documentary about video games, their creators and the craft. The film follows the dramatic journeys of video game developers as they create and release their games to the world. The film tells the emotional story of friends Edmund McMillen &amp; Tommy Refenes, as they craft their first Xbox game: \"Super Meat Boy\". It follows Phil Fish, the creator of the highly-anticipated game: \"FEZ\". After 4 years of working in near solitude, Phil reveals his opus to the public for the first time. And, the film tells the surprising story of one of the highest-rated video games of all time:\"Braid\". The film is about making video games, but at its core, it\\'s about the creative process, and exposing yourself through your work. In short: Making fun and games is anything but fun and games.\\nvote_average: 7.4',\n",
       "  'score': 14.387042999267578,\n",
       "  'rank': 10}]"
      ]
     },
     "execution_count": 28,
     "metadata": {},
     "output_type": "execute_result"
    }
   ],
   "source": [
    "results"
   ]
  },
  {
   "cell_type": "code",
   "execution_count": null,
   "metadata": {},
   "outputs": [],
   "source": []
  }
 ],
 "metadata": {
  "kernelspec": {
   "display_name": "growwer_copilot_dev",
   "language": "python",
   "name": "python3"
  },
  "language_info": {
   "codemirror_mode": {
    "name": "ipython",
    "version": 3
   },
   "file_extension": ".py",
   "mimetype": "text/x-python",
   "name": "python",
   "nbconvert_exporter": "python",
   "pygments_lexer": "ipython3",
   "version": "3.11.4"
  },
  "orig_nbformat": 4
 },
 "nbformat": 4,
 "nbformat_minor": 2
}
