{
 "cells": [
  {
   "cell_type": "code",
   "execution_count": 1,
   "metadata": {},
   "outputs": [],
   "source": [
    "import os\n",
    "import base64\n",
    "import langchain\n",
    "# from langchain.document_loaders.csv_loader import CSVLoader\n",
    "from langchain.indexes import VectorstoreIndexCreator\n",
    "from langchain.chains import RetrievalQA\n",
    "from langchain.chat_models import ChatOpenAI\n",
    "from langchain.prompts import PromptTemplate\n",
    "from langchain.text_splitter import RecursiveCharacterTextSplitter\n",
    "from langchain.retrievers.self_query.base import SelfQueryRetriever\n",
    "from langchain.chains.query_constructor.base import AttributeInfo"
   ]
  },
  {
   "cell_type": "code",
   "execution_count": 2,
   "metadata": {},
   "outputs": [],
   "source": [
    "langchain.debug = True"
   ]
  },
  {
   "cell_type": "code",
   "execution_count": 3,
   "metadata": {},
   "outputs": [],
   "source": [
    "with open(\"../data/secrets.json\") as secrets:\n",
    "    secrets_dict = eval(secrets.read())\n",
    "    open_api_key = base64.b64decode(secrets_dict[\"openai_api_key\"]).decode('ascii')\n",
    "    os.environ[\"OPENAI_API_KEY\"] = open_api_key\n",
    "    if \"organization_id\" in secrets_dict.keys():\n",
    "        openai_organization = base64.b64decode(secrets_dict[\"organization_id\"]).decode('ascii')\n",
    "        os.environ[\"OPENAI_ORGANIZATION\"] = openai_organization"
   ]
  },
  {
   "cell_type": "code",
   "execution_count": 4,
   "metadata": {},
   "outputs": [],
   "source": [
    "import csv\n",
    "from typing import Dict, List, Optional\n",
    "\n",
    "from langchain.docstore.document import Document\n",
    "from langchain.document_loaders.base import BaseLoader\n",
    "\n",
    "\n",
    "class CSVLoader(BaseLoader):\n",
    "    \"\"\"Loads a CSV file into a list of documents.\n",
    "\n",
    "    Each document represents one row of the CSV file. Every row is converted into a\n",
    "    key/value pair and outputted to a new line in the document's page_content.\n",
    "\n",
    "    The source for each document loaded from csv is set to the value of the\n",
    "    `file_path` argument for all documents by default.\n",
    "    You can override this by setting the `source_column` argument to the\n",
    "    name of a column in the CSV file.\n",
    "    The source of each document will then be set to the value of the column\n",
    "    with the name specified in `source_column`.\n",
    "\n",
    "    Output Example:\n",
    "        .. code-block:: txt\n",
    "\n",
    "            column1: value1\n",
    "            column2: value2\n",
    "            column3: value3\n",
    "    \"\"\"\n",
    "\n",
    "    def __init__(\n",
    "        self,\n",
    "        file_path: str,\n",
    "        source_column: Optional[str] = None,\n",
    "        metadata_columns_dtypes: Optional[Dict[str, str]] = None,\n",
    "        csv_args: Optional[Dict] = None,\n",
    "        encoding: Optional[str] = None,\n",
    "    ):\n",
    "        \"\"\"\n",
    "\n",
    "        Args:\n",
    "            file_path: The path to the CSV file.\n",
    "            source_column: The name of the column in the CSV file to use as the source.\n",
    "              Optional. Defaults to None.\n",
    "            metadata_columns_dtypes: Name of column as keys and data type as values.\n",
    "              Optional. Defaults to None.\n",
    "            csv_args: A dictionary of arguments to pass to the csv.DictReader.\n",
    "              Optional. Defaults to None.\n",
    "            encoding: The encoding of the CSV file. Optional. Defaults to None.\n",
    "        \"\"\"\n",
    "        self.file_path = file_path\n",
    "        self.source_column = source_column\n",
    "        self.metadata_columns_dtypes = metadata_columns_dtypes\n",
    "        self.encoding = encoding\n",
    "        self.csv_args = csv_args or {}\n",
    "\n",
    "    def load(self) -> List[Document]:\n",
    "        \"\"\"Load data into document objects.\"\"\"\n",
    "\n",
    "        docs = []\n",
    "        with open(self.file_path, newline=\"\", encoding=self.encoding) as csvfile:\n",
    "            csv_reader = csv.DictReader(csvfile, **self.csv_args)  # type: ignore\n",
    "            for i, row in enumerate(csv_reader):\n",
    "                content = \"\\n\".join(f\"{k.strip()}: {v.strip()}\" for k, v in row.items())\n",
    "                try:\n",
    "                    source = (\n",
    "                        row[self.source_column]\n",
    "                        if self.source_column is not None\n",
    "                        else self.file_path\n",
    "                    )\n",
    "                except KeyError:\n",
    "                    raise ValueError(\n",
    "                        f\"Source column '{self.source_column}' not found in CSV file.\"\n",
    "                    ) \n",
    "                \n",
    "                # metadata = {\"source\": source, \"row\": i}\n",
    "                metadata = {}\n",
    "                if self.metadata_columns_dtypes:\n",
    "                    for k, v in row.items():\n",
    "                        if k in self.metadata_columns_dtypes.keys():\n",
    "                            if self.metadata_columns_dtypes[k] in [\"int\", \"float\"]:\n",
    "                                v = eval(v)\n",
    "                            metadata.update({k: v})\n",
    "                \n",
    "                doc = Document(page_content=content, metadata=metadata)\n",
    "                docs.append(doc)\n",
    "\n",
    "        return docs"
   ]
  },
  {
   "cell_type": "code",
   "execution_count": 11,
   "metadata": {},
   "outputs": [],
   "source": [
    "# Place your cv in data folder and load here\n",
    "loader = CSVLoader('../data/movies_title_overview_vote.csv', metadata_columns_dtypes={\"vote_average\": \"float\"})"
   ]
  },
  {
   "cell_type": "code",
   "execution_count": 12,
   "metadata": {},
   "outputs": [],
   "source": [
    "text_splitter = RecursiveCharacterTextSplitter(chunk_size = 5000, chunk_overlap = 0)"
   ]
  },
  {
   "cell_type": "code",
   "execution_count": 13,
   "metadata": {},
   "outputs": [],
   "source": [
    "# Creating the cv database for document indexing\n",
    "index_creator = VectorstoreIndexCreator(text_splitter=text_splitter)\n",
    "docsearch = index_creator.from_loaders([loader])"
   ]
  },
  {
   "cell_type": "markdown",
   "metadata": {},
   "source": [
    "# Self query retriever"
   ]
  },
  {
   "cell_type": "markdown",
   "metadata": {},
   "source": [
    "## Definition"
   ]
  },
  {
   "cell_type": "code",
   "execution_count": 14,
   "metadata": {},
   "outputs": [],
   "source": [
    "\n",
    "llm_model = ChatOpenAI(temperature=0, model=\"gpt-3.5-turbo\", max_tokens=1000)\n",
    "# llm_model = ChatOpenAI(temperature=0, model=\"gpt-4\", max_tokens=1000)"
   ]
  },
  {
   "cell_type": "code",
   "execution_count": 15,
   "metadata": {},
   "outputs": [],
   "source": [
    "metadata_field_info = [\n",
    "    AttributeInfo(\n",
    "        name=\"vote_average\",\n",
    "        description=\"The average score given to the movie.\",\n",
    "        type=\"float\",\n",
    "    )\n",
    "]\n",
    "document_content_description = \"List of movies with an overview and scoring from a public website.\"\n",
    "\n",
    "# Explore use_original_query arg and figure if prompt template can be changed.\n",
    "sq_retriever = SelfQueryRetriever.from_llm(\n",
    "    llm=llm_model,\n",
    "    vectorstore=docsearch.vectorstore,\n",
    "    document_contents=document_content_description,\n",
    "    metadata_field_info=metadata_field_info,\n",
    "    enable_limit=False,\n",
    "    verbose=True,\n",
    "    search_kwargs={\"k\": 20}\n",
    ")"
   ]
  },
  {
   "cell_type": "markdown",
   "metadata": {},
   "source": [
    "## Explore internal prompts and processes"
   ]
  },
  {
   "cell_type": "code",
   "execution_count": 16,
   "metadata": {},
   "outputs": [
    {
     "name": "stdout",
     "output_type": "stream",
     "text": [
      "[{'i': 1, 'data_source': '```json\\n{{\\n    \"content\": \"Lyrics of a song\",\\n    \"attributes\": {{\\n        \"artist\": {{\\n            \"type\": \"string\",\\n            \"description\": \"Name of the song artist\"\\n        }},\\n        \"length\": {{\\n            \"type\": \"integer\",\\n            \"description\": \"Length of the song in seconds\"\\n        }},\\n        \"genre\": {{\\n            \"type\": \"string\",\\n            \"description\": \"The song genre, one of \"pop\", \"rock\" or \"rap\"\"\\n        }}\\n    }}\\n}}\\n```', 'user_query': 'What are songs by Taylor Swift or Katy Perry about teenage romance under 3 minutes long in the dance pop genre', 'structured_request': '```json\\n{{\\n    \"query\": \"teenager love\",\\n    \"filter\": \"and(or(eq(\\\\\"artist\\\\\", \\\\\"Taylor Swift\\\\\"), eq(\\\\\"artist\\\\\", \\\\\"Katy Perry\\\\\")), lt(\\\\\"length\\\\\", 180), eq(\\\\\"genre\\\\\", \\\\\"pop\\\\\"))\"\\n}}\\n```'}, {'i': 2, 'data_source': '```json\\n{{\\n    \"content\": \"Lyrics of a song\",\\n    \"attributes\": {{\\n        \"artist\": {{\\n            \"type\": \"string\",\\n            \"description\": \"Name of the song artist\"\\n        }},\\n        \"length\": {{\\n            \"type\": \"integer\",\\n            \"description\": \"Length of the song in seconds\"\\n        }},\\n        \"genre\": {{\\n            \"type\": \"string\",\\n            \"description\": \"The song genre, one of \"pop\", \"rock\" or \"rap\"\"\\n        }}\\n    }}\\n}}\\n```', 'user_query': 'What are songs that were not published on Spotify', 'structured_request': '```json\\n{{\\n    \"query\": \"\",\\n    \"filter\": \"NO_FILTER\"\\n}}\\n```'}]\n"
     ]
    }
   ],
   "source": [
    "print(sq_retriever.llm_chain.prompt.examples)"
   ]
  },
  {
   "cell_type": "code",
   "execution_count": 17,
   "metadata": {},
   "outputs": [
    {
     "data": {
      "text/plain": [
       "['query']"
      ]
     },
     "execution_count": 17,
     "metadata": {},
     "output_type": "execute_result"
    }
   ],
   "source": [
    "sq_retriever.llm_chain.prompt.input_variables"
   ]
  },
  {
   "cell_type": "code",
   "execution_count": 27,
   "metadata": {},
   "outputs": [
    {
     "name": "stdout",
     "output_type": "stream",
     "text": [
      "text='Your goal is to structure the user\\'s query to match the request schema provided below.\\n\\n<< Structured Request Schema >>\\nWhen responding use a markdown code snippet with a JSON object formatted in the following schema:\\n\\n```json\\n{\\n    \"query\": string \\\\ text string to compare to document contents\\n    \"filter\": string \\\\ logical condition statement for filtering documents\\n}\\n```\\n\\nThe query string should contain only text that is expected to match the contents of documents. Any conditions in the filter should not be mentioned in the query as well.\\n\\nA logical condition statement is composed of one or more comparison and logical operation statements.\\n\\nA comparison statement takes the form: `comp(attr, val)`:\\n- `comp` (eq | ne | gt | gte | lt | lte): comparator\\n- `attr` (string):  name of attribute to apply the comparison to\\n- `val` (string): is the comparison value\\n\\nA logical operation statement takes the form `op(statement1, statement2, ...)`:\\n- `op` (and | or): logical operator\\n- `statement1`, `statement2`, ... (comparison statements or logical operation statements): one or more statements to apply the operation to\\n\\nMake sure that you only use the comparators and logical operators listed above and no others.\\nMake sure that filters only refer to attributes that exist in the data source.\\nMake sure that filters only use the attributed names with its function names if there are functions applied on them.\\nMake sure that filters only use format `YYYY-MM-DD` when handling timestamp data typed values.\\nMake sure that filters take into account the descriptions of attributes and only make comparisons that are feasible given the type of data being stored.\\nMake sure that filters are only used as needed. If there are no filters that should be applied return \"NO_FILTER\" for the filter value.\\n\\n<< Example 1. >>\\nData Source:\\n```json\\n{\\n    \"content\": \"Lyrics of a song\",\\n    \"attributes\": {\\n        \"artist\": {\\n            \"type\": \"string\",\\n            \"description\": \"Name of the song artist\"\\n        },\\n        \"length\": {\\n            \"type\": \"integer\",\\n            \"description\": \"Length of the song in seconds\"\\n        },\\n        \"genre\": {\\n            \"type\": \"string\",\\n            \"description\": \"The song genre, one of \"pop\", \"rock\" or \"rap\"\"\\n        }\\n    }\\n}\\n```\\n\\nUser Query:\\nWhat are songs by Taylor Swift or Katy Perry about teenage romance under 3 minutes long in the dance pop genre\\n\\nStructured Request:\\n```json\\n{\\n    \"query\": \"teenager love\",\\n    \"filter\": \"and(or(eq(\\\\\"artist\\\\\", \\\\\"Taylor Swift\\\\\"), eq(\\\\\"artist\\\\\", \\\\\"Katy Perry\\\\\")), lt(\\\\\"length\\\\\", 180), eq(\\\\\"genre\\\\\", \\\\\"pop\\\\\"))\"\\n}\\n```\\n\\n\\n<< Example 2. >>\\nData Source:\\n```json\\n{\\n    \"content\": \"Lyrics of a song\",\\n    \"attributes\": {\\n        \"artist\": {\\n            \"type\": \"string\",\\n            \"description\": \"Name of the song artist\"\\n        },\\n        \"length\": {\\n            \"type\": \"integer\",\\n            \"description\": \"Length of the song in seconds\"\\n        },\\n        \"genre\": {\\n            \"type\": \"string\",\\n            \"description\": \"The song genre, one of \"pop\", \"rock\" or \"rap\"\"\\n        }\\n    }\\n}\\n```\\n\\nUser Query:\\nWhat are songs that were not published on Spotify\\n\\nStructured Request:\\n```json\\n{\\n    \"query\": \"\",\\n    \"filter\": \"NO_FILTER\"\\n}\\n```\\n\\n\\n<< Example 3. >>\\nData Source:\\n```json\\n{\\n    \"content\": \"List of movies with an overview and scoring from a public website.\",\\n    \"attributes\": {\\n    \"vote_average\": {\\n        \"description\": \"The average score given to the movie.\",\\n        \"type\": \"float\"\\n    }\\n}\\n}\\n```\\n\\nUser Query:\\nI want to watch a movie about outer space exploration.\\n\\nStructured Request:\\n'\n"
     ]
    }
   ],
   "source": [
    "print(sq_retriever.llm_chain.prompt.format_prompt(query=\"I want to watch a movie about outer space exploration.\"))"
   ]
  },
  {
   "cell_type": "code",
   "execution_count": 23,
   "metadata": {},
   "outputs": [],
   "source": [
    "prompt_eip, stop_eip = sq_retriever.llm_chain.prep_prompts(\n",
    "    [{\"query\": \"I want to watch a movie about outer space exploration.\"}])"
   ]
  },
  {
   "cell_type": "code",
   "execution_count": 24,
   "metadata": {},
   "outputs": [
    {
     "data": {
      "text/plain": [
       "[StringPromptValue(text='Your goal is to structure the user\\'s query to match the request schema provided below.\\n\\n<< Structured Request Schema >>\\nWhen responding use a markdown code snippet with a JSON object formatted in the following schema:\\n\\n```json\\n{\\n    \"query\": string \\\\ text string to compare to document contents\\n    \"filter\": string \\\\ logical condition statement for filtering documents\\n}\\n```\\n\\nThe query string should contain only text that is expected to match the contents of documents. Any conditions in the filter should not be mentioned in the query as well.\\n\\nA logical condition statement is composed of one or more comparison and logical operation statements.\\n\\nA comparison statement takes the form: `comp(attr, val)`:\\n- `comp` (eq | ne | gt | gte | lt | lte): comparator\\n- `attr` (string):  name of attribute to apply the comparison to\\n- `val` (string): is the comparison value\\n\\nA logical operation statement takes the form `op(statement1, statement2, ...)`:\\n- `op` (and | or): logical operator\\n- `statement1`, `statement2`, ... (comparison statements or logical operation statements): one or more statements to apply the operation to\\n\\nMake sure that you only use the comparators and logical operators listed above and no others.\\nMake sure that filters only refer to attributes that exist in the data source.\\nMake sure that filters only use the attributed names with its function names if there are functions applied on them.\\nMake sure that filters only use format `YYYY-MM-DD` when handling timestamp data typed values.\\nMake sure that filters take into account the descriptions of attributes and only make comparisons that are feasible given the type of data being stored.\\nMake sure that filters are only used as needed. If there are no filters that should be applied return \"NO_FILTER\" for the filter value.\\n\\n<< Example 1. >>\\nData Source:\\n```json\\n{\\n    \"content\": \"Lyrics of a song\",\\n    \"attributes\": {\\n        \"artist\": {\\n            \"type\": \"string\",\\n            \"description\": \"Name of the song artist\"\\n        },\\n        \"length\": {\\n            \"type\": \"integer\",\\n            \"description\": \"Length of the song in seconds\"\\n        },\\n        \"genre\": {\\n            \"type\": \"string\",\\n            \"description\": \"The song genre, one of \"pop\", \"rock\" or \"rap\"\"\\n        }\\n    }\\n}\\n```\\n\\nUser Query:\\nWhat are songs by Taylor Swift or Katy Perry about teenage romance under 3 minutes long in the dance pop genre\\n\\nStructured Request:\\n```json\\n{\\n    \"query\": \"teenager love\",\\n    \"filter\": \"and(or(eq(\\\\\"artist\\\\\", \\\\\"Taylor Swift\\\\\"), eq(\\\\\"artist\\\\\", \\\\\"Katy Perry\\\\\")), lt(\\\\\"length\\\\\", 180), eq(\\\\\"genre\\\\\", \\\\\"pop\\\\\"))\"\\n}\\n```\\n\\n\\n<< Example 2. >>\\nData Source:\\n```json\\n{\\n    \"content\": \"Lyrics of a song\",\\n    \"attributes\": {\\n        \"artist\": {\\n            \"type\": \"string\",\\n            \"description\": \"Name of the song artist\"\\n        },\\n        \"length\": {\\n            \"type\": \"integer\",\\n            \"description\": \"Length of the song in seconds\"\\n        },\\n        \"genre\": {\\n            \"type\": \"string\",\\n            \"description\": \"The song genre, one of \"pop\", \"rock\" or \"rap\"\"\\n        }\\n    }\\n}\\n```\\n\\nUser Query:\\nWhat are songs that were not published on Spotify\\n\\nStructured Request:\\n```json\\n{\\n    \"query\": \"\",\\n    \"filter\": \"NO_FILTER\"\\n}\\n```\\n\\n\\n<< Example 3. >>\\nData Source:\\n```json\\n{\\n    \"content\": \"List of movies with an overview and scoring from a public website.\",\\n    \"attributes\": {\\n    \"vote_average\": {\\n        \"description\": \"The average score given to the movie.\",\\n        \"type\": \"float\"\\n    }\\n}\\n}\\n```\\n\\nUser Query:\\nI want to watch a movie about outer space exploration.\\n\\nStructured Request:\\n')]"
      ]
     },
     "execution_count": 24,
     "metadata": {},
     "output_type": "execute_result"
    }
   ],
   "source": [
    "prompt_eip"
   ]
  },
  {
   "cell_type": "code",
   "execution_count": 25,
   "metadata": {},
   "outputs": [
    {
     "name": "stdout",
     "output_type": "stream",
     "text": [
      "\u001b[32;1m\u001b[1;3m[llm/start]\u001b[0m \u001b[1m[1:llm:ChatOpenAI] Entering LLM run with input:\n",
      "\u001b[0m{\n",
      "  \"prompts\": [\n",
      "    \"Human: Your goal is to structure the user's query to match the request schema provided below.\\n\\n<< Structured Request Schema >>\\nWhen responding use a markdown code snippet with a JSON object formatted in the following schema:\\n\\n```json\\n{\\n    \\\"query\\\": string \\\\ text string to compare to document contents\\n    \\\"filter\\\": string \\\\ logical condition statement for filtering documents\\n}\\n```\\n\\nThe query string should contain only text that is expected to match the contents of documents. Any conditions in the filter should not be mentioned in the query as well.\\n\\nA logical condition statement is composed of one or more comparison and logical operation statements.\\n\\nA comparison statement takes the form: `comp(attr, val)`:\\n- `comp` (eq | ne | gt | gte | lt | lte): comparator\\n- `attr` (string):  name of attribute to apply the comparison to\\n- `val` (string): is the comparison value\\n\\nA logical operation statement takes the form `op(statement1, statement2, ...)`:\\n- `op` (and | or): logical operator\\n- `statement1`, `statement2`, ... (comparison statements or logical operation statements): one or more statements to apply the operation to\\n\\nMake sure that you only use the comparators and logical operators listed above and no others.\\nMake sure that filters only refer to attributes that exist in the data source.\\nMake sure that filters only use the attributed names with its function names if there are functions applied on them.\\nMake sure that filters only use format `YYYY-MM-DD` when handling timestamp data typed values.\\nMake sure that filters take into account the descriptions of attributes and only make comparisons that are feasible given the type of data being stored.\\nMake sure that filters are only used as needed. If there are no filters that should be applied return \\\"NO_FILTER\\\" for the filter value.\\n\\n<< Example 1. >>\\nData Source:\\n```json\\n{\\n    \\\"content\\\": \\\"Lyrics of a song\\\",\\n    \\\"attributes\\\": {\\n        \\\"artist\\\": {\\n            \\\"type\\\": \\\"string\\\",\\n            \\\"description\\\": \\\"Name of the song artist\\\"\\n        },\\n        \\\"length\\\": {\\n            \\\"type\\\": \\\"integer\\\",\\n            \\\"description\\\": \\\"Length of the song in seconds\\\"\\n        },\\n        \\\"genre\\\": {\\n            \\\"type\\\": \\\"string\\\",\\n            \\\"description\\\": \\\"The song genre, one of \\\"pop\\\", \\\"rock\\\" or \\\"rap\\\"\\\"\\n        }\\n    }\\n}\\n```\\n\\nUser Query:\\nWhat are songs by Taylor Swift or Katy Perry about teenage romance under 3 minutes long in the dance pop genre\\n\\nStructured Request:\\n```json\\n{\\n    \\\"query\\\": \\\"teenager love\\\",\\n    \\\"filter\\\": \\\"and(or(eq(\\\\\\\"artist\\\\\\\", \\\\\\\"Taylor Swift\\\\\\\"), eq(\\\\\\\"artist\\\\\\\", \\\\\\\"Katy Perry\\\\\\\")), lt(\\\\\\\"length\\\\\\\", 180), eq(\\\\\\\"genre\\\\\\\", \\\\\\\"pop\\\\\\\"))\\\"\\n}\\n```\\n\\n\\n<< Example 2. >>\\nData Source:\\n```json\\n{\\n    \\\"content\\\": \\\"Lyrics of a song\\\",\\n    \\\"attributes\\\": {\\n        \\\"artist\\\": {\\n            \\\"type\\\": \\\"string\\\",\\n            \\\"description\\\": \\\"Name of the song artist\\\"\\n        },\\n        \\\"length\\\": {\\n            \\\"type\\\": \\\"integer\\\",\\n            \\\"description\\\": \\\"Length of the song in seconds\\\"\\n        },\\n        \\\"genre\\\": {\\n            \\\"type\\\": \\\"string\\\",\\n            \\\"description\\\": \\\"The song genre, one of \\\"pop\\\", \\\"rock\\\" or \\\"rap\\\"\\\"\\n        }\\n    }\\n}\\n```\\n\\nUser Query:\\nWhat are songs that were not published on Spotify\\n\\nStructured Request:\\n```json\\n{\\n    \\\"query\\\": \\\"\\\",\\n    \\\"filter\\\": \\\"NO_FILTER\\\"\\n}\\n```\\n\\n\\n<< Example 3. >>\\nData Source:\\n```json\\n{\\n    \\\"content\\\": \\\"List of movies with an overview and scoring from a public website.\\\",\\n    \\\"attributes\\\": {\\n    \\\"vote_average\\\": {\\n        \\\"description\\\": \\\"The average score given to the movie.\\\",\\n        \\\"type\\\": \\\"float\\\"\\n    }\\n}\\n}\\n```\\n\\nUser Query:\\nI want to watch a movie about outer space exploration.\\n\\nStructured Request:\"\n",
      "  ]\n",
      "}\n",
      "\u001b[36;1m\u001b[1;3m[llm/end]\u001b[0m \u001b[1m[1:llm:ChatOpenAI] [1.18s] Exiting LLM run with output:\n",
      "\u001b[0m{\n",
      "  \"generations\": [\n",
      "    [\n",
      "      {\n",
      "        \"text\": \"```json\\n{\\n    \\\"query\\\": \\\"outer space exploration\\\",\\n    \\\"filter\\\": \\\"NO_FILTER\\\"\\n}\\n```\",\n",
      "        \"generation_info\": {\n",
      "          \"finish_reason\": \"stop\"\n",
      "        },\n",
      "        \"message\": {\n",
      "          \"lc\": 1,\n",
      "          \"type\": \"constructor\",\n",
      "          \"id\": [\n",
      "            \"langchain\",\n",
      "            \"schema\",\n",
      "            \"messages\",\n",
      "            \"AIMessage\"\n",
      "          ],\n",
      "          \"kwargs\": {\n",
      "            \"content\": \"```json\\n{\\n    \\\"query\\\": \\\"outer space exploration\\\",\\n    \\\"filter\\\": \\\"NO_FILTER\\\"\\n}\\n```\",\n",
      "            \"additional_kwargs\": {}\n",
      "          }\n",
      "        }\n",
      "      }\n",
      "    ]\n",
      "  ],\n",
      "  \"llm_output\": {\n",
      "    \"token_usage\": {\n",
      "      \"prompt_tokens\": 830,\n",
      "      \"completion_tokens\": 23,\n",
      "      \"total_tokens\": 853\n",
      "    },\n",
      "    \"model_name\": \"gpt-3.5-turbo\"\n",
      "  },\n",
      "  \"run\": null\n",
      "}\n"
     ]
    }
   ],
   "source": [
    "resp_eip = sq_retriever.llm_chain.llm.generate_prompt(prompt_eip, stop_eip, callbacks=None)"
   ]
  },
  {
   "cell_type": "code",
   "execution_count": 26,
   "metadata": {},
   "outputs": [
    {
     "data": {
      "text/plain": [
       "{'text': '```json\\n{\\n    \"query\": \"outer space exploration\",\\n    \"filter\": \"NO_FILTER\"\\n}\\n```'}"
      ]
     },
     "execution_count": 26,
     "metadata": {},
     "output_type": "execute_result"
    }
   ],
   "source": [
    "sq_retriever.llm_chain.create_outputs(resp_eip)[0]"
   ]
  },
  {
   "cell_type": "code",
   "execution_count": 28,
   "metadata": {},
   "outputs": [
    {
     "name": "stderr",
     "output_type": "stream",
     "text": [
      "/Users/itortouch/miniconda3/envs/growwer_copilot/lib/python3.11/site-packages/langchain/chains/llm.py:278: UserWarning: The predict_and_parse method is deprecated, instead pass an output parser directly to LLMChain.\n",
      "  warnings.warn(\n"
     ]
    },
    {
     "name": "stdout",
     "output_type": "stream",
     "text": [
      "\u001b[32;1m\u001b[1;3m[chain/start]\u001b[0m \u001b[1m[1:retriever:Retriever > 2:chain:LLMChain] Entering Chain run with input:\n",
      "\u001b[0m{\n",
      "  \"query\": \"I want to watch a movie about outer space exploration.\"\n",
      "}\n",
      "\u001b[32;1m\u001b[1;3m[llm/start]\u001b[0m \u001b[1m[1:retriever:Retriever > 2:chain:LLMChain > 3:llm:ChatOpenAI] Entering LLM run with input:\n",
      "\u001b[0m{\n",
      "  \"prompts\": [\n",
      "    \"Human: Your goal is to structure the user's query to match the request schema provided below.\\n\\n<< Structured Request Schema >>\\nWhen responding use a markdown code snippet with a JSON object formatted in the following schema:\\n\\n```json\\n{\\n    \\\"query\\\": string \\\\ text string to compare to document contents\\n    \\\"filter\\\": string \\\\ logical condition statement for filtering documents\\n}\\n```\\n\\nThe query string should contain only text that is expected to match the contents of documents. Any conditions in the filter should not be mentioned in the query as well.\\n\\nA logical condition statement is composed of one or more comparison and logical operation statements.\\n\\nA comparison statement takes the form: `comp(attr, val)`:\\n- `comp` (eq | ne | gt | gte | lt | lte): comparator\\n- `attr` (string):  name of attribute to apply the comparison to\\n- `val` (string): is the comparison value\\n\\nA logical operation statement takes the form `op(statement1, statement2, ...)`:\\n- `op` (and | or): logical operator\\n- `statement1`, `statement2`, ... (comparison statements or logical operation statements): one or more statements to apply the operation to\\n\\nMake sure that you only use the comparators and logical operators listed above and no others.\\nMake sure that filters only refer to attributes that exist in the data source.\\nMake sure that filters only use the attributed names with its function names if there are functions applied on them.\\nMake sure that filters only use format `YYYY-MM-DD` when handling timestamp data typed values.\\nMake sure that filters take into account the descriptions of attributes and only make comparisons that are feasible given the type of data being stored.\\nMake sure that filters are only used as needed. If there are no filters that should be applied return \\\"NO_FILTER\\\" for the filter value.\\n\\n<< Example 1. >>\\nData Source:\\n```json\\n{\\n    \\\"content\\\": \\\"Lyrics of a song\\\",\\n    \\\"attributes\\\": {\\n        \\\"artist\\\": {\\n            \\\"type\\\": \\\"string\\\",\\n            \\\"description\\\": \\\"Name of the song artist\\\"\\n        },\\n        \\\"length\\\": {\\n            \\\"type\\\": \\\"integer\\\",\\n            \\\"description\\\": \\\"Length of the song in seconds\\\"\\n        },\\n        \\\"genre\\\": {\\n            \\\"type\\\": \\\"string\\\",\\n            \\\"description\\\": \\\"The song genre, one of \\\"pop\\\", \\\"rock\\\" or \\\"rap\\\"\\\"\\n        }\\n    }\\n}\\n```\\n\\nUser Query:\\nWhat are songs by Taylor Swift or Katy Perry about teenage romance under 3 minutes long in the dance pop genre\\n\\nStructured Request:\\n```json\\n{\\n    \\\"query\\\": \\\"teenager love\\\",\\n    \\\"filter\\\": \\\"and(or(eq(\\\\\\\"artist\\\\\\\", \\\\\\\"Taylor Swift\\\\\\\"), eq(\\\\\\\"artist\\\\\\\", \\\\\\\"Katy Perry\\\\\\\")), lt(\\\\\\\"length\\\\\\\", 180), eq(\\\\\\\"genre\\\\\\\", \\\\\\\"pop\\\\\\\"))\\\"\\n}\\n```\\n\\n\\n<< Example 2. >>\\nData Source:\\n```json\\n{\\n    \\\"content\\\": \\\"Lyrics of a song\\\",\\n    \\\"attributes\\\": {\\n        \\\"artist\\\": {\\n            \\\"type\\\": \\\"string\\\",\\n            \\\"description\\\": \\\"Name of the song artist\\\"\\n        },\\n        \\\"length\\\": {\\n            \\\"type\\\": \\\"integer\\\",\\n            \\\"description\\\": \\\"Length of the song in seconds\\\"\\n        },\\n        \\\"genre\\\": {\\n            \\\"type\\\": \\\"string\\\",\\n            \\\"description\\\": \\\"The song genre, one of \\\"pop\\\", \\\"rock\\\" or \\\"rap\\\"\\\"\\n        }\\n    }\\n}\\n```\\n\\nUser Query:\\nWhat are songs that were not published on Spotify\\n\\nStructured Request:\\n```json\\n{\\n    \\\"query\\\": \\\"\\\",\\n    \\\"filter\\\": \\\"NO_FILTER\\\"\\n}\\n```\\n\\n\\n<< Example 3. >>\\nData Source:\\n```json\\n{\\n    \\\"content\\\": \\\"List of movies with an overview and scoring from a public website.\\\",\\n    \\\"attributes\\\": {\\n    \\\"vote_average\\\": {\\n        \\\"description\\\": \\\"The average score given to the movie.\\\",\\n        \\\"type\\\": \\\"float\\\"\\n    }\\n}\\n}\\n```\\n\\nUser Query:\\nI want to watch a movie about outer space exploration.\\n\\nStructured Request:\"\n",
      "  ]\n",
      "}\n",
      "\u001b[36;1m\u001b[1;3m[llm/end]\u001b[0m \u001b[1m[1:retriever:Retriever > 2:chain:LLMChain > 3:llm:ChatOpenAI] [1.36s] Exiting LLM run with output:\n",
      "\u001b[0m{\n",
      "  \"generations\": [\n",
      "    [\n",
      "      {\n",
      "        \"text\": \"```json\\n{\\n    \\\"query\\\": \\\"outer space exploration\\\",\\n    \\\"filter\\\": \\\"NO_FILTER\\\"\\n}\\n```\",\n",
      "        \"generation_info\": {\n",
      "          \"finish_reason\": \"stop\"\n",
      "        },\n",
      "        \"message\": {\n",
      "          \"lc\": 1,\n",
      "          \"type\": \"constructor\",\n",
      "          \"id\": [\n",
      "            \"langchain\",\n",
      "            \"schema\",\n",
      "            \"messages\",\n",
      "            \"AIMessage\"\n",
      "          ],\n",
      "          \"kwargs\": {\n",
      "            \"content\": \"```json\\n{\\n    \\\"query\\\": \\\"outer space exploration\\\",\\n    \\\"filter\\\": \\\"NO_FILTER\\\"\\n}\\n```\",\n",
      "            \"additional_kwargs\": {}\n",
      "          }\n",
      "        }\n",
      "      }\n",
      "    ]\n",
      "  ],\n",
      "  \"llm_output\": {\n",
      "    \"token_usage\": {\n",
      "      \"prompt_tokens\": 830,\n",
      "      \"completion_tokens\": 23,\n",
      "      \"total_tokens\": 853\n",
      "    },\n",
      "    \"model_name\": \"gpt-3.5-turbo\"\n",
      "  },\n",
      "  \"run\": null\n",
      "}\n",
      "\u001b[36;1m\u001b[1;3m[chain/end]\u001b[0m \u001b[1m[1:retriever:Retriever > 2:chain:LLMChain] [1.36s] Exiting Chain run with output:\n",
      "\u001b[0m{\n",
      "  \"text\": \"```json\\n{\\n    \\\"query\\\": \\\"outer space exploration\\\",\\n    \\\"filter\\\": \\\"NO_FILTER\\\"\\n}\\n```\"\n",
      "}\n",
      "query='outer space exploration' filter=None limit=None\n"
     ]
    },
    {
     "data": {
      "text/plain": [
       "[Document(page_content='title: Sphere\\noverview: The OSSA discovers a spacecraft thought to be at least 300 years old at the bottom of the ocean. Immediately following the discovery, they decide to send a team down to the depths of the ocean to study the space craft.They are the best of best, smart and logical, and the perfect choice to learn more about the spacecraft.\\nvote_average: 5.8', metadata={'vote_average': 5.8}),\n",
       " Document(page_content=\"title: Space Battleship Yamato\\noverview: In 2199, five years after the Gamilons began an invasion of Earth, the planet has been ravaged by the aliens' bombs. The remnants of humanity have fled underground to escape the irradiated surface. One day, former pilot Susumu Kodai discovers a capsule sent from the planet Iscandar that tells of a device that can remove the radiation from the Earth's surface. The Earth Defense Force rebuilds the battleship Yamato with a new type of propulsion system to make the 148,000 light year trip to Iscandar in hopes of saving the Earth. Within one year, the radiation will drive the rest of humanity to extinction.\\nvote_average: 6.3\", metadata={'vote_average': 6.3}),\n",
       " Document(page_content='title: Gravity\\noverview: Dr. Ryan Stone, a brilliant medical engineer on her first Shuttle mission, with veteran astronaut Matt Kowalsky in command of his last flight before retiring. But on a seemingly routine spacewalk, disaster strikes. The Shuttle is destroyed, leaving Stone and Kowalsky completely alone-tethered to nothing but each other and spiraling out into the blackness of space. The deafening silence tells them they have lost any link to Earth and any chance for rescue. As fear turns to panic, every gulp of air eats away at what little oxygen is left. But the only way home may be to go further out into the terrifying expanse of space.\\nvote_average: 7.3', metadata={'vote_average': 7.3}),\n",
       " Document(page_content=\"title: 2001: A Space Odyssey\\noverview: Humanity finds a mysterious object buried beneath the lunar surface and sets off to find its origins with the help of HAL 9000, the world's most advanced super computer.\\nvote_average: 7.9\", metadata={'vote_average': 7.9}),\n",
       " Document(page_content='title: Interstellar\\noverview: Interstellar chronicles the adventures of a group of explorers who make use of a newly discovered wormhole to surpass the limitations on human space travel and conquer the vast distances involved in an interstellar voyage.\\nvote_average: 8.1', metadata={'vote_average': 8.1}),\n",
       " Document(page_content='title: Event Horizon\\noverview: In the year 2047 a group of astronauts are sent to investigate and salvage the long lost starship \"Event Horizon\". The ship disappeared mysteriously 7 years before on its maiden voyage and with its return comes even more mystery as the crew of the \"Lewis and Clark\" discover the real truth behind its disappearance and something even more terrifying.\\nvote_average: 6.5', metadata={'vote_average': 6.5}),\n",
       " Document(page_content='title: Lost in Space\\noverview: The prospects for continuing life on Earth in the year 2058 are grim. So the Robinsons are launched into space to colonize Alpha Prime, the only other inhabitable planet in the galaxy. But when a stowaway sabotages the mission, the Robinsons find themselves hurtling through uncharted space.\\nvote_average: 5.0', metadata={'vote_average': 5.0}),\n",
       " Document(page_content=\"title: Space Cowboys\\noverview: Frank Corvin, ‘Hawk’ Hawkins, Jerry O'Neill and ‘Tank’ Sullivan were hotdog members of Project Daedalus, the Air Force's test program for space travel, but their hopes were dashed in 1958 with the formation of NASA and the use of trained chimps. They blackmail their way into orbit when Russia's mysterious ‘Ikon’ communications satellite's orbit begins to degrade and threatens to crash to Earth.\\nvote_average: 6.3\", metadata={'vote_average': 6.3}),\n",
       " Document(page_content='title: Zathura: A Space Adventure\\noverview: After their father is called into work, two young boys, Walter and Danny, are left in the care of their teenage sister, Lisa, and told they must stay inside. Walter and Danny, who anticipate a boring day, are shocked when they begin playing Zathura, a space-themed board game, which they realize has mystical powers when their house is shot into space. With the help of an astronaut, the boys attempt to return home.\\nvote_average: 6.1', metadata={'vote_average': 6.1}),\n",
       " Document(page_content='title: Escape from Planet Earth\\noverview: Astronaut Scorch Supernova finds himself caught in a trap when he responds to an SOS from a notoriously dangerous alien planet.\\nvote_average: 5.7', metadata={'vote_average': 5.7}),\n",
       " Document(page_content=\"title: Galaxy Quest\\noverview: The stars of a 1970s sci-fi show - now scraping a living through re-runs and sci-fi conventions - are beamed aboard an alien spacecraft. Believing the cast's heroic on-screen dramas are historical documents of real-life adventures, the band of aliens turn to the ailing celebrities for help in their quest to overcome the oppressive regime in their solar system.\\nvote_average: 6.9\", metadata={'vote_average': 6.9}),\n",
       " Document(page_content='title: Journey to Saturn\\noverview: A Danish crew of misfits travel to Saturn in search for natural resources. However, the planet is colonized by a ruthless army of Aliens that turn their eye on Earth and invade Denmark. Thus, the crew change their mission to liberate Denmark.\\nvote_average: 4.9', metadata={'vote_average': 4.9}),\n",
       " Document(page_content=\"title: The Black Hole\\noverview: The explorer craft U.S.S. Palomino is returning to Earth after a fruitless 18-month search for extra-terrestrial life when the crew comes upon a supposedly lost ship, the magnificent U.S.S. Cygnus, hovering near a black hole. The ship is controlled by Dr. Hans Reinhardt and his monstrous robot companion, Maximillian. But the initial wonderment and awe the Palomino crew feel for the ship and its resistance to the power of the black hole turn to horror as they uncover Reinhardt's plans.\\nvote_average: 6.1\", metadata={'vote_average': 6.1}),\n",
       " Document(page_content='title: Red Planet\\noverview: Astronauts search for solutions to save a dying Earth by searching on Mars, only to have the mission go terribly awry.\\nvote_average: 5.4', metadata={'vote_average': 5.4}),\n",
       " Document(page_content='title: Mission to Mars\\noverview: When contact is lost with the crew of the first Mars expedition, a rescue mission is launched to discover their fate.\\nvote_average: 5.7', metadata={'vote_average': 5.7}),\n",
       " Document(page_content='title: Capricorn One\\noverview: In order to protect the reputation of the American space program, a team of scientists stages a phony Mars landing. Willingly participating in the deception are a trio of well-meaning astronauts, who become liabilities when their space capsule is reported lost on re-entry. Now, with the help of a crusading reporter,they must battle a sinister conspiracy that will stop at nothing to keep the truth\\nvote_average: 6.4', metadata={'vote_average': 6.4}),\n",
       " Document(page_content='title: Solaris\\noverview: Ground control has been receiving strange transmissions from the three remaining residents of the Solaris space station. When cosmonaut and psychologist Kris Kelvin is sent to investigate, he experiences the strange phenomena that afflict the Solaris crew, sending him on a voyage into the darkest recesses of his own consciousness. Based on the novel by the same name from Polish author Stanislaw Lem.\\nvote_average: 7.7', metadata={'vote_average': 7.7}),\n",
       " Document(page_content='title: Paul\\noverview: For the past 60 years, a space-traveling smart-ass named Paul has been locked up in a top-secret military base, advising world leaders about his kind. But when he worries he’s outlived his usefulness and the dissection table is drawing uncomfortably close, Paul escapes on the first RV that passes by his compound in Area 51. Fortunately, it contains the two earthlings who are most likely to rescue and harbor an alien on the run.\\nvote_average: 6.5', metadata={'vote_average': 6.5}),\n",
       " Document(page_content=\"title: Battleship\\noverview: When mankind beams a radio signal into space, a reply comes from ‘Planet G’, in the form of several alien crafts that splash down in the waters off Hawaii. Lieutenant Alex Hopper is a weapons officer assigned to the USS John Paul Jones, part of an international naval coalition which becomes the world's last hope for survival as they engage the hostile alien force of unimaginable strength. While taking on the invaders, Hopper must also try to live up to the potential his brother, and his fiancée's father, Admiral Shane, expect of him.\\nvote_average: 5.5\", metadata={'vote_average': 5.5}),\n",
       " Document(page_content=\"title: Stargate: The Ark of Truth\\noverview: SG-1 searches for an ancient weapon which could help them defeat the Ori, and discover it may be in the Ori's own home galaxy. As the Ori prepare to send ships through to the Milky Way to attack Earth, SG-1 travels to the Ori galaxy aboard the Odyssey. The International Oversight committee have their own plans and SG-1 finds themselves in a distant galaxy fighting two powerful enemies.\\nvote_average: 6.9\", metadata={'vote_average': 6.9})]"
      ]
     },
     "execution_count": 28,
     "metadata": {},
     "output_type": "execute_result"
    }
   ],
   "source": [
    "sq_retriever.get_relevant_documents(\"I want to watch a movie about outer space exploration.\")"
   ]
  },
  {
   "cell_type": "markdown",
   "metadata": {},
   "source": [
    "# Retrieval QA Chain"
   ]
  },
  {
   "cell_type": "markdown",
   "metadata": {},
   "source": [
    "## Definition"
   ]
  },
  {
   "cell_type": "code",
   "execution_count": 29,
   "metadata": {},
   "outputs": [],
   "source": [
    "template = \"\"\"Use the following movies data to find the best matches for the user request in the question overview topic. Rules:\n",
    "- You can return more than one movie if they are a good match. \n",
    "- Answer with movie names of the medias and a short text justifying the choice.\n",
    "- The justification must take into account overview topic matching and vote average score (higher=better).\n",
    "\n",
    "Media data:\n",
    "{context}\n",
    "\n",
    "Question overview topic: \n",
    "{question}\n",
    "\n",
    "Example answer:\n",
    "1. Title: [selected movie title]\n",
    "- Justification: [Given justification]\n",
    "- Score: [vote_average]\n",
    "\n",
    "Movies attending to rules and ordered from best to worst:\n",
    "\"\"\"\n",
    "\n",
    "alt_retrieval_prompt = PromptTemplate(template=template, input_variables=[\"context\", \"question\"])"
   ]
  },
  {
   "cell_type": "code",
   "execution_count": 30,
   "metadata": {},
   "outputs": [],
   "source": [
    "agent_llm_model = ChatOpenAI(temperature=0, model=\"gpt-3.5-turbo\", max_tokens=1000)\n",
    "# agent_llm_model = ChatOpenAI(temperature=0, model=\"gpt-4\", max_tokens=1000)"
   ]
  },
  {
   "cell_type": "code",
   "execution_count": 31,
   "metadata": {},
   "outputs": [],
   "source": [
    "growwer_media = RetrievalQA.from_chain_type(llm=agent_llm_model, chain_type=\"stuff\", retriever=sq_retriever, chain_type_kwargs={\"prompt\": alt_retrieval_prompt})"
   ]
  },
  {
   "cell_type": "markdown",
   "metadata": {},
   "source": [
    "## Testing"
   ]
  },
  {
   "cell_type": "code",
   "execution_count": 32,
   "metadata": {},
   "outputs": [
    {
     "name": "stdout",
     "output_type": "stream",
     "text": [
      "\u001b[32;1m\u001b[1;3m[chain/start]\u001b[0m \u001b[1m[1:chain:RetrievalQA] Entering Chain run with input:\n",
      "\u001b[0m{\n",
      "  \"query\": \"A movie about outer space exploration with rating over 5\"\n",
      "}\n",
      "\u001b[32;1m\u001b[1;3m[chain/start]\u001b[0m \u001b[1m[1:chain:RetrievalQA > 2:retriever:Retriever > 3:chain:LLMChain] Entering Chain run with input:\n",
      "\u001b[0m{\n",
      "  \"query\": \"A movie about outer space exploration with rating over 5\"\n",
      "}\n",
      "\u001b[32;1m\u001b[1;3m[llm/start]\u001b[0m \u001b[1m[1:chain:RetrievalQA > 2:retriever:Retriever > 3:chain:LLMChain > 4:llm:ChatOpenAI] Entering LLM run with input:\n",
      "\u001b[0m{\n",
      "  \"prompts\": [\n",
      "    \"Human: Your goal is to structure the user's query to match the request schema provided below.\\n\\n<< Structured Request Schema >>\\nWhen responding use a markdown code snippet with a JSON object formatted in the following schema:\\n\\n```json\\n{\\n    \\\"query\\\": string \\\\ text string to compare to document contents\\n    \\\"filter\\\": string \\\\ logical condition statement for filtering documents\\n}\\n```\\n\\nThe query string should contain only text that is expected to match the contents of documents. Any conditions in the filter should not be mentioned in the query as well.\\n\\nA logical condition statement is composed of one or more comparison and logical operation statements.\\n\\nA comparison statement takes the form: `comp(attr, val)`:\\n- `comp` (eq | ne | gt | gte | lt | lte): comparator\\n- `attr` (string):  name of attribute to apply the comparison to\\n- `val` (string): is the comparison value\\n\\nA logical operation statement takes the form `op(statement1, statement2, ...)`:\\n- `op` (and | or): logical operator\\n- `statement1`, `statement2`, ... (comparison statements or logical operation statements): one or more statements to apply the operation to\\n\\nMake sure that you only use the comparators and logical operators listed above and no others.\\nMake sure that filters only refer to attributes that exist in the data source.\\nMake sure that filters only use the attributed names with its function names if there are functions applied on them.\\nMake sure that filters only use format `YYYY-MM-DD` when handling timestamp data typed values.\\nMake sure that filters take into account the descriptions of attributes and only make comparisons that are feasible given the type of data being stored.\\nMake sure that filters are only used as needed. If there are no filters that should be applied return \\\"NO_FILTER\\\" for the filter value.\\n\\n<< Example 1. >>\\nData Source:\\n```json\\n{\\n    \\\"content\\\": \\\"Lyrics of a song\\\",\\n    \\\"attributes\\\": {\\n        \\\"artist\\\": {\\n            \\\"type\\\": \\\"string\\\",\\n            \\\"description\\\": \\\"Name of the song artist\\\"\\n        },\\n        \\\"length\\\": {\\n            \\\"type\\\": \\\"integer\\\",\\n            \\\"description\\\": \\\"Length of the song in seconds\\\"\\n        },\\n        \\\"genre\\\": {\\n            \\\"type\\\": \\\"string\\\",\\n            \\\"description\\\": \\\"The song genre, one of \\\"pop\\\", \\\"rock\\\" or \\\"rap\\\"\\\"\\n        }\\n    }\\n}\\n```\\n\\nUser Query:\\nWhat are songs by Taylor Swift or Katy Perry about teenage romance under 3 minutes long in the dance pop genre\\n\\nStructured Request:\\n```json\\n{\\n    \\\"query\\\": \\\"teenager love\\\",\\n    \\\"filter\\\": \\\"and(or(eq(\\\\\\\"artist\\\\\\\", \\\\\\\"Taylor Swift\\\\\\\"), eq(\\\\\\\"artist\\\\\\\", \\\\\\\"Katy Perry\\\\\\\")), lt(\\\\\\\"length\\\\\\\", 180), eq(\\\\\\\"genre\\\\\\\", \\\\\\\"pop\\\\\\\"))\\\"\\n}\\n```\\n\\n\\n<< Example 2. >>\\nData Source:\\n```json\\n{\\n    \\\"content\\\": \\\"Lyrics of a song\\\",\\n    \\\"attributes\\\": {\\n        \\\"artist\\\": {\\n            \\\"type\\\": \\\"string\\\",\\n            \\\"description\\\": \\\"Name of the song artist\\\"\\n        },\\n        \\\"length\\\": {\\n            \\\"type\\\": \\\"integer\\\",\\n            \\\"description\\\": \\\"Length of the song in seconds\\\"\\n        },\\n        \\\"genre\\\": {\\n            \\\"type\\\": \\\"string\\\",\\n            \\\"description\\\": \\\"The song genre, one of \\\"pop\\\", \\\"rock\\\" or \\\"rap\\\"\\\"\\n        }\\n    }\\n}\\n```\\n\\nUser Query:\\nWhat are songs that were not published on Spotify\\n\\nStructured Request:\\n```json\\n{\\n    \\\"query\\\": \\\"\\\",\\n    \\\"filter\\\": \\\"NO_FILTER\\\"\\n}\\n```\\n\\n\\n<< Example 3. >>\\nData Source:\\n```json\\n{\\n    \\\"content\\\": \\\"List of movies with an overview and scoring from a public website.\\\",\\n    \\\"attributes\\\": {\\n    \\\"vote_average\\\": {\\n        \\\"description\\\": \\\"The average score given to the movie.\\\",\\n        \\\"type\\\": \\\"float\\\"\\n    }\\n}\\n}\\n```\\n\\nUser Query:\\nA movie about outer space exploration with rating over 5\\n\\nStructured Request:\"\n",
      "  ]\n",
      "}\n",
      "\u001b[36;1m\u001b[1;3m[llm/end]\u001b[0m \u001b[1m[1:chain:RetrievalQA > 2:retriever:Retriever > 3:chain:LLMChain > 4:llm:ChatOpenAI] [1.46s] Exiting LLM run with output:\n",
      "\u001b[0m{\n",
      "  \"generations\": [\n",
      "    [\n",
      "      {\n",
      "        \"text\": \"```json\\n{\\n    \\\"query\\\": \\\"outer space exploration\\\",\\n    \\\"filter\\\": \\\"gt(\\\\\\\"vote_average\\\\\\\", 5)\\\"\\n}\\n```\",\n",
      "        \"generation_info\": {\n",
      "          \"finish_reason\": \"stop\"\n",
      "        },\n",
      "        \"message\": {\n",
      "          \"lc\": 1,\n",
      "          \"type\": \"constructor\",\n",
      "          \"id\": [\n",
      "            \"langchain\",\n",
      "            \"schema\",\n",
      "            \"messages\",\n",
      "            \"AIMessage\"\n",
      "          ],\n",
      "          \"kwargs\": {\n",
      "            \"content\": \"```json\\n{\\n    \\\"query\\\": \\\"outer space exploration\\\",\\n    \\\"filter\\\": \\\"gt(\\\\\\\"vote_average\\\\\\\", 5)\\\"\\n}\\n```\",\n",
      "            \"additional_kwargs\": {}\n",
      "          }\n",
      "        }\n",
      "      }\n",
      "    ]\n",
      "  ],\n",
      "  \"llm_output\": {\n",
      "    \"token_usage\": {\n",
      "      \"prompt_tokens\": 831,\n",
      "      \"completion_tokens\": 28,\n",
      "      \"total_tokens\": 859\n",
      "    },\n",
      "    \"model_name\": \"gpt-3.5-turbo\"\n",
      "  },\n",
      "  \"run\": null\n",
      "}\n",
      "\u001b[36;1m\u001b[1;3m[chain/end]\u001b[0m \u001b[1m[1:chain:RetrievalQA > 2:retriever:Retriever > 3:chain:LLMChain] [1.46s] Exiting Chain run with output:\n",
      "\u001b[0m{\n",
      "  \"text\": \"```json\\n{\\n    \\\"query\\\": \\\"outer space exploration\\\",\\n    \\\"filter\\\": \\\"gt(\\\\\\\"vote_average\\\\\\\", 5)\\\"\\n}\\n```\"\n",
      "}\n",
      "query='outer space exploration' filter=Comparison(comparator=<Comparator.GT: 'gt'>, attribute='vote_average', value=5) limit=None\n",
      "\u001b[32;1m\u001b[1;3m[chain/start]\u001b[0m \u001b[1m[1:chain:RetrievalQA > 5:chain:StuffDocumentsChain] Entering Chain run with input:\n",
      "\u001b[0m[inputs]\n",
      "\u001b[32;1m\u001b[1;3m[chain/start]\u001b[0m \u001b[1m[1:chain:RetrievalQA > 5:chain:StuffDocumentsChain > 6:chain:LLMChain] Entering Chain run with input:\n",
      "\u001b[0m{\n",
      "  \"question\": \"A movie about outer space exploration with rating over 5\",\n",
      "  \"context\": \"title: Sphere\\noverview: The OSSA discovers a spacecraft thought to be at least 300 years old at the bottom of the ocean. Immediately following the discovery, they decide to send a team down to the depths of the ocean to study the space craft.They are the best of best, smart and logical, and the perfect choice to learn more about the spacecraft.\\nvote_average: 5.8\\n\\ntitle: Space Battleship Yamato\\noverview: In 2199, five years after the Gamilons began an invasion of Earth, the planet has been ravaged by the aliens' bombs. The remnants of humanity have fled underground to escape the irradiated surface. One day, former pilot Susumu Kodai discovers a capsule sent from the planet Iscandar that tells of a device that can remove the radiation from the Earth's surface. The Earth Defense Force rebuilds the battleship Yamato with a new type of propulsion system to make the 148,000 light year trip to Iscandar in hopes of saving the Earth. Within one year, the radiation will drive the rest of humanity to extinction.\\nvote_average: 6.3\\n\\ntitle: Gravity\\noverview: Dr. Ryan Stone, a brilliant medical engineer on her first Shuttle mission, with veteran astronaut Matt Kowalsky in command of his last flight before retiring. But on a seemingly routine spacewalk, disaster strikes. The Shuttle is destroyed, leaving Stone and Kowalsky completely alone-tethered to nothing but each other and spiraling out into the blackness of space. The deafening silence tells them they have lost any link to Earth and any chance for rescue. As fear turns to panic, every gulp of air eats away at what little oxygen is left. But the only way home may be to go further out into the terrifying expanse of space.\\nvote_average: 7.3\\n\\ntitle: 2001: A Space Odyssey\\noverview: Humanity finds a mysterious object buried beneath the lunar surface and sets off to find its origins with the help of HAL 9000, the world's most advanced super computer.\\nvote_average: 7.9\\n\\ntitle: Interstellar\\noverview: Interstellar chronicles the adventures of a group of explorers who make use of a newly discovered wormhole to surpass the limitations on human space travel and conquer the vast distances involved in an interstellar voyage.\\nvote_average: 8.1\\n\\ntitle: Event Horizon\\noverview: In the year 2047 a group of astronauts are sent to investigate and salvage the long lost starship \\\"Event Horizon\\\". The ship disappeared mysteriously 7 years before on its maiden voyage and with its return comes even more mystery as the crew of the \\\"Lewis and Clark\\\" discover the real truth behind its disappearance and something even more terrifying.\\nvote_average: 6.5\\n\\ntitle: Space Cowboys\\noverview: Frank Corvin, ‘Hawk’ Hawkins, Jerry O'Neill and ‘Tank’ Sullivan were hotdog members of Project Daedalus, the Air Force's test program for space travel, but their hopes were dashed in 1958 with the formation of NASA and the use of trained chimps. They blackmail their way into orbit when Russia's mysterious ‘Ikon’ communications satellite's orbit begins to degrade and threatens to crash to Earth.\\nvote_average: 6.3\\n\\ntitle: Zathura: A Space Adventure\\noverview: After their father is called into work, two young boys, Walter and Danny, are left in the care of their teenage sister, Lisa, and told they must stay inside. Walter and Danny, who anticipate a boring day, are shocked when they begin playing Zathura, a space-themed board game, which they realize has mystical powers when their house is shot into space. With the help of an astronaut, the boys attempt to return home.\\nvote_average: 6.1\\n\\ntitle: Escape from Planet Earth\\noverview: Astronaut Scorch Supernova finds himself caught in a trap when he responds to an SOS from a notoriously dangerous alien planet.\\nvote_average: 5.7\\n\\ntitle: Galaxy Quest\\noverview: The stars of a 1970s sci-fi show - now scraping a living through re-runs and sci-fi conventions - are beamed aboard an alien spacecraft. Believing the cast's heroic on-screen dramas are historical documents of real-life adventures, the band of aliens turn to the ailing celebrities for help in their quest to overcome the oppressive regime in their solar system.\\nvote_average: 6.9\\n\\ntitle: The Black Hole\\noverview: The explorer craft U.S.S. Palomino is returning to Earth after a fruitless 18-month search for extra-terrestrial life when the crew comes upon a supposedly lost ship, the magnificent U.S.S. Cygnus, hovering near a black hole. The ship is controlled by Dr. Hans Reinhardt and his monstrous robot companion, Maximillian. But the initial wonderment and awe the Palomino crew feel for the ship and its resistance to the power of the black hole turn to horror as they uncover Reinhardt's plans.\\nvote_average: 6.1\\n\\ntitle: Red Planet\\noverview: Astronauts search for solutions to save a dying Earth by searching on Mars, only to have the mission go terribly awry.\\nvote_average: 5.4\\n\\ntitle: Mission to Mars\\noverview: When contact is lost with the crew of the first Mars expedition, a rescue mission is launched to discover their fate.\\nvote_average: 5.7\\n\\ntitle: Capricorn One\\noverview: In order to protect the reputation of the American space program, a team of scientists stages a phony Mars landing. Willingly participating in the deception are a trio of well-meaning astronauts, who become liabilities when their space capsule is reported lost on re-entry. Now, with the help of a crusading reporter,they must battle a sinister conspiracy that will stop at nothing to keep the truth\\nvote_average: 6.4\\n\\ntitle: Solaris\\noverview: Ground control has been receiving strange transmissions from the three remaining residents of the Solaris space station. When cosmonaut and psychologist Kris Kelvin is sent to investigate, he experiences the strange phenomena that afflict the Solaris crew, sending him on a voyage into the darkest recesses of his own consciousness. Based on the novel by the same name from Polish author Stanislaw Lem.\\nvote_average: 7.7\\n\\ntitle: Paul\\noverview: For the past 60 years, a space-traveling smart-ass named Paul has been locked up in a top-secret military base, advising world leaders about his kind. But when he worries he’s outlived his usefulness and the dissection table is drawing uncomfortably close, Paul escapes on the first RV that passes by his compound in Area 51. Fortunately, it contains the two earthlings who are most likely to rescue and harbor an alien on the run.\\nvote_average: 6.5\\n\\ntitle: Battleship\\noverview: When mankind beams a radio signal into space, a reply comes from ‘Planet G’, in the form of several alien crafts that splash down in the waters off Hawaii. Lieutenant Alex Hopper is a weapons officer assigned to the USS John Paul Jones, part of an international naval coalition which becomes the world's last hope for survival as they engage the hostile alien force of unimaginable strength. While taking on the invaders, Hopper must also try to live up to the potential his brother, and his fiancée's father, Admiral Shane, expect of him.\\nvote_average: 5.5\\n\\ntitle: Stargate: The Ark of Truth\\noverview: SG-1 searches for an ancient weapon which could help them defeat the Ori, and discover it may be in the Ori's own home galaxy. As the Ori prepare to send ships through to the Milky Way to attack Earth, SG-1 travels to the Ori galaxy aboard the Odyssey. The International Oversight committee have their own plans and SG-1 finds themselves in a distant galaxy fighting two powerful enemies.\\nvote_average: 6.9\\n\\ntitle: Moonraker\\noverview: During the transportation of a Space Shuttle a Boeing 747 crashes in the Atlantic Ocean yet when they go to look for the destroyed shuttle it is not there. James Bond investigates the missing mission space shuttle and soon learns that the shuttles owner Hugo Drax wants to kill all of mankind.\\nvote_average: 5.9\\n\\ntitle: In the Shadow of the Moon\\noverview: Archival material from the original NASA film footage – much of it seen for the first time – plus interviews with the surviving astronauts, including Jim Lovell, Dave Scott, John Young, Gene Cernan, Mike Collins, Buzz Aldrin, Alan Bean, Edgar Mitchell, Charlie Duke and Harrison Schmitt.\\nvote_average: 7.6\"\n",
      "}\n",
      "\u001b[32;1m\u001b[1;3m[llm/start]\u001b[0m \u001b[1m[1:chain:RetrievalQA > 5:chain:StuffDocumentsChain > 6:chain:LLMChain > 7:llm:ChatOpenAI] Entering LLM run with input:\n",
      "\u001b[0m{\n",
      "  \"prompts\": [\n",
      "    \"Human: Use the following movies data to find the best matches for the user request in the question overview topic. Rules:\\n- You can return more than one movie if they are a good match. \\n- Answer with movie names of the medias and a short text justifying the choice.\\n- The justification must take into account overview topic matching and vote average score (higher=better).\\n\\nMedia data:\\ntitle: Sphere\\noverview: The OSSA discovers a spacecraft thought to be at least 300 years old at the bottom of the ocean. Immediately following the discovery, they decide to send a team down to the depths of the ocean to study the space craft.They are the best of best, smart and logical, and the perfect choice to learn more about the spacecraft.\\nvote_average: 5.8\\n\\ntitle: Space Battleship Yamato\\noverview: In 2199, five years after the Gamilons began an invasion of Earth, the planet has been ravaged by the aliens' bombs. The remnants of humanity have fled underground to escape the irradiated surface. One day, former pilot Susumu Kodai discovers a capsule sent from the planet Iscandar that tells of a device that can remove the radiation from the Earth's surface. The Earth Defense Force rebuilds the battleship Yamato with a new type of propulsion system to make the 148,000 light year trip to Iscandar in hopes of saving the Earth. Within one year, the radiation will drive the rest of humanity to extinction.\\nvote_average: 6.3\\n\\ntitle: Gravity\\noverview: Dr. Ryan Stone, a brilliant medical engineer on her first Shuttle mission, with veteran astronaut Matt Kowalsky in command of his last flight before retiring. But on a seemingly routine spacewalk, disaster strikes. The Shuttle is destroyed, leaving Stone and Kowalsky completely alone-tethered to nothing but each other and spiraling out into the blackness of space. The deafening silence tells them they have lost any link to Earth and any chance for rescue. As fear turns to panic, every gulp of air eats away at what little oxygen is left. But the only way home may be to go further out into the terrifying expanse of space.\\nvote_average: 7.3\\n\\ntitle: 2001: A Space Odyssey\\noverview: Humanity finds a mysterious object buried beneath the lunar surface and sets off to find its origins with the help of HAL 9000, the world's most advanced super computer.\\nvote_average: 7.9\\n\\ntitle: Interstellar\\noverview: Interstellar chronicles the adventures of a group of explorers who make use of a newly discovered wormhole to surpass the limitations on human space travel and conquer the vast distances involved in an interstellar voyage.\\nvote_average: 8.1\\n\\ntitle: Event Horizon\\noverview: In the year 2047 a group of astronauts are sent to investigate and salvage the long lost starship \\\"Event Horizon\\\". The ship disappeared mysteriously 7 years before on its maiden voyage and with its return comes even more mystery as the crew of the \\\"Lewis and Clark\\\" discover the real truth behind its disappearance and something even more terrifying.\\nvote_average: 6.5\\n\\ntitle: Space Cowboys\\noverview: Frank Corvin, ‘Hawk’ Hawkins, Jerry O'Neill and ‘Tank’ Sullivan were hotdog members of Project Daedalus, the Air Force's test program for space travel, but their hopes were dashed in 1958 with the formation of NASA and the use of trained chimps. They blackmail their way into orbit when Russia's mysterious ‘Ikon’ communications satellite's orbit begins to degrade and threatens to crash to Earth.\\nvote_average: 6.3\\n\\ntitle: Zathura: A Space Adventure\\noverview: After their father is called into work, two young boys, Walter and Danny, are left in the care of their teenage sister, Lisa, and told they must stay inside. Walter and Danny, who anticipate a boring day, are shocked when they begin playing Zathura, a space-themed board game, which they realize has mystical powers when their house is shot into space. With the help of an astronaut, the boys attempt to return home.\\nvote_average: 6.1\\n\\ntitle: Escape from Planet Earth\\noverview: Astronaut Scorch Supernova finds himself caught in a trap when he responds to an SOS from a notoriously dangerous alien planet.\\nvote_average: 5.7\\n\\ntitle: Galaxy Quest\\noverview: The stars of a 1970s sci-fi show - now scraping a living through re-runs and sci-fi conventions - are beamed aboard an alien spacecraft. Believing the cast's heroic on-screen dramas are historical documents of real-life adventures, the band of aliens turn to the ailing celebrities for help in their quest to overcome the oppressive regime in their solar system.\\nvote_average: 6.9\\n\\ntitle: The Black Hole\\noverview: The explorer craft U.S.S. Palomino is returning to Earth after a fruitless 18-month search for extra-terrestrial life when the crew comes upon a supposedly lost ship, the magnificent U.S.S. Cygnus, hovering near a black hole. The ship is controlled by Dr. Hans Reinhardt and his monstrous robot companion, Maximillian. But the initial wonderment and awe the Palomino crew feel for the ship and its resistance to the power of the black hole turn to horror as they uncover Reinhardt's plans.\\nvote_average: 6.1\\n\\ntitle: Red Planet\\noverview: Astronauts search for solutions to save a dying Earth by searching on Mars, only to have the mission go terribly awry.\\nvote_average: 5.4\\n\\ntitle: Mission to Mars\\noverview: When contact is lost with the crew of the first Mars expedition, a rescue mission is launched to discover their fate.\\nvote_average: 5.7\\n\\ntitle: Capricorn One\\noverview: In order to protect the reputation of the American space program, a team of scientists stages a phony Mars landing. Willingly participating in the deception are a trio of well-meaning astronauts, who become liabilities when their space capsule is reported lost on re-entry. Now, with the help of a crusading reporter,they must battle a sinister conspiracy that will stop at nothing to keep the truth\\nvote_average: 6.4\\n\\ntitle: Solaris\\noverview: Ground control has been receiving strange transmissions from the three remaining residents of the Solaris space station. When cosmonaut and psychologist Kris Kelvin is sent to investigate, he experiences the strange phenomena that afflict the Solaris crew, sending him on a voyage into the darkest recesses of his own consciousness. Based on the novel by the same name from Polish author Stanislaw Lem.\\nvote_average: 7.7\\n\\ntitle: Paul\\noverview: For the past 60 years, a space-traveling smart-ass named Paul has been locked up in a top-secret military base, advising world leaders about his kind. But when he worries he’s outlived his usefulness and the dissection table is drawing uncomfortably close, Paul escapes on the first RV that passes by his compound in Area 51. Fortunately, it contains the two earthlings who are most likely to rescue and harbor an alien on the run.\\nvote_average: 6.5\\n\\ntitle: Battleship\\noverview: When mankind beams a radio signal into space, a reply comes from ‘Planet G’, in the form of several alien crafts that splash down in the waters off Hawaii. Lieutenant Alex Hopper is a weapons officer assigned to the USS John Paul Jones, part of an international naval coalition which becomes the world's last hope for survival as they engage the hostile alien force of unimaginable strength. While taking on the invaders, Hopper must also try to live up to the potential his brother, and his fiancée's father, Admiral Shane, expect of him.\\nvote_average: 5.5\\n\\ntitle: Stargate: The Ark of Truth\\noverview: SG-1 searches for an ancient weapon which could help them defeat the Ori, and discover it may be in the Ori's own home galaxy. As the Ori prepare to send ships through to the Milky Way to attack Earth, SG-1 travels to the Ori galaxy aboard the Odyssey. The International Oversight committee have their own plans and SG-1 finds themselves in a distant galaxy fighting two powerful enemies.\\nvote_average: 6.9\\n\\ntitle: Moonraker\\noverview: During the transportation of a Space Shuttle a Boeing 747 crashes in the Atlantic Ocean yet when they go to look for the destroyed shuttle it is not there. James Bond investigates the missing mission space shuttle and soon learns that the shuttles owner Hugo Drax wants to kill all of mankind.\\nvote_average: 5.9\\n\\ntitle: In the Shadow of the Moon\\noverview: Archival material from the original NASA film footage – much of it seen for the first time – plus interviews with the surviving astronauts, including Jim Lovell, Dave Scott, John Young, Gene Cernan, Mike Collins, Buzz Aldrin, Alan Bean, Edgar Mitchell, Charlie Duke and Harrison Schmitt.\\nvote_average: 7.6\\n\\nQuestion overview topic: \\nA movie about outer space exploration with rating over 5\\n\\nExample answer:\\n1. Title: [selected movie title]\\n- Justification: [Given justification]\\n- Score: [vote_average]\\n\\nMovies attending to rules and ordered from best to worst:\"\n",
      "  ]\n",
      "}\n",
      "\u001b[36;1m\u001b[1;3m[llm/end]\u001b[0m \u001b[1m[1:chain:RetrievalQA > 5:chain:StuffDocumentsChain > 6:chain:LLMChain > 7:llm:ChatOpenAI] [14.85s] Exiting LLM run with output:\n",
      "\u001b[0m{\n",
      "  \"generations\": [\n",
      "    [\n",
      "      {\n",
      "        \"text\": \"1. Interstellar\\n- Justification: Interstellar is a highly acclaimed movie about outer space exploration with a vote average of 8.1, making it the highest-rated movie in the list. It explores the concept of interstellar travel and the challenges faced by a group of explorers. The high vote average indicates that it is a well-regarded movie in this genre.\\n- Score: 8.1\\n\\n2. Gravity\\n- Justification: Gravity is another popular movie about outer space exploration with a vote average of 7.3. It tells the story of two astronauts stranded in space after their shuttle is destroyed. The movie received critical acclaim for its stunning visuals and intense storytelling, making it a good choice for someone interested in outer space exploration.\\n- Score: 7.3\\n\\n3. 2001: A Space Odyssey\\n- Justification: 2001: A Space Odyssey is a classic movie in the genre of outer space exploration. With a vote average of 7.9, it is highly regarded for its groundbreaking visuals and thought-provoking storyline. It delves into the mysteries of space and the evolution of humanity, making it a must-watch for fans of this genre.\\n- Score: 7.9\\n\\n4. Solaris\\n- Justification: Solaris is a thought-provoking movie about space exploration with a vote average of 7.7. It explores the psychological effects of long-duration space travel and the mysteries of the Solaris space station. The movie received critical acclaim for its philosophical themes and atmospheric storytelling, making it a good choice for those interested in a deeper exploration of outer space.\\n- Score: 7.7\\n\\n5. In the Shadow of the Moon\\n- Justification: In the Shadow of the Moon is a documentary that combines archival footage and interviews with astronauts to provide an in-depth look at the Apollo moon missions. With a vote average of 7.6, it offers a unique perspective on outer space exploration and the achievements of the astronauts involved. It is a highly recommended choice for those interested in the history of space exploration.\\n- Score: 7.6\\n\\nThese movies meet the criteria of being about outer space exploration and having a vote average over 5. They are ordered from highest to lowest vote average, indicating their overall popularity and critical reception.\",\n",
      "        \"generation_info\": {\n",
      "          \"finish_reason\": \"stop\"\n",
      "        },\n",
      "        \"message\": {\n",
      "          \"lc\": 1,\n",
      "          \"type\": \"constructor\",\n",
      "          \"id\": [\n",
      "            \"langchain\",\n",
      "            \"schema\",\n",
      "            \"messages\",\n",
      "            \"AIMessage\"\n",
      "          ],\n",
      "          \"kwargs\": {\n",
      "            \"content\": \"1. Interstellar\\n- Justification: Interstellar is a highly acclaimed movie about outer space exploration with a vote average of 8.1, making it the highest-rated movie in the list. It explores the concept of interstellar travel and the challenges faced by a group of explorers. The high vote average indicates that it is a well-regarded movie in this genre.\\n- Score: 8.1\\n\\n2. Gravity\\n- Justification: Gravity is another popular movie about outer space exploration with a vote average of 7.3. It tells the story of two astronauts stranded in space after their shuttle is destroyed. The movie received critical acclaim for its stunning visuals and intense storytelling, making it a good choice for someone interested in outer space exploration.\\n- Score: 7.3\\n\\n3. 2001: A Space Odyssey\\n- Justification: 2001: A Space Odyssey is a classic movie in the genre of outer space exploration. With a vote average of 7.9, it is highly regarded for its groundbreaking visuals and thought-provoking storyline. It delves into the mysteries of space and the evolution of humanity, making it a must-watch for fans of this genre.\\n- Score: 7.9\\n\\n4. Solaris\\n- Justification: Solaris is a thought-provoking movie about space exploration with a vote average of 7.7. It explores the psychological effects of long-duration space travel and the mysteries of the Solaris space station. The movie received critical acclaim for its philosophical themes and atmospheric storytelling, making it a good choice for those interested in a deeper exploration of outer space.\\n- Score: 7.7\\n\\n5. In the Shadow of the Moon\\n- Justification: In the Shadow of the Moon is a documentary that combines archival footage and interviews with astronauts to provide an in-depth look at the Apollo moon missions. With a vote average of 7.6, it offers a unique perspective on outer space exploration and the achievements of the astronauts involved. It is a highly recommended choice for those interested in the history of space exploration.\\n- Score: 7.6\\n\\nThese movies meet the criteria of being about outer space exploration and having a vote average over 5. They are ordered from highest to lowest vote average, indicating their overall popularity and critical reception.\",\n",
      "            \"additional_kwargs\": {}\n",
      "          }\n",
      "        }\n",
      "      }\n",
      "    ]\n",
      "  ],\n",
      "  \"llm_output\": {\n",
      "    \"token_usage\": {\n",
      "      \"prompt_tokens\": 1941,\n",
      "      \"completion_tokens\": 471,\n",
      "      \"total_tokens\": 2412\n",
      "    },\n",
      "    \"model_name\": \"gpt-3.5-turbo\"\n",
      "  },\n",
      "  \"run\": null\n",
      "}\n",
      "\u001b[36;1m\u001b[1;3m[chain/end]\u001b[0m \u001b[1m[1:chain:RetrievalQA > 5:chain:StuffDocumentsChain > 6:chain:LLMChain] [14.85s] Exiting Chain run with output:\n",
      "\u001b[0m{\n",
      "  \"text\": \"1. Interstellar\\n- Justification: Interstellar is a highly acclaimed movie about outer space exploration with a vote average of 8.1, making it the highest-rated movie in the list. It explores the concept of interstellar travel and the challenges faced by a group of explorers. The high vote average indicates that it is a well-regarded movie in this genre.\\n- Score: 8.1\\n\\n2. Gravity\\n- Justification: Gravity is another popular movie about outer space exploration with a vote average of 7.3. It tells the story of two astronauts stranded in space after their shuttle is destroyed. The movie received critical acclaim for its stunning visuals and intense storytelling, making it a good choice for someone interested in outer space exploration.\\n- Score: 7.3\\n\\n3. 2001: A Space Odyssey\\n- Justification: 2001: A Space Odyssey is a classic movie in the genre of outer space exploration. With a vote average of 7.9, it is highly regarded for its groundbreaking visuals and thought-provoking storyline. It delves into the mysteries of space and the evolution of humanity, making it a must-watch for fans of this genre.\\n- Score: 7.9\\n\\n4. Solaris\\n- Justification: Solaris is a thought-provoking movie about space exploration with a vote average of 7.7. It explores the psychological effects of long-duration space travel and the mysteries of the Solaris space station. The movie received critical acclaim for its philosophical themes and atmospheric storytelling, making it a good choice for those interested in a deeper exploration of outer space.\\n- Score: 7.7\\n\\n5. In the Shadow of the Moon\\n- Justification: In the Shadow of the Moon is a documentary that combines archival footage and interviews with astronauts to provide an in-depth look at the Apollo moon missions. With a vote average of 7.6, it offers a unique perspective on outer space exploration and the achievements of the astronauts involved. It is a highly recommended choice for those interested in the history of space exploration.\\n- Score: 7.6\\n\\nThese movies meet the criteria of being about outer space exploration and having a vote average over 5. They are ordered from highest to lowest vote average, indicating their overall popularity and critical reception.\"\n",
      "}\n",
      "\u001b[36;1m\u001b[1;3m[chain/end]\u001b[0m \u001b[1m[1:chain:RetrievalQA > 5:chain:StuffDocumentsChain] [14.85s] Exiting Chain run with output:\n",
      "\u001b[0m{\n",
      "  \"output_text\": \"1. Interstellar\\n- Justification: Interstellar is a highly acclaimed movie about outer space exploration with a vote average of 8.1, making it the highest-rated movie in the list. It explores the concept of interstellar travel and the challenges faced by a group of explorers. The high vote average indicates that it is a well-regarded movie in this genre.\\n- Score: 8.1\\n\\n2. Gravity\\n- Justification: Gravity is another popular movie about outer space exploration with a vote average of 7.3. It tells the story of two astronauts stranded in space after their shuttle is destroyed. The movie received critical acclaim for its stunning visuals and intense storytelling, making it a good choice for someone interested in outer space exploration.\\n- Score: 7.3\\n\\n3. 2001: A Space Odyssey\\n- Justification: 2001: A Space Odyssey is a classic movie in the genre of outer space exploration. With a vote average of 7.9, it is highly regarded for its groundbreaking visuals and thought-provoking storyline. It delves into the mysteries of space and the evolution of humanity, making it a must-watch for fans of this genre.\\n- Score: 7.9\\n\\n4. Solaris\\n- Justification: Solaris is a thought-provoking movie about space exploration with a vote average of 7.7. It explores the psychological effects of long-duration space travel and the mysteries of the Solaris space station. The movie received critical acclaim for its philosophical themes and atmospheric storytelling, making it a good choice for those interested in a deeper exploration of outer space.\\n- Score: 7.7\\n\\n5. In the Shadow of the Moon\\n- Justification: In the Shadow of the Moon is a documentary that combines archival footage and interviews with astronauts to provide an in-depth look at the Apollo moon missions. With a vote average of 7.6, it offers a unique perspective on outer space exploration and the achievements of the astronauts involved. It is a highly recommended choice for those interested in the history of space exploration.\\n- Score: 7.6\\n\\nThese movies meet the criteria of being about outer space exploration and having a vote average over 5. They are ordered from highest to lowest vote average, indicating their overall popularity and critical reception.\"\n",
      "}\n",
      "\u001b[36;1m\u001b[1;3m[chain/end]\u001b[0m \u001b[1m[1:chain:RetrievalQA] [16.63s] Exiting Chain run with output:\n",
      "\u001b[0m{\n",
      "  \"result\": \"1. Interstellar\\n- Justification: Interstellar is a highly acclaimed movie about outer space exploration with a vote average of 8.1, making it the highest-rated movie in the list. It explores the concept of interstellar travel and the challenges faced by a group of explorers. The high vote average indicates that it is a well-regarded movie in this genre.\\n- Score: 8.1\\n\\n2. Gravity\\n- Justification: Gravity is another popular movie about outer space exploration with a vote average of 7.3. It tells the story of two astronauts stranded in space after their shuttle is destroyed. The movie received critical acclaim for its stunning visuals and intense storytelling, making it a good choice for someone interested in outer space exploration.\\n- Score: 7.3\\n\\n3. 2001: A Space Odyssey\\n- Justification: 2001: A Space Odyssey is a classic movie in the genre of outer space exploration. With a vote average of 7.9, it is highly regarded for its groundbreaking visuals and thought-provoking storyline. It delves into the mysteries of space and the evolution of humanity, making it a must-watch for fans of this genre.\\n- Score: 7.9\\n\\n4. Solaris\\n- Justification: Solaris is a thought-provoking movie about space exploration with a vote average of 7.7. It explores the psychological effects of long-duration space travel and the mysteries of the Solaris space station. The movie received critical acclaim for its philosophical themes and atmospheric storytelling, making it a good choice for those interested in a deeper exploration of outer space.\\n- Score: 7.7\\n\\n5. In the Shadow of the Moon\\n- Justification: In the Shadow of the Moon is a documentary that combines archival footage and interviews with astronauts to provide an in-depth look at the Apollo moon missions. With a vote average of 7.6, it offers a unique perspective on outer space exploration and the achievements of the astronauts involved. It is a highly recommended choice for those interested in the history of space exploration.\\n- Score: 7.6\\n\\nThese movies meet the criteria of being about outer space exploration and having a vote average over 5. They are ordered from highest to lowest vote average, indicating their overall popularity and critical reception.\"\n",
      "}\n",
      "1. Interstellar\n",
      "- Justification: Interstellar is a highly acclaimed movie about outer space exploration with a vote average of 8.1, making it the highest-rated movie in the list. It explores the concept of interstellar travel and the challenges faced by a group of explorers. The high vote average indicates that it is a well-regarded movie in this genre.\n",
      "- Score: 8.1\n",
      "\n",
      "2. Gravity\n",
      "- Justification: Gravity is another popular movie about outer space exploration with a vote average of 7.3. It tells the story of two astronauts stranded in space after their shuttle is destroyed. The movie received critical acclaim for its stunning visuals and intense storytelling, making it a good choice for someone interested in outer space exploration.\n",
      "- Score: 7.3\n",
      "\n",
      "3. 2001: A Space Odyssey\n",
      "- Justification: 2001: A Space Odyssey is a classic movie in the genre of outer space exploration. With a vote average of 7.9, it is highly regarded for its groundbreaking visuals and thought-provoking storyline. It delves into the mysteries of space and the evolution of humanity, making it a must-watch for fans of this genre.\n",
      "- Score: 7.9\n",
      "\n",
      "4. Solaris\n",
      "- Justification: Solaris is a thought-provoking movie about space exploration with a vote average of 7.7. It explores the psychological effects of long-duration space travel and the mysteries of the Solaris space station. The movie received critical acclaim for its philosophical themes and atmospheric storytelling, making it a good choice for those interested in a deeper exploration of outer space.\n",
      "- Score: 7.7\n",
      "\n",
      "5. In the Shadow of the Moon\n",
      "- Justification: In the Shadow of the Moon is a documentary that combines archival footage and interviews with astronauts to provide an in-depth look at the Apollo moon missions. With a vote average of 7.6, it offers a unique perspective on outer space exploration and the achievements of the astronauts involved. It is a highly recommended choice for those interested in the history of space exploration.\n",
      "- Score: 7.6\n",
      "\n",
      "These movies meet the criteria of being about outer space exploration and having a vote average over 5. They are ordered from highest to lowest vote average, indicating their overall popularity and critical reception.\n"
     ]
    }
   ],
   "source": [
    "# Simple question\n",
    "question = \"A movie about outer space exploration with rating over 5\"\n",
    "response = growwer_media.run(question)\n",
    "print(response)"
   ]
  },
  {
   "cell_type": "code",
   "execution_count": 33,
   "metadata": {},
   "outputs": [
    {
     "name": "stdout",
     "output_type": "stream",
     "text": [
      "1. Interstellar\n",
      "- Justification: Interstellar is a highly acclaimed movie about outer space exploration with a vote average of 8.1, making it the highest-rated movie in the list. It explores the concept of interstellar travel and the challenges faced by a group of explorers. The high vote average indicates that it is a well-regarded movie in this genre.\n",
      "- Score: 8.1\n",
      "\n",
      "2. Gravity\n",
      "- Justification: Gravity is another popular movie about outer space exploration with a vote average of 7.3. It tells the story of two astronauts stranded in space after their shuttle is destroyed. The movie received critical acclaim for its stunning visuals and intense storytelling, making it a good choice for someone interested in outer space exploration.\n",
      "- Score: 7.3\n",
      "\n",
      "3. 2001: A Space Odyssey\n",
      "- Justification: 2001: A Space Odyssey is a classic movie in the genre of outer space exploration. With a vote average of 7.9, it is highly regarded for its groundbreaking visuals and thought-provoking storyline. It delves into the mysteries of space and the evolution of humanity, making it a must-watch for fans of this genre.\n",
      "- Score: 7.9\n",
      "\n",
      "4. Solaris\n",
      "- Justification: Solaris is a thought-provoking movie about space exploration with a vote average of 7.7. It explores the psychological effects of long-duration space travel and the mysteries of the Solaris space station. The movie received critical acclaim for its philosophical themes and atmospheric storytelling, making it a good choice for those interested in a deeper exploration of outer space.\n",
      "- Score: 7.7\n",
      "\n",
      "5. In the Shadow of the Moon\n",
      "- Justification: In the Shadow of the Moon is a documentary that combines archival footage and interviews with astronauts to provide an in-depth look at the Apollo moon missions. With a vote average of 7.6, it offers a unique perspective on outer space exploration and the achievements of the astronauts involved. It is a highly recommended choice for those interested in the history of space exploration.\n",
      "- Score: 7.6\n",
      "\n",
      "These movies meet the criteria of being about outer space exploration and having a vote average over 5. They are ordered from highest to lowest vote average, indicating their overall popularity and critical reception.\n"
     ]
    }
   ],
   "source": [
    "print(response)"
   ]
  },
  {
   "cell_type": "code",
   "execution_count": null,
   "metadata": {},
   "outputs": [],
   "source": []
  }
 ],
 "metadata": {
  "kernelspec": {
   "display_name": "growwer_copilot_dev",
   "language": "python",
   "name": "python3"
  },
  "language_info": {
   "codemirror_mode": {
    "name": "ipython",
    "version": 3
   },
   "file_extension": ".py",
   "mimetype": "text/x-python",
   "name": "python",
   "nbconvert_exporter": "python",
   "pygments_lexer": "ipython3",
   "version": "3.11.4"
  },
  "orig_nbformat": 4
 },
 "nbformat": 4,
 "nbformat_minor": 2
}
