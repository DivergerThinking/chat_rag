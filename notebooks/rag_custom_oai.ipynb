{
 "cells": [
  {
   "cell_type": "code",
   "execution_count": 5,
   "metadata": {},
   "outputs": [
    {
     "data": {
      "text/plain": [
       "True"
      ]
     },
     "execution_count": 5,
     "metadata": {},
     "output_type": "execute_result"
    }
   ],
   "source": [
    "import os\n",
    "from dotenv import load_dotenv\n",
    "\n",
    "load_dotenv()"
   ]
  },
  {
   "cell_type": "code",
   "execution_count": 99,
   "metadata": {},
   "outputs": [],
   "source": [
    "from chatrag.csv_meta_loader import CSVMetaLoader\n",
    "from langchain.text_splitter import RecursiveCharacterTextSplitter\n",
    "from langchain.indexes import VectorstoreIndexCreator\n",
    "from langchain_openai.embeddings import OpenAIEmbeddings\n",
    "from langchain_chroma import Chroma\n",
    "from openai import OpenAI\n",
    "import json"
   ]
  },
  {
   "cell_type": "code",
   "execution_count": 23,
   "metadata": {},
   "outputs": [],
   "source": [
    "csv_path=\"../data/movies_title_overview_vote.csv\"\n",
    "metadata_columns_dtypes={\"vote_average\": \"float\"}\n",
    "embedding = OpenAIEmbeddings(model=\"text-embedding-3-small\")"
   ]
  },
  {
   "cell_type": "code",
   "execution_count": 24,
   "metadata": {},
   "outputs": [],
   "source": [
    "loader = CSVMetaLoader(csv_path, metadata_columns_dtypes=metadata_columns_dtypes)\n",
    "text_splitter = RecursiveCharacterTextSplitter(chunk_size=5000, chunk_overlap=0)\n",
    "index_creator = VectorstoreIndexCreator(text_splitter=text_splitter, embedding=embedding, vectorstore_cls=Chroma)"
   ]
  },
  {
   "cell_type": "code",
   "execution_count": 25,
   "metadata": {},
   "outputs": [],
   "source": [
    "docsearch = index_creator.from_loaders([loader])"
   ]
  },
  {
   "cell_type": "code",
   "execution_count": 28,
   "metadata": {},
   "outputs": [],
   "source": [
    "test = docsearch.vectorstore.similarity_search(\"What is the best movie ever?\", k=4, filter={\"vote_average\": {\"$gte\": 9}})"
   ]
  },
  {
   "cell_type": "code",
   "execution_count": 33,
   "metadata": {},
   "outputs": [
    {
     "name": "stdout",
     "output_type": "stream",
     "text": [
      "title: Stiff Upper Lips\n",
      "overview: Stiff Upper Lips is a broad parody of British period films, especially the lavish Merchant-Ivory productions of the 'eighties and early 'nineties. Although it specifically targets A Room with a View, Chariots of Fire, Maurice, A Passage to India, and many other films, in a more general way Stiff Upper Lips satirises popular perceptions of certain Edwardian traits: propriety, sexual repression, xenophobia, and class snobbery.\n",
      "vote_average: 10.0\n",
      "\n",
      "title: Sardaarji\n",
      "overview: A ghost hunter uses bottles to capture troublesome spirits.\n",
      "vote_average: 9.5\n",
      "\n",
      "title: Little Big Top\n",
      "overview: An aging out of work clown returns to his small hometown, resigned to spend the rest of his days in a drunken stupor. But when his passion for clowning is reawakened by the local amateur circus he finds his smile.\n",
      "vote_average: 10.0\n",
      "\n",
      "title: One Man's Hero\n",
      "overview: One Man's Hero tells the little-known story of the \"St. Patrick's Battalion\" or \"San Patricios,\" a group of mostly Irish and other immigrants of the Catholic faith who deserted to Mexico after encountering religious and ethnic prejudice in the U.S. Army during the Mexican-American War. The plot centers around the personal story of John Riley, an Irishman who had been a sergeant in the American Army who is commissioned as a captain in the Mexican army and commands the battalion, as he leads his men in battle and struggles with authorities on both sides of the border\n",
      "vote_average: 9.3\n"
     ]
    }
   ],
   "source": [
    "print(\"\\n\\n\".join([doc.page_content for doc in test]))\n"
   ]
  },
  {
   "cell_type": "code",
   "execution_count": 104,
   "metadata": {},
   "outputs": [],
   "source": [
    "def search_movies(descripcion_pelicula: str, n_recomendaciones: int = 5, puntuacion_minima: float = 0) -> str:\n",
    "    docs = docsearch.vectorstore.similarity_search(\n",
    "        descripcion_pelicula, k=n_recomendaciones, filter={\"vote_average\": {\"$gte\": puntuacion_minima}}\n",
    "    )\n",
    "    return \"\\n\\n\".join([doc.page_content for doc in docs])"
   ]
  },
  {
   "cell_type": "code",
   "execution_count": 105,
   "metadata": {},
   "outputs": [],
   "source": [
    "tool_name_dict = {\"search_movies\": search_movies}\n",
    "tools = [\n",
    "    {\n",
    "        \"type\": \"function\",\n",
    "        \"function\": {\n",
    "            \"name\": \"search_movies\",\n",
    "            \"description\": \"Search movies based on a description or synopsis and optionally a minimum rating.\",\n",
    "            \"parameters\": {\n",
    "                \"type\": \"object\",\n",
    "                \"properties\": {\n",
    "                    \"descripcion_pelicula\": {\n",
    "                        \"type\": \"string\",\n",
    "                        \"description\": \"Descripcion o sinopsis del tipo de película a buscar\",\n",
    "                    },\n",
    "                    \"puntuacion_minima\": {\n",
    "                        \"type\": \"number\",\n",
    "                        \"description\": \"Puntuación mínima de la película del 0 al 10.\",\n",
    "                    },\n",
    "                    \"n_recomendaciones\": {\n",
    "                        \"type\": \"integer\",\n",
    "                        \"description\": \"Número de peliculas recomendadas a recibir.\",\n",
    "                    },\n",
    "                },\n",
    "                \"required\": [\"descripcion_pelicula\"],\n",
    "            },\n",
    "        },\n",
    "    }\n",
    "]"
   ]
  },
  {
   "cell_type": "code",
   "execution_count": 45,
   "metadata": {},
   "outputs": [],
   "source": [
    "oai_client = OpenAI()"
   ]
  },
  {
   "cell_type": "code",
   "execution_count": 167,
   "metadata": {},
   "outputs": [],
   "source": [
    "from openai.types.chat.chat_completion_message_param import ChatCompletionMessageParam\n",
    "from openai.types.chat.chat_completion_message import ChatCompletionMessage"
   ]
  },
  {
   "cell_type": "code",
   "execution_count": 172,
   "metadata": {},
   "outputs": [],
   "source": [
    "def chatbot(history: list[dict[str, str]|ChatCompletionMessageParam|ChatCompletionMessage]) -> str:\n",
    "    response = oai_client.chat.completions.create(\n",
    "        # model=\"gpt-4-turbo\",\n",
    "        model=\"gpt-3.5-turbo-0125\",\n",
    "        messages=history, #type: ignore\n",
    "        tools=tools, #type: ignore\n",
    "        tool_choice=\"auto\",\n",
    "    )\n",
    "    choice = response.choices[0]\n",
    "    if choice.finish_reason == \"tool_calls\" and choice.message.tool_calls:\n",
    "        tool_call = choice.message.tool_calls[0]\n",
    "        function_name = tool_call.function.name\n",
    "        arguments_json = tool_call.function.arguments\n",
    "        # Convert the JSON string of arguments to a dictionary\n",
    "        arguments_dict = json.loads(arguments_json)\n",
    "        function = tool_name_dict[function_name]\n",
    "        context = function(**arguments_dict)\n",
    "        history = (\n",
    "            history\n",
    "            + [choice.message]\n",
    "            + [{\"role\": \"tool\", \"tool_call_id\": tool_call.id, \"content\": context}]\n",
    "        )\n",
    "        print(\"vuelta\")\n",
    "        return chatbot(history)\n",
    "    elif response.choices[0].message.content:\n",
    "        return response.choices[0].message.content\n",
    "    else:\n",
    "        raise ValueError(\"Hay algo mal en el objeto response:\\n\", response)"
   ]
  },
  {
   "cell_type": "code",
   "execution_count": 173,
   "metadata": {},
   "outputs": [],
   "source": [
    "system_prompt = \"\"\"Eres un asistente de peliculas. Tu tarea es guiar al usuario para utilizar la película que mejor se ajuste a sus requisitos.\n",
    "\n",
    "Usa la herramienta de busqueda de herramienta cuando hayas recogido suficiente información. Entonces, responde siguiendo estas reglas:\n",
    "- Responde en el idioma del mensaje del usuario.\n",
    "- Cuando tengas las propuestas de películas, evalua como de buena o mala propuesta es en una frase corta.\n",
    "- Ofrece la opción de refinar la solicitud con nuevos requisitos si las sugerencias no son buenas.\n",
    "- Si las sugerencias son buenas, simplemente pregunta al usuario si está satisfecho.\"\"\"\n",
    "\n",
    "historial_msjs = [{\"role\": \"system\", \"content\": system_prompt}, {\"role\": \"user\", \"content\": \"Hola, quiero ver una pelicula sobre vaqueros en el espacio.\"}]"
   ]
  },
  {
   "cell_type": "code",
   "execution_count": 174,
   "metadata": {},
   "outputs": [
    {
     "name": "stdout",
     "output_type": "stream",
     "text": [
      "vuelta\n"
     ]
    }
   ],
   "source": [
    "test_out = chatbot(historial_msjs)"
   ]
  },
  {
   "cell_type": "code",
   "execution_count": 176,
   "metadata": {},
   "outputs": [
    {
     "name": "stdout",
     "output_type": "stream",
     "text": [
      "Te puedo ofrecer algunas películas relacionadas con vaqueros que podrían interesarte:\n",
      "\n",
      "1. **Hidalgo** - Ambientada en 1890, narra la historia de un mensajero del Pony Express que viaja a Arabia para competir con su caballo, Hidalgo, en una carrera peligrosa alrededor del mundo. *(Puntuación: 6.5)*\n",
      "\n",
      "2. **All the Pretty Horses** - Situada en 1949, sigue a un joven texano llamado John Grady que se encuentra sin hogar y se aventura al sur de la frontera en busca de una nueva vida como vaquero. *(Puntuación: 5.8)*\n",
      "\n",
      "3. **Saving Private Perez** - Un hombre llamado Julián Pérez debe cumplir una peligrosa misión en Irak para salvar a su hermano soldado, comandando un grupo de élite reclutado en Sinaloa. *(Puntuación: 6.1)*\n",
      "\n",
      "¿Alguna de estas películas es lo que estás buscando?\n"
     ]
    }
   ],
   "source": [
    "print(test_out)"
   ]
  },
  {
   "cell_type": "code",
   "execution_count": null,
   "metadata": {},
   "outputs": [],
   "source": []
  }
 ],
 "metadata": {
  "kernelspec": {
   "display_name": "chatrag_dev",
   "language": "python",
   "name": "python3"
  },
  "language_info": {
   "codemirror_mode": {
    "name": "ipython",
    "version": 3
   },
   "file_extension": ".py",
   "mimetype": "text/x-python",
   "name": "python",
   "nbconvert_exporter": "python",
   "pygments_lexer": "ipython3",
   "version": "3.11.4"
  }
 },
 "nbformat": 4,
 "nbformat_minor": 2
}
